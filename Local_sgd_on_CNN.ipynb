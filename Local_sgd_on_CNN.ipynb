{
 "cells": [
  {
   "cell_type": "code",
   "execution_count": 1,
   "metadata": {},
   "outputs": [
    {
     "name": "stderr",
     "output_type": "stream",
     "text": [
      "Using TensorFlow backend.\n"
     ]
    }
   ],
   "source": [
    "\n",
    "from __future__ import print_function\n",
    "import keras\n",
    "from keras.datasets import mnist\n",
    "from keras.models import Sequential\n",
    "import tensorflow as tf\n",
    "from keras.layers import Dense, Dropout, Flatten, Activation\n",
    "from keras.layers import Conv2D, MaxPooling2D\n",
    "from keras import backend as K\n",
    "import matplotlib.pyplot as plt\n",
    "import numpy as np\n",
    "from sklearn.utils import shuffle\n",
    "import sys\n"
   ]
  },
  {
   "cell_type": "code",
   "execution_count": 2,
   "metadata": {},
   "outputs": [],
   "source": [
    "# input image dimensions\n",
    "img_rows, img_cols = 28, 28"
   ]
  },
  {
   "cell_type": "code",
   "execution_count": 3,
   "metadata": {},
   "outputs": [],
   "source": [
    "batch_size = 128\n",
    "num_classes = 10\n",
    "epochs = 50\n"
   ]
  },
  {
   "cell_type": "code",
   "execution_count": 4,
   "metadata": {},
   "outputs": [],
   "source": [
    "# the data, split between train and test sets\n",
    "(x_train, y_train), (x_test, y_test) = mnist.load_data()"
   ]
  },
  {
   "cell_type": "code",
   "execution_count": 5,
   "metadata": {},
   "outputs": [
    {
     "data": {
      "text/plain": [
       "(60000, 28, 28)"
      ]
     },
     "execution_count": 5,
     "metadata": {},
     "output_type": "execute_result"
    }
   ],
   "source": [
    "x_train.shape"
   ]
  },
  {
   "cell_type": "code",
   "execution_count": 6,
   "metadata": {},
   "outputs": [],
   "source": [
    "iterations = np.ceil((x_train.shape[0]*epochs)/batch_size)\n",
    "\n",
    "iterations_per_epoch = np.ceil((x_train.shape[0])/batch_size)\n",
    "\n",
    "num_batch = int(x_train.shape[0]/batch_size)"
   ]
  },
  {
   "cell_type": "code",
   "execution_count": 7,
   "metadata": {},
   "outputs": [],
   "source": [
    "#x_train = np.reshape(np.array(x_train), (60000, 784))\n",
    "#x_test = np.reshape(np.array(x_test), (10000, 784))\n",
    "x_train = x_train / 255\n",
    "x_test = x_test / 255"
   ]
  },
  {
   "cell_type": "code",
   "execution_count": 8,
   "metadata": {},
   "outputs": [],
   "source": [
    "x_train = x_train.reshape(60000,28,28,1)\n",
    "x_test = x_test.reshape(10000,28,28,1)"
   ]
  },
  {
   "cell_type": "code",
   "execution_count": 9,
   "metadata": {},
   "outputs": [],
   "source": [
    "y_train = keras.utils.to_categorical(y_train, num_classes)\n",
    "y_test = keras.utils.to_categorical(y_test, num_classes)"
   ]
  },
  {
   "cell_type": "code",
   "execution_count": 10,
   "metadata": {},
   "outputs": [
    {
     "data": {
      "text/plain": [
       "array([[0., 0., 0., ..., 0., 0., 0.],\n",
       "       [1., 0., 0., ..., 0., 0., 0.],\n",
       "       [0., 0., 0., ..., 0., 0., 0.],\n",
       "       ...,\n",
       "       [0., 0., 0., ..., 0., 0., 0.],\n",
       "       [0., 0., 0., ..., 0., 0., 0.],\n",
       "       [0., 0., 0., ..., 0., 1., 0.]], dtype=float32)"
      ]
     },
     "execution_count": 10,
     "metadata": {},
     "output_type": "execute_result"
    }
   ],
   "source": [
    "y_train"
   ]
  },
  {
   "cell_type": "code",
   "execution_count": 11,
   "metadata": {},
   "outputs": [],
   "source": [
    "# Function to create individual model\n",
    "def k_model():\n",
    "    model = Sequential()\n",
    "    #add model layers\n",
    "    model.add(Conv2D(64, kernel_size=3, activation='relu', input_shape=(28,28,1)))\n",
    "    model.add(Conv2D(32, kernel_size=3, activation='relu'))\n",
    "    model.add(Flatten())\n",
    "    model.add(Dense(10, activation='softmax'))\n",
    "    return model\n",
    "\n",
    "# def k_model(output_dim,input_dim):\n",
    "#     model = Sequential() \n",
    "#     model.add(Dense(1000, input_dim=input_dim))\n",
    "#     model.add(Activation('relu'))\n",
    "#     model.add(Dense(output_dim))\n",
    "#     model.add(Activation('softmax'))\n",
    "#     return model"
   ]
  },
  {
   "cell_type": "code",
   "execution_count": 12,
   "metadata": {},
   "outputs": [],
   "source": [
    "# Function to show the loss plot of training and validation set\n",
    "def loss(history):\n",
    "    plt.plot(history.history['loss'])\n",
    "    plt.plot(history.history['val_loss'])\n",
    "    plt.title('Model loss')\n",
    "    plt.ylabel('Loss')\n",
    "    plt.xlabel('Epoch')\n",
    "    plt.legend(['Train', 'Test'], loc='upper left')\n",
    "    plt.show()"
   ]
  },
  {
   "cell_type": "code",
   "execution_count": 13,
   "metadata": {},
   "outputs": [],
   "source": [
    "gpu_options = tf.GPUOptions(per_process_gpu_memory_fraction=0.7)\n",
    "sess = tf.Session(config=tf.ConfigProto(gpu_options=gpu_options))"
   ]
  },
  {
   "cell_type": "markdown",
   "metadata": {},
   "source": [
    "### Baseline model \n",
    "Got one layer that maps input to 10 classes"
   ]
  },
  {
   "cell_type": "code",
   "execution_count": 14,
   "metadata": {},
   "outputs": [
    {
     "name": "stdout",
     "output_type": "stream",
     "text": [
      "WARNING:tensorflow:From /opt/anaconda3/lib/python3.7/site-packages/keras/backend/tensorflow_backend.py:74: The name tf.get_default_graph is deprecated. Please use tf.compat.v1.get_default_graph instead.\n",
      "\n",
      "WARNING:tensorflow:From /opt/anaconda3/lib/python3.7/site-packages/keras/backend/tensorflow_backend.py:517: The name tf.placeholder is deprecated. Please use tf.compat.v1.placeholder instead.\n",
      "\n",
      "WARNING:tensorflow:From /opt/anaconda3/lib/python3.7/site-packages/keras/backend/tensorflow_backend.py:4138: The name tf.random_uniform is deprecated. Please use tf.random.uniform instead.\n",
      "\n",
      "WARNING:tensorflow:From /opt/anaconda3/lib/python3.7/site-packages/keras/optimizers.py:790: The name tf.train.Optimizer is deprecated. Please use tf.compat.v1.train.Optimizer instead.\n",
      "\n",
      "WARNING:tensorflow:From /opt/anaconda3/lib/python3.7/site-packages/keras/backend/tensorflow_backend.py:3295: The name tf.log is deprecated. Please use tf.math.log instead.\n",
      "\n",
      "WARNING:tensorflow:From /opt/anaconda3/lib/python3.7/site-packages/tensorflow_core/python/ops/math_grad.py:1424: where (from tensorflow.python.ops.array_ops) is deprecated and will be removed in a future version.\n",
      "Instructions for updating:\n",
      "Use tf.where in 2.0, which has the same broadcast rule as np.where\n",
      "WARNING:tensorflow:From /opt/anaconda3/lib/python3.7/site-packages/keras/backend/tensorflow_backend.py:986: The name tf.assign_add is deprecated. Please use tf.compat.v1.assign_add instead.\n",
      "\n",
      "WARNING:tensorflow:From /opt/anaconda3/lib/python3.7/site-packages/keras/backend/tensorflow_backend.py:973: The name tf.assign is deprecated. Please use tf.compat.v1.assign instead.\n",
      "\n",
      "Train on 60000 samples, validate on 10000 samples\n",
      "Epoch 1/3\n",
      "WARNING:tensorflow:From /opt/anaconda3/lib/python3.7/site-packages/keras/backend/tensorflow_backend.py:174: The name tf.get_default_session is deprecated. Please use tf.compat.v1.get_default_session instead.\n",
      "\n",
      "WARNING:tensorflow:From /opt/anaconda3/lib/python3.7/site-packages/keras/backend/tensorflow_backend.py:190: The name tf.global_variables is deprecated. Please use tf.compat.v1.global_variables instead.\n",
      "\n",
      "WARNING:tensorflow:From /opt/anaconda3/lib/python3.7/site-packages/keras/backend/tensorflow_backend.py:199: The name tf.is_variable_initialized is deprecated. Please use tf.compat.v1.is_variable_initialized instead.\n",
      "\n",
      "WARNING:tensorflow:From /opt/anaconda3/lib/python3.7/site-packages/keras/backend/tensorflow_backend.py:206: The name tf.variables_initializer is deprecated. Please use tf.compat.v1.variables_initializer instead.\n",
      "\n",
      "60000/60000 [==============================] - 133s 2ms/step - loss: 0.4672 - acc: 0.8673 - val_loss: 0.2858 - val_acc: 0.9189\n",
      "Epoch 2/3\n",
      "60000/60000 [==============================] - 145s 2ms/step - loss: 0.2724 - acc: 0.9221 - val_loss: 0.1841 - val_acc: 0.9488\n",
      "Epoch 3/3\n",
      "60000/60000 [==============================] - 158s 3ms/step - loss: 0.1539 - acc: 0.9557 - val_loss: 0.1010 - val_acc: 0.9710\n"
     ]
    },
    {
     "data": {
      "text/plain": [
       "<keras.callbacks.History at 0x7f7030350c10>"
      ]
     },
     "execution_count": 14,
     "metadata": {},
     "output_type": "execute_result"
    }
   ],
   "source": [
    "model = k_model()\n",
    "model.compile(loss=keras.losses.categorical_crossentropy,optimizer=keras.optimizers.SGD(lr=0.01, momentum=0.0, nesterov=False),metrics=['accuracy'])\n",
    "model.fit(x_train, y_train, validation_data = (x_test, y_test), epochs = 3)"
   ]
  },
  {
   "cell_type": "markdown",
   "metadata": {},
   "source": [
    "## The baseline model gives an accuracy of 91.36% at the end of 50 epochs"
   ]
  },
  {
   "cell_type": "markdown",
   "metadata": {},
   "source": [
    "### Local SGD\n",
    "\n",
    "Below is the list of variables:\n",
    "1. Number of nodes\n",
    "2. Learning rate\n",
    "3. Time step\n",
    "4. Data - Distributed/Not distributed"
   ]
  },
  {
   "cell_type": "code",
   "execution_count": 23,
   "metadata": {},
   "outputs": [],
   "source": [
    "def local_sgd(n,t,alpha,epoch,batch_size,train_data,test_data): \n",
    "    '''\n",
    "    This function performs local sgd. \n",
    "    \n",
    "    Input :\n",
    "       model : (keras model) The model that is to be placed on each node\n",
    "       n : number of nodes\n",
    "       epoch : the number of epochs\n",
    "       batch_size : size of the batch for each iteration\n",
    "       train_data : a tuple containing the training X and y\n",
    "       test_data : a tuple containing the test X and y\n",
    "       \n",
    "    Output:\n",
    "       Returns a tuple containing Training and Test loss\n",
    "    '''\n",
    "    \n",
    "    # Initialising the variables \n",
    "    c = 0\n",
    "    train_loss = []\n",
    "    test_loss = []\n",
    "    model_data = []\n",
    "    models = []\n",
    "    \n",
    "    # Preparing n sets of data by shuffling and creating a list models having n instances of model\n",
    "    for i in range(n):\n",
    "        model_data.append(shuffle(train_data[0],train_data[1]))\n",
    "        model = k_model()\n",
    "        models.append(model)\n",
    "    \n",
    "    # Compiling all the models\n",
    "    for i in models:\n",
    "        i.compile(loss = keras.losses.categorical_crossentropy,\n",
    "                    optimizer = keras.optimizers.SGD(lr = alpha, momentum = 0.0, nesterov = False),\n",
    "                    metrics=['accuracy'])\n",
    "      \n",
    "    \n",
    "    # Training and averaging the weights\n",
    "    num_epoch = 0 # keeps track of number of epochs\n",
    "    itr = 0 # keeps track of number of iterations\n",
    "    c = 0 #keeps track of batch number of the data to process\n",
    "    \n",
    "    while (num_epoch != epoch):\n",
    "        while (True):\n",
    "            for k in range(n):\n",
    "                batch_x = model_data[k][0][c * batch_size: (c + 1) * batch_size]\n",
    "                batch_y = model_data[k][1][c * batch_size: (c + 1) * batch_size]\n",
    "                models[k].train_on_batch(batch_x, batch_y)\n",
    "\n",
    "            c += 1\n",
    "            itr += 1\n",
    "            c = c % num_batch\n",
    "\n",
    "            if (itr % t == 0):\n",
    "                weights = []\n",
    "                for l in range(n):\n",
    "                    weights.append(models[l].get_weights())\n",
    "                    \n",
    "\n",
    "                new_weight = weights[0]\n",
    "                \n",
    "                # Averaging the weights and assigning it to each model on the nodes\n",
    "                for l in range(1,n):\n",
    "                        new_weight = np.array(new_weight) + np.array(weights[l])\n",
    "\n",
    "         \n",
    "                for l in range(n):\n",
    "                    models[l].set_weights(list(np.array(new_weight)/n))\n",
    "                    \n",
    "                \n",
    "                \n",
    "            if (c == 0):\n",
    "    \n",
    "                num_epoch += 1\n",
    "                loss_tr = models[0].evaluate(train_data[0],train_data[1])\n",
    "                loss_te = models[0].evaluate(test_data[0],test_data[1])\n",
    "                print (\"Epoch \" + str(num_epoch) + \" of \" + str(epoch) + \" : train loss - \" + str(loss_tr[0]) + \" : train accuracy - \" + str(loss_tr[1]) + \" test loss - \" + str(loss_te[0])+ \" test accuracy - \" + str(loss_te[1]))\n",
    "                train_loss.append(loss_tr[0])\n",
    "                test_loss.append(loss_te[0])\n",
    "                \n",
    "                break\n",
    "    \n",
    "    \n",
    "    return (train_loss,test_loss)"
   ]
  },
  {
   "cell_type": "markdown",
   "metadata": {},
   "source": [
    "### The below 4 cells runs the local SGD model for 2,4,8,16 number of nodes and tunes the learning rate by taking 4 different values for each"
   ]
  },
  {
   "cell_type": "code",
   "execution_count": null,
   "metadata": {},
   "outputs": [
    {
     "name": "stdout",
     "output_type": "stream",
     "text": [
      "60000/60000 [==============================] - 56s 931us/step\n",
      "10000/10000 [==============================] - 8s 824us/step\n",
      "Epoch 1 of 10 : train loss - 2.2523195050557456 : train accuracy - 0.4729833333333333 test loss - 2.251601599884033 test accuracy - 0.4767\n",
      "60000/60000 [==============================] - 53s 877us/step\n",
      "10000/10000 [==============================] - 10s 981us/step\n",
      "Epoch 2 of 10 : train loss - 1.6757182125727335 : train accuracy - 0.7359833333333333 test loss - 1.6624273334503175 test accuracy - 0.7457\n",
      "60000/60000 [==============================] - 50s 829us/step\n",
      "10000/10000 [==============================] - 8s 811us/step\n",
      "Epoch 3 of 10 : train loss - 0.5630795479774475 : train accuracy - 0.8545166666666667 test loss - 0.5342979951620102 test accuracy - 0.8639\n",
      "60000/60000 [==============================] - 54s 901us/step\n",
      "10000/10000 [==============================] - 12s 1ms/step\n",
      "Epoch 4 of 10 : train loss - 0.4285592815001806 : train accuracy - 0.8796833333333334 test loss - 0.40302784090042115 test accuracy - 0.8864\n",
      "60000/60000 [==============================] - 48s 797us/step\n",
      "10000/10000 [==============================] - 8s 824us/step\n",
      "Epoch 5 of 10 : train loss - 0.3870762406647205 : train accuracy - 0.8897333333333334 test loss - 0.36374233511090276 test accuracy - 0.8959\n",
      "60000/60000 [==============================] - 58s 966us/step\n",
      "10000/10000 [==============================] - 11s 1ms/step\n",
      "Epoch 6 of 10 : train loss - 0.3669901407678922 : train accuracy - 0.8943833333333333 test loss - 0.3458568725824356 test accuracy - 0.9\n",
      "60000/60000 [==============================] - 60s 1ms/step\n",
      "10000/10000 [==============================] - 9s 859us/step\n",
      "Epoch 7 of 10 : train loss - 0.3535625721176465 : train accuracy - 0.8983333333333333 test loss - 0.3338793765664101 test accuracy - 0.903\n",
      "60000/60000 [==============================] - 50s 832us/step\n",
      "10000/10000 [==============================] - 8s 804us/step\n",
      "Epoch 8 of 10 : train loss - 0.34378670723636945 : train accuracy - 0.9017 test loss - 0.3255096510082483 test accuracy - 0.906\n",
      "60000/60000 [==============================] - 49s 814us/step\n",
      "10000/10000 [==============================] - 8s 837us/step\n",
      "Epoch 9 of 10 : train loss - 0.3363458040992419 : train accuracy - 0.9040166666666667 test loss - 0.3192869056224823 test accuracy - 0.9083\n",
      "60000/60000 [==============================] - 58s 964us/step\n",
      "10000/10000 [==============================] - 9s 924us/step\n",
      "Epoch 10 of 10 : train loss - 0.33031988635460535 : train accuracy - 0.9055666666666666 test loss - 0.314034934464097 test accuracy - 0.9106\n"
     ]
    }
   ],
   "source": [
    "\n",
    "\n",
    "local_2_10_001 = local_sgd(2,10,0.001,10,128,(x_train,y_train),(x_test,y_test))\n",
    "\n",
    "local_2_10_01 = local_sgd(2,10,0.01,10,128,(x_train,y_train),(x_test,y_test))\n",
    "\n",
    "local_2_10_05 = local_sgd(2,10,0.05,10,128,(x_train,y_train),(x_test,y_test))\n",
    "\n",
    "local_2_10_1 = local_sgd(2,10,0.1,10,128,(x_train,y_train),(x_test,y_test))\n",
    "\n"
   ]
  },
  {
   "cell_type": "code",
   "execution_count": null,
   "metadata": {
    "scrolled": true
   },
   "outputs": [],
   "source": [
    "\n",
    "local_4_10_001 = local_sgd(4,10,0.001,10,128,(x_train,y_train),(x_test,y_test))\n",
    "\n",
    "local_4_10_01 = local_sgd(4,10,0.01,10,128,(x_train,y_train),(x_test,y_test))\n",
    "\n",
    "local_4_10_05 = local_sgd(4,10,0.05,10,128,(x_train,y_train),(x_test,y_test))\n",
    "\n",
    "local_4_10_1 = local_sgd(4,10,0.1,10,128,(x_train,y_train),(x_test,y_test))"
   ]
  },
  {
   "cell_type": "code",
   "execution_count": null,
   "metadata": {},
   "outputs": [
    {
     "name": "stdout",
     "output_type": "stream",
     "text": [
      "60000/60000 [==============================] - 44s 729us/step\n",
      "10000/10000 [==============================] - 7s 654us/step\n",
      "Epoch 1 of 10 : train loss - 2.3007441221872966 : train accuracy - 0.2907166666666667 test loss - 2.300712823867798 test accuracy - 0.3005\n",
      "60000/60000 [==============================] - 41s 681us/step\n",
      "10000/10000 [==============================] - 7s 681us/step\n",
      "Epoch 2 of 10 : train loss - 2.2974891545613607 : train accuracy - 0.36785 test loss - 2.29740382194519 test accuracy - 0.3757\n",
      "60000/60000 [==============================] - 43s 712us/step\n",
      "10000/10000 [==============================] - 7s 688us/step\n",
      "Epoch 3 of 10 : train loss - 2.288085211435954 : train accuracy - 0.5078833333333334 test loss - 2.2878441173553465 test accuracy - 0.5055\n",
      "60000/60000 [==============================] - 46s 769us/step\n",
      "10000/10000 [==============================] - 8s 817us/step\n",
      "Epoch 4 of 10 : train loss - 2.2419502438863117 : train accuracy - 0.5780833333333333 test loss - 2.240922177886963 test accuracy - 0.5803\n",
      "60000/60000 [==============================] - 47s 783us/step\n",
      "10000/10000 [==============================] - 7s 715us/step\n",
      "Epoch 5 of 10 : train loss - 1.6643538153966269 : train accuracy - 0.7395833333333334 test loss - 1.652411696434021 test accuracy - 0.7447\n",
      "60000/60000 [==============================] - 43s 712us/step\n",
      "10000/10000 [==============================] - 7s 695us/step\n",
      "Epoch 6 of 10 : train loss - 0.5640770011107127 : train accuracy - 0.8528166666666667 test loss - 0.5381092513561249 test accuracy - 0.862\n",
      "60000/60000 [==============================] - 43s 715us/step\n",
      "10000/10000 [==============================] - 7s 704us/step\n",
      "Epoch 7 of 10 : train loss - 0.42951472218434017 : train accuracy - 0.8782833333333333 test loss - 0.40620463293790815 test accuracy - 0.8848\n",
      "60000/60000 [==============================] - 44s 728us/step\n",
      "10000/10000 [==============================] - 7s 737us/step\n",
      "Epoch 8 of 10 : train loss - 0.3882285018225511 : train accuracy - 0.8890833333333333 test loss - 0.3667820380926132 test accuracy - 0.896\n",
      "60000/60000 [==============================] - 41s 683us/step\n",
      "10000/10000 [==============================] - 8s 750us/step\n",
      "Epoch 9 of 10 : train loss - 0.367369866001606 : train accuracy - 0.89535 test loss - 0.34745361834168437 test accuracy - 0.9007\n",
      "60000/60000 [==============================] - 42s 699us/step\n",
      "10000/10000 [==============================] - 6s 649us/step\n",
      "Epoch 10 of 10 : train loss - 0.3541195240358512 : train accuracy - 0.8989333333333334 test loss - 0.3350749412178993 test accuracy - 0.9061\n",
      "60000/60000 [==============================] - 43s 717us/step\n",
      "10000/10000 [==============================] - 7s 731us/step\n",
      "Epoch 1 of 10 : train loss - 0.37725280159612495 : train accuracy - 0.8876166666666667 test loss - 0.3560380665302277 test accuracy - 0.8942\n",
      "60000/60000 [==============================] - 44s 726us/step\n",
      "10000/10000 [==============================] - 7s 692us/step\n",
      "Epoch 2 of 10 : train loss - 0.3413261119057735 : train accuracy - 0.8990333333333334 test loss - 0.3272240488767624 test accuracy - 0.9026\n",
      "60000/60000 [==============================] - 45s 758us/step\n",
      "10000/10000 [==============================] - 7s 722us/step\n",
      "Epoch 3 of 10 : train loss - 0.3172427730416258 : train accuracy - 0.9067166666666666 test loss - 0.3062980809032917 test accuracy - 0.9112\n",
      "60000/60000 [==============================] - 42s 700us/step\n",
      "10000/10000 [==============================] - 7s 707us/step\n",
      "Epoch 4 of 10 : train loss - 0.300115103807052 : train accuracy - 0.91325 test loss - 0.29096588852107524 test accuracy - 0.9166\n",
      "60000/60000 [==============================] - 43s 717us/step\n",
      "10000/10000 [==============================] - 8s 786us/step\n",
      "Epoch 5 of 10 : train loss - 0.2829068288842837 : train accuracy - 0.9210666666666667 test loss - 0.27889162087142466 test accuracy - 0.9208\n"
     ]
    }
   ],
   "source": [
    "\n",
    "local_8_10_001 = local_sgd(8,10,0.001,10,128,(x_train,y_train),(x_test,y_test))\n",
    "\n",
    "local_8_10_01 = local_sgd(8,10,0.01,10,128,(x_train,y_train),(x_test,y_test))\n",
    "\n",
    "local_8_10_05 = local_sgd(8,10,0.05,10,128,(x_train,y_train),(x_test,y_test))\n",
    "\n",
    "local_8_10_1 = local_sgd(8,10,0.1,10,128,(x_train,y_train),(x_test,y_test))"
   ]
  },
  {
   "cell_type": "code",
   "execution_count": null,
   "metadata": {},
   "outputs": [],
   "source": [
    "\n",
    "local_16_10_001 = local_sgd(16,10,0.001,10,128,(x_train,y_train),(x_test,y_test))\n",
    "\n",
    "local_16_10_01 = local_sgd(16,10,0.01,10,128,(x_train,y_train),(x_test,y_test))\n",
    "\n",
    "local_16_10_05 = local_sgd(16,10,0.05,10,128,(x_train,y_train),(x_test,y_test))\n",
    "\n",
    "local_16_10_1 = local_sgd(16,10,0.1,10,128,(x_train,y_train),(x_test,y_test))"
   ]
  },
  {
   "cell_type": "code",
   "execution_count": 32,
   "metadata": {},
   "outputs": [],
   "source": [
    "# Function to show the loss plot of training and validation set\n",
    "def combined_loss(losses,description):\n",
    "    for i in losses :\n",
    "        plt.plot(i[0])\n",
    "        plt.title('Train loss')\n",
    "        \n",
    "    plt.ylabel('Loss')\n",
    "    plt.xlabel('Epoch')\n",
    "    plt.legend(description, loc='upper left')\n",
    "    plt.show()\n",
    "    \n",
    "    for i in losses :\n",
    "        plt.plot(i[1])\n",
    "        plt.title('Test loss')\n",
    "        \n",
    "    plt.ylabel('Loss')\n",
    "    plt.xlabel('Epoch')\n",
    "    plt.legend(description, loc='upper left')\n",
    "    plt.show()"
   ]
  },
  {
   "cell_type": "markdown",
   "metadata": {},
   "source": [
    "### Train test loss for node = 2"
   ]
  },
  {
   "cell_type": "code",
   "execution_count": 33,
   "metadata": {},
   "outputs": [
    {
     "data": {
      "image/png": "[encoded data removed]",
      "text/plain": [
       "<Figure size 432x288 with 1 Axes>"
      ]
     },
     "metadata": {
      "needs_background": "light"
     },
     "output_type": "display_data"
    },
    {
     "data": {
      "image/png": "[encoded data removed]",
      "text/plain": [
       "<Figure size 432x288 with 1 Axes>"
      ]
     },
     "metadata": {
      "needs_background": "light"
     },
     "output_type": "display_data"
    }
   ],
   "source": [
    "losses_2 = [local_2_10_001,local_2_10_01,local_2_10_05,local_2_10_1]\n",
    "desc = ['lr = 0.001','lr = 0.01','lr = 0.05','lr = 0.1']\n",
    "combined_loss(losses_2,desc)"
   ]
  },
  {
   "cell_type": "markdown",
   "metadata": {},
   "source": [
    "### Train test loss for node = 4"
   ]
  },
  {
   "cell_type": "code",
   "execution_count": 34,
   "metadata": {},
   "outputs": [
    {
     "data": {
      "image/png": "[encoded data removed]",
      "text/plain": [
       "<Figure size 432x288 with 1 Axes>"
      ]
     },
     "metadata": {
      "needs_background": "light"
     },
     "output_type": "display_data"
    },
    {
     "data": {
      "image/png": "[encoded data removed]",
      "text/plain": [
       "<Figure size 432x288 with 1 Axes>"
      ]
     },
     "metadata": {
      "needs_background": "light"
     },
     "output_type": "display_data"
    }
   ],
   "source": [
    "losses_2 = [local_4_10_001,local_4_10_01,local_4_10_05,local_4_10_1]\n",
    "desc = ['lr = 0.001','lr = 0.01','lr = 0.05','lr = 0.1']\n",
    "combined_loss(losses_2,desc)"
   ]
  },
  {
   "cell_type": "markdown",
   "metadata": {},
   "source": [
    "### Train Test loss for nodes = 8"
   ]
  },
  {
   "cell_type": "code",
   "execution_count": 40,
   "metadata": {},
   "outputs": [
    {
     "data": {
      "image/png": "[encoded data removed]",
      "text/plain": [
       "<Figure size 432x288 with 1 Axes>"
      ]
     },
     "metadata": {
      "needs_background": "light"
     },
     "output_type": "display_data"
    },
    {
     "data": {
      "image/png": "[encoded data removed]",
      "text/plain": [
       "<Figure size 432x288 with 1 Axes>"
      ]
     },
     "metadata": {
      "needs_background": "light"
     },
     "output_type": "display_data"
    }
   ],
   "source": [
    "losses_2 = [local_8_10_001,local_8_10_01,local_8_10_05,local_8_10_1]\n",
    "desc = ['lr = 0.001','lr = 0.01','lr = 0.05','lr = 0.1']\n",
    "combined_loss(losses_2,desc)"
   ]
  },
  {
   "cell_type": "markdown",
   "metadata": {},
   "source": [
    "### Train test loss for nodes = 16"
   ]
  },
  {
   "cell_type": "code",
   "execution_count": 41,
   "metadata": {},
   "outputs": [
    {
     "data": {
      "image/png": "[encoded data removed]",
      "text/plain": [
       "<Figure size 432x288 with 1 Axes>"
      ]
     },
     "metadata": {
      "needs_background": "light"
     },
     "output_type": "display_data"
    },
    {
     "data": {
      "image/png": "[encoded data removed]",
      "text/plain": [
       "<Figure size 432x288 with 1 Axes>"
      ]
     },
     "metadata": {
      "needs_background": "light"
     },
     "output_type": "display_data"
    }
   ],
   "source": [
    "losses_2 = [local_16_10_001,local_16_10_01,local_16_10_05,local_16_10_1]\n",
    "desc = ['lr = 0.001','lr = 0.01','lr = 0.05','lr = 0.1']\n",
    "combined_loss(losses_2,desc)"
   ]
  },
  {
   "cell_type": "markdown",
   "metadata": {},
   "source": [
    "### Train test loss for lr = 0.01 and nodes = 2,4,8,16"
   ]
  },
  {
   "cell_type": "code",
   "execution_count": 42,
   "metadata": {},
   "outputs": [
    {
     "data": {
      "image/png": "[encoded data removed]",
      "text/plain": [
       "<Figure size 432x288 with 1 Axes>"
      ]
     },
     "metadata": {
      "needs_background": "light"
     },
     "output_type": "display_data"
    },
    {
     "data": {
      "image/png": "[encoded data removed]",
      "text/plain": [
       "<Figure size 432x288 with 1 Axes>"
      ]
     },
     "metadata": {
      "needs_background": "light"
     },
     "output_type": "display_data"
    }
   ],
   "source": [
    "losses_2 = [local_2_10_01,local_4_10_01,local_8_10_01,local_16_10_01]\n",
    "desc = ['nodes = 2','nodes = 4','nodes = 8','nodes = 16']\n",
    "combined_loss(losses_2,desc)"
   ]
  },
  {
   "cell_type": "code",
   "execution_count": null,
   "metadata": {},
   "outputs": [
    {
     "name": "stdout",
     "output_type": "stream",
     "text": [
      "60000/60000 [==============================] - 39s 653us/step\n",
      "10000/10000 [==============================] - 6s 627us/step\n",
      "Epoch 1 of 10 : train loss - 0.3561359504381816 : train accuracy - 0.8979166666666667 test loss - 0.33772521005272865 test accuracy - 0.9034\n",
      "60000/60000 [==============================] - 27s 457us/step\n",
      "10000/10000 [==============================] - 5s 461us/step\n",
      "Epoch 2 of 10 : train loss - 0.32652738067706427 : train accuracy - 0.90695 test loss - 0.31323969855904576 test accuracy - 0.9116\n",
      "60000/60000 [==============================] - 30s 503us/step\n",
      "10000/10000 [==============================] - 4s 438us/step\n",
      "Epoch 3 of 10 : train loss - 0.3128396063576142 : train accuracy - 0.9117833333333333 test loss - 0.3021421393156052 test accuracy - 0.9143\n",
      "60000/60000 [==============================] - 32s 535us/step\n",
      "10000/10000 [==============================] - 5s 530us/step\n",
      "Epoch 4 of 10 : train loss - 0.291338672170043 : train accuracy - 0.91785 test loss - 0.2825619535446167 test accuracy - 0.9193\n"
     ]
    }
   ],
   "source": [
    "\n",
    "local_8_16_01 = local_sgd(8,16,0.01,10,128,(x_train,y_train),(x_test,y_test))\n",
    "\n",
    "local_8_8_01 = local_sgd(8,8,0.01,10,128,(x_train,y_train),(x_test,y_test))\n",
    "\n",
    "local_8_4_01 = local_sgd(8,4,0.01,10,128,(x_train,y_train),(x_test,y_test))\n",
    "\n",
    "local_8_2_01 = local_sgd(8,2,0.01,10,128,(x_train,y_train),(x_test,y_test))"
   ]
  },
  {
   "cell_type": "code",
   "execution_count": 46,
   "metadata": {},
   "outputs": [
    {
     "data": {
      "image/png": "[encoded data removed]",
      "text/plain": [
       "<Figure size 432x288 with 1 Axes>"
      ]
     },
     "metadata": {
      "needs_background": "light"
     },
     "output_type": "display_data"
    },
    {
     "data": {
      "image/png": "[encoded data removed]",
      "text/plain": [
       "<Figure size 432x288 with 1 Axes>"
      ]
     },
     "metadata": {
      "needs_background": "light"
     },
     "output_type": "display_data"
    }
   ],
   "source": [
    "losses_time = [local_8_16_01,local_8_10_01,local_8_8_01,local_8_4_01,local_8_2_01]\n",
    "desc = ['t_step = 16','t_step = 10','t_step = 8','t_step = 4','t_step = 2']\n",
    "combined_loss(losses_time,desc)"
   ]
  },
  {
   "cell_type": "code",
   "execution_count": null,
   "metadata": {},
   "outputs": [],
   "source": [
    "\n",
    "local_8_32_01 = local_sgd(8,32,0.01,50,128,(x_train,y_train),(x_test,y_test))\n",
    "local_8_64_01 = local_sgd(8,64,0.01,50,128,(x_train,y_train),(x_test,y_test))"
   ]
  },
  {
   "cell_type": "code",
   "execution_count": 1,
   "metadata": {},
   "outputs": [
    {
     "ename": "NameError",
     "evalue": "name 'local_sgd' is not defined",
     "output_type": "error",
     "traceback": [
      "\u001b[0;31m---------------------------------------------------------------------------\u001b[0m",
      "\u001b[0;31mNameError\u001b[0m                                 Traceback (most recent call last)",
      "\u001b[0;32m<ipython-input-1-6f7d226a4b62>\u001b[0m in \u001b[0;36m<module>\u001b[0;34m\u001b[0m\n\u001b[0;32m----> 1\u001b[0;31m \u001b[0mlocal_8_100_01\u001b[0m \u001b[0;34m=\u001b[0m \u001b[0mlocal_sgd\u001b[0m\u001b[0;34m(\u001b[0m\u001b[0;36m8\u001b[0m\u001b[0;34m,\u001b[0m\u001b[0;36m100\u001b[0m\u001b[0;34m,\u001b[0m\u001b[0;36m0.01\u001b[0m\u001b[0;34m,\u001b[0m\u001b[0;36m50\u001b[0m\u001b[0;34m,\u001b[0m\u001b[0;36m128\u001b[0m\u001b[0;34m,\u001b[0m\u001b[0;34m(\u001b[0m\u001b[0mx_train\u001b[0m\u001b[0;34m,\u001b[0m\u001b[0my_train\u001b[0m\u001b[0;34m)\u001b[0m\u001b[0;34m,\u001b[0m\u001b[0;34m(\u001b[0m\u001b[0mx_test\u001b[0m\u001b[0;34m,\u001b[0m\u001b[0my_test\u001b[0m\u001b[0;34m)\u001b[0m\u001b[0;34m)\u001b[0m\u001b[0;34m\u001b[0m\u001b[0;34m\u001b[0m\u001b[0m\n\u001b[0m\u001b[1;32m      2\u001b[0m \u001b[0;31m#local_8_1000_01 = local_sgd(model_parallel,8,1000,0.01,50,128,(x_train,y_train),(x_test,y_test))\u001b[0m\u001b[0;34m\u001b[0m\u001b[0;34m\u001b[0m\u001b[0;34m\u001b[0m\u001b[0m\n",
      "\u001b[0;31mNameError\u001b[0m: name 'local_sgd' is not defined"
     ]
    }
   ],
   "source": [
    "\n",
    "local_8_100_01 = local_sgd(8,100,0.01,50,128,(x_train,y_train),(x_test,y_test))\n",
    "#local_8_1000_01 = local_sgd(model_parallel,8,1000,0.01,50,128,(x_train,y_train),(x_test,y_test))"
   ]
  },
  {
   "cell_type": "code",
   "execution_count": null,
   "metadata": {},
   "outputs": [],
   "source": [
    "# One Shot Averaging : Minor tweaking in the previous function \n",
    "\n",
    "def local_sgd_oneshot_avg(model,n,t,alpha,epoch,batch_size,train_data,test_data): \n",
    "    '''\n",
    "    This function performs local sgd. \n",
    "    \n",
    "    Input :\n",
    "       model : (keras model) The model that is to be placed on each node\n",
    "       n : number of nodes\n",
    "       epoch : the number of epochs\n",
    "       batch_size : size of the batch for each iteration\n",
    "       train_data : a tuple containing the training X and y\n",
    "       test_data : a tuple containing the test X and y\n",
    "       \n",
    "    Output:\n",
    "       Returns a tuple containing Training and Test loss\n",
    "    '''\n",
    "    \n",
    "    # Initialising the variables \n",
    "    c = 0\n",
    "    train_loss = []\n",
    "    test_loss = []\n",
    "    model_data = []\n",
    "    models = []\n",
    "    \n",
    "    # Preparing n sets of data by shuffling and creating a list models having n instances of model\n",
    "    for i in range(n):\n",
    "        model_data.append(shuffle(train_data[0],train_data[1]))\n",
    "        models.append(model)\n",
    "    \n",
    "    # Compiling all the models\n",
    "    for i in models:\n",
    "        i.compile(loss = keras.losses.categorical_crossentropy,\n",
    "                    optimizer = keras.optimizers.SGD(lr = alpha, momentum = 0.0, nesterov = False),\n",
    "                    metrics=['accuracy'])\n",
    "        \n",
    "    # At present the loop is designed to handle only one layer in the network. Will be modified to accomodate any number of layers\n",
    "    for i in range(epoch):\n",
    "        weights = []\n",
    "\n",
    "        # This loop runs as long as the subsequent updates in c causes it to increase. c becomes 0 whenever the epoch completes\n",
    "        while (True):\n",
    "            c_prev = c\n",
    "            \n",
    "            # After every t iteration averaging the gradients\n",
    "            for j in range(t):\n",
    "                for k in range(len(models)):\n",
    "                    batch_x = model_data[k][0][c * batch_size: (c + 1) * batch_size]\n",
    "                    batch_y = model_data[k][1][c * batch_size: (c + 1) * batch_size]\n",
    "                    models[k].train_on_batch(batch_x, batch_y)\n",
    "                    \n",
    "                c += 1\n",
    "                c= c % num_batch\n",
    "                \n",
    "            if c_prev > c :\n",
    "                break\n",
    "\n",
    "            # Obtaining the weights from each model\n",
    "            '''for l in range(len(models)):\n",
    "                weights.append(models[l].layers[0].get_weights())\n",
    "\n",
    "            new_weight = weights[0]\n",
    "            \n",
    "            # Averaging the weights and assigning it to each model on the nodes\n",
    "            for l in range(1,n):\n",
    "                if l !=n-1:\n",
    "                    new_layer=[j+k for j,k in zip(new_weight,weights[l])]\n",
    "                else:\n",
    "                    new_layer=[(j+k)/n for j,k in zip(new_weight,weights[l])]\n",
    "                    \n",
    "            for l in range(len(models)):\n",
    "                models[l].set_weights(new_weight)'''\n",
    "\n",
    "\n",
    "        # Evalutaing the losses (train and test and appending it to the list)\n",
    "        if (i != epoch - 1) :\n",
    "            loss_tr = models[0].evaluate(train_data[0],train_data[1])\n",
    "            loss_te = models[0].evaluate(test_data[0],test_data[1])\n",
    "            print (\"Epoch \" + str(i) + \" of \" + str(epoch) + \" : train loss - \" + str(loss_tr[0]) + \" : train accuracy - \" + str(loss_tr[1]) + \" test loss - \" + str(loss_te[0])+ \" test accuracy - \" + str(loss_te[1]))\n",
    "            train_loss.append(loss_tr[0])\n",
    "            test_loss.append(loss_te[0])\n",
    "            \n",
    "    for l in range(len(models)):\n",
    "        weights.append(models[l].layers[0].get_weights())\n",
    "        new_weight = weights[0]\n",
    "            \n",
    "    # Averaging the weights and assigning it to each model on the nodes\n",
    "    for l in range(1,n):\n",
    "        if l !=n-1:\n",
    "            new_weight = [j+k for j,k in zip(new_weight,weights[l])]\n",
    "        else:\n",
    "            new_weight = [(j+k)/n for j,k in zip(new_weight,weights[l])]\n",
    "                    \n",
    "    for l in range(len(models)):\n",
    "            models[l].set_weights(new_weight)\n",
    "            \n",
    "\n",
    "    loss_tr = models[0].evaluate(train_data[0],train_data[1])\n",
    "    loss_te = models[0].evaluate(test_data[0],test_data[1])\n",
    "    print (\"Epoch \" + str(i) + \" of \" + str(epoch) + \" : train loss - \" + str(loss_tr[0]) + \" : train accuracy - \" + str(loss_tr[1]) + \" test loss - \" + str(loss_te[0])+ \" test accuracy - \" + str(loss_te[1]))\n",
    "    train_loss.append(loss_tr[0])\n",
    "    test_loss.append(loss_te[0])\n",
    "\n",
    "    \n",
    "    return (train_loss,test_loss)"
   ]
  },
  {
   "cell_type": "code",
   "execution_count": null,
   "metadata": {},
   "outputs": [],
   "source": [
    "model_parallel = k_model(10,784)\n",
    "local_oneshot_8_16_01 = local_sgd_oneshot_avg(model_parallel,8,16,0.01,50,128,(x_train,y_train),(x_test,y_test))"
   ]
  },
  {
   "cell_type": "code",
   "execution_count": null,
   "metadata": {},
   "outputs": [],
   "source": [
    "# Tuning the learning rate for time steps = 2,4,8,16,100\n",
    "\n",
    "# Time Step = 2\n",
    "model_parallel = k_model(10,784)\n",
    "local_8_2_001 = local_sgd(model_parallel,8,2,0.001,50,128,(x_train,y_train),(x_test,y_test))\n",
    "model_parallel = k_model(10,784)\n",
    "local_8_2_05 = local_sgd(model_parallel,8,2,0.05,50,128,(x_train,y_train),(x_test,y_test))\n",
    "model_parallel = k_model(10,784)\n",
    "local_8_2_1 = local_sgd(model_parallel,8,2,0.1,50,128,(x_train,y_train),(x_test,y_test))\n",
    "model_parallel = k_model(10,784)\n",
    "local_8_2_5 = local_sgd(model_parallel,8,2,0.5,50,128,(x_train,y_train),(x_test,y_test))\n",
    "\n",
    "# Time Step = 4\n",
    "model_parallel = k_model(10,784)\n",
    "local_8_4_001 = local_sgd(model_parallel,8,4,0.001,50,128,(x_train,y_train),(x_test,y_test))\n",
    "model_parallel = k_model(10,784)\n",
    "local_8_4_05 = local_sgd(model_parallel,8,4,0.05,50,128,(x_train,y_train),(x_test,y_test))\n",
    "model_parallel = k_model(10,784)\n",
    "local_8_4_1 = local_sgd(model_parallel,8,4,0.1,50,128,(x_train,y_train),(x_test,y_test))\n",
    "model_parallel = k_model(10,784)\n",
    "local_8_4_5 = local_sgd(model_parallel,8,4,0.5,50,128,(x_train,y_train),(x_test,y_test))\n",
    "\n",
    "# Time Step = 8\n",
    "model_parallel = k_model(10,784)\n",
    "local_8_8_001 = local_sgd(model_parallel,8,8,0.001,50,128,(x_train,y_train),(x_test,y_test))\n",
    "model_parallel = k_model(10,784)\n",
    "local_8_8_05 = local_sgd(model_parallel,8,8,0.05,50,128,(x_train,y_train),(x_test,y_test))\n",
    "model_parallel = k_model(10,784)\n",
    "local_8_8_1 = local_sgd(model_parallel,8,8,0.1,50,128,(x_train,y_train),(x_test,y_test))\n",
    "model_parallel = k_model(10,784)\n",
    "local_8_8_5 = local_sgd(model_parallel,8,8,0.5,50,128,(x_train,y_train),(x_test,y_test))\n",
    "\n",
    "# Time Step = 16\n",
    "model_parallel = k_model(10,784)\n",
    "local_8_16_001 = local_sgd(model_parallel,8,16,0.001,50,128,(x_train,y_train),(x_test,y_test))\n",
    "model_parallel = k_model(10,784)\n",
    "local_8_16_05 = local_sgd(model_parallel,8,16,0.05,50,128,(x_train,y_train),(x_test,y_test))\n",
    "model_parallel = k_model(10,784)\n",
    "local_8_16_1 = local_sgd(model_parallel,8,16,0.1,50,128,(x_train,y_train),(x_test,y_test))\n",
    "model_parallel = k_model(10,784)\n",
    "local_8_16_5 = local_sgd(model_parallel,8,16,0.5,50,128,(x_train,y_train),(x_test,y_test))\n",
    "\n",
    "\n"
   ]
  },
  {
   "cell_type": "code",
   "execution_count": 43,
   "metadata": {},
   "outputs": [
    {
     "ename": "NameError",
     "evalue": "name 'local_8_2_001' is not defined",
     "output_type": "error",
     "traceback": [
      "\u001b[0;31m---------------------------------------------------------------------------\u001b[0m",
      "\u001b[0;31mNameError\u001b[0m                                 Traceback (most recent call last)",
      "\u001b[0;32m<ipython-input-43-c45c5f10100f>\u001b[0m in \u001b[0;36m<module>\u001b[0;34m\u001b[0m\n\u001b[1;32m      1\u001b[0m \u001b[0;31m# Plotting losses for t = 2\u001b[0m\u001b[0;34m\u001b[0m\u001b[0;34m\u001b[0m\u001b[0;34m\u001b[0m\u001b[0m\n\u001b[0;32m----> 2\u001b[0;31m \u001b[0mlosses_8_t\u001b[0m \u001b[0;34m=\u001b[0m \u001b[0;34m[\u001b[0m\u001b[0mlocal_8_2_001\u001b[0m\u001b[0;34m,\u001b[0m\u001b[0mlocal_8_2_05\u001b[0m\u001b[0;34m,\u001b[0m\u001b[0mlocal_8_2_1\u001b[0m\u001b[0;34m,\u001b[0m\u001b[0mlocal_8_2_5\u001b[0m\u001b[0;34m,\u001b[0m\u001b[0mlocal_8_2_01\u001b[0m\u001b[0;34m]\u001b[0m\u001b[0;34m\u001b[0m\u001b[0;34m\u001b[0m\u001b[0m\n\u001b[0m\u001b[1;32m      3\u001b[0m \u001b[0mdesc\u001b[0m \u001b[0;34m=\u001b[0m \u001b[0;34m[\u001b[0m\u001b[0;34m'lr = 0.001'\u001b[0m\u001b[0;34m,\u001b[0m\u001b[0;34m'lr = 0.05'\u001b[0m\u001b[0;34m,\u001b[0m\u001b[0;34m'lr = 0.1'\u001b[0m\u001b[0;34m,\u001b[0m\u001b[0;34m'lr = 0.5'\u001b[0m\u001b[0;34m,\u001b[0m\u001b[0;34m'lr = 0.01'\u001b[0m\u001b[0;34m]\u001b[0m\u001b[0;34m\u001b[0m\u001b[0;34m\u001b[0m\u001b[0m\n\u001b[1;32m      4\u001b[0m \u001b[0mcombined_loss\u001b[0m\u001b[0;34m(\u001b[0m\u001b[0mlosses_8_t\u001b[0m\u001b[0;34m,\u001b[0m\u001b[0mdesc\u001b[0m\u001b[0;34m)\u001b[0m\u001b[0;34m\u001b[0m\u001b[0;34m\u001b[0m\u001b[0m\n",
      "\u001b[0;31mNameError\u001b[0m: name 'local_8_2_001' is not defined"
     ]
    }
   ],
   "source": [
    "# Plotting losses for t = 2\n",
    "losses_8_t = [local_8_2_001,local_8_2_05,local_8_2_1,local_8_2_5,local_8_2_01]\n",
    "desc = ['lr = 0.001','lr = 0.05','lr = 0.1','lr = 0.5','lr = 0.01']\n",
    "combined_loss(losses_8_t,desc)"
   ]
  },
  {
   "cell_type": "code",
   "execution_count": null,
   "metadata": {},
   "outputs": [],
   "source": [
    "# Plotting losses for t = 4\n",
    "losses_8_4 = [local_8_4_001,local_8_4_05,local_8_4_1,local_8_4_5,local_8_4_01]\n",
    "desc = ['lr = 0.001','lr = 0.05','lr = 0.1','lr = 0.5','lr = 0.01']\n",
    "combined_loss(losses_8_4,desc)"
   ]
  },
  {
   "cell_type": "code",
   "execution_count": null,
   "metadata": {},
   "outputs": [],
   "source": [
    "# Plotting losses for t = 8\n",
    "losses_8_8 = [local_8_8_001,local_8_8_05,local_8_8_1,local_8_8_5,local_8_8_01]\n",
    "desc = ['lr = 0.001','lr = 0.05','lr = 0.1','lr = 0.5','lr = 0.01']\n",
    "combined_loss(losses_8_8,desc)"
   ]
  },
  {
   "cell_type": "code",
   "execution_count": null,
   "metadata": {},
   "outputs": [],
   "source": [
    "# Plotting losses for t = 16\n",
    "losses_8_16 = [local_8_16_001,local_8_16_05,local_8_16_1,local_8_16_5,local_8_16_01]\n",
    "desc = ['lr = 0.001','lr = 0.05','lr = 0.1','lr = 0.5','lr = 0.01']\n",
    "combined_loss(losses_8_16,desc)"
   ]
  },
  {
   "cell_type": "code",
   "execution_count": null,
   "metadata": {},
   "outputs": [],
   "source": [
    "\n",
    "# Plotting the plots for different timesteps\n",
    "\n",
    "losses_opt = [local_8_2_1,local_8_4_1,local_8_8_1,local_8_16_01,local_oneshot_8_16_01]\n",
    "desc = ['time step = 2','time step = 4','time step = 8','time step = 16','one shot averaging']\n",
    "combined_loss(losses_opt,desc)"
   ]
  },
  {
   "cell_type": "code",
   "execution_count": null,
   "metadata": {},
   "outputs": [],
   "source": [
    "model_parallel = k_model(10,784)\n",
    "local_8_100_01 = local_sgd(model_parallel,8,100,0.01,50,128,(x_train,y_train),(x_test,y_test))"
   ]
  },
  {
   "cell_type": "code",
   "execution_count": null,
   "metadata": {},
   "outputs": [],
   "source": [
    "losses_time = [local_8_100_01,local_8_16_01,local_8_10_01,local_8_8_01,local_8_4_01,local_8_2_01]\n",
    "desc = ['t_step = 100','t_step = 16','t_step = 10','t_step = 8','t_step = 4','t_step = 2']\n",
    "combined_loss(losses_time,desc)"
   ]
  },
  {
   "cell_type": "code",
   "execution_count": null,
   "metadata": {},
   "outputs": [],
   "source": [
    "def elastic_avg_sgd(input_dim,output_dim,n,t,alpha,rho,epoch,batch_size,train_data,test_data): \n",
    "    '''\n",
    "    This function performs elastic averaging sgd. \n",
    "    \n",
    "    Input :\n",
    "       model : (keras model) The model that is to be placed on each node\n",
    "       n : number of nodes\n",
    "       epoch : the number of epochs\n",
    "       batch_size : size of the batch for each iteration\n",
    "       train_data : a tuple containing the training X and y\n",
    "       test_data : a tuple containing the test X and y\n",
    "       alpha : learning rate a float value\n",
    "       rho : averaging step for the center variable\n",
    "       \n",
    "    Output:\n",
    "       Returns a tuple containing Training and Test loss\n",
    "    '''\n",
    "    \n",
    "    # Initialising the variables \n",
    "    c = 0\n",
    "    train_loss = []\n",
    "    test_loss = []\n",
    "    model_data = []\n",
    "    models = []\n",
    "    \n",
    "    # Preparing n sets of data by shuffling and creating a list models having n instances of model\n",
    "    \n",
    "    for i in range(n):\n",
    "        model_data.append(shuffle(train_data[0],train_data[1]))\n",
    "        models.append(k_model(output_dim,input_dim))\n",
    "    \n",
    "    # The model at the central node \n",
    "    central_model = k_model(output_dim,input_dim)\n",
    "    central_model.compile(loss = keras.losses.categorical_crossentropy,\n",
    "                    optimizer = keras.optimizers.SGD(lr = alpha, momentum = 0.0, nesterov = False),\n",
    "                    metrics=['accuracy'])\n",
    "    \n",
    "    # Compiling all the models\n",
    "    for i in models:\n",
    "        i.compile(loss = keras.losses.categorical_crossentropy,\n",
    "                    optimizer = keras.optimizers.SGD(lr = alpha, momentum = 0.0, nesterov = False),\n",
    "                    metrics=['accuracy'])\n",
    "    \n",
    "    \n",
    "    # Calculating the center models\n",
    "    # Taking the first center model as the average of all the weights from the individual models on the nodes\n",
    "    weights = []\n",
    "    for l in range(len(models)):\n",
    "                weights.append(models[l].layers[0].get_weights())\n",
    "\n",
    "    new_weight = weights[0]\n",
    "            \n",
    "    # Averaging the weights and assigning it to each model on the nodes\n",
    "    for l in range(1,n):\n",
    "        if l !=n-1:\n",
    "            new_weight = [j+k for j,k in zip(new_weight,weights[l])]\n",
    "        else:\n",
    "            new_weight = [(j+k)/n for j,k in zip(new_weight,weights[l])]\n",
    "    \n",
    "    # Assigning the weights to the central model\n",
    "    central_model.set_weights(new_weight)\n",
    "            \n",
    "    # At present the loop is designed to handle only one layer in the network. Will be modified to accomodate any number of layers\n",
    "    for i in range(epoch):\n",
    "        # This loop runs as long as the subsequent updates in c causes it to increase. c becomes 0 whenever the epoch completes\n",
    "        while (True):\n",
    "            c_prev = c\n",
    "            \n",
    "            # After every t iteration averaging the gradients\n",
    "            for j in range(t):\n",
    "                for k in range(len(models)):\n",
    "                    batch_x = model_data[k][0][c * batch_size: (c + 1) * batch_size]\n",
    "                    batch_y = model_data[k][1][c * batch_size: (c + 1) * batch_size]\n",
    "                    models[k].train_on_batch(batch_x, batch_y)\n",
    "                    \n",
    "                c += 1\n",
    "                c= c % num_batch\n",
    "                \n",
    "            if c_prev > c :\n",
    "                break\n",
    "            \n",
    "            else :\n",
    "                # Obtaining the weights from each model\n",
    "                weights = []\n",
    "                for l in range(len(models)):\n",
    "                    weights.append(models[l].layers[0].get_weights())\n",
    "\n",
    "                # Updating the weights of the models on every node using previous central node value\n",
    "                central_weight = central_model.layers[0].get_weights()\n",
    "                for l in range(0,n):\n",
    "                    new_weight = list(np.array(weights[l]) - rho * (np.array(weights[l]) - np.array(central_weight)))\n",
    "                    models[l].set_weights(new_weight)\n",
    "\n",
    "                # Updating the weights on the central node\n",
    "                delta = list(np.array(weights[0]) - np.array(central_weight))\n",
    "\n",
    "                for l in range(1,n):\n",
    "                    temp = list(np.array(weights[l]) - np.array(central_weight))\n",
    "                    delta = list(np.array(delta) + np.array(temp))\n",
    "\n",
    "                central_weight = list(np.array(central_weight) + rho * np.array(delta))\n",
    "                central_model.layers[0].set_weights(central_weight)       \n",
    "            \n",
    "\n",
    "\n",
    "        # Evalutaing the losses (train and test and appending it to the list)\n",
    "        loss_tr = central_model.evaluate(train_data[0],train_data[1])\n",
    "        loss_te = central_model.evaluate(test_data[0],test_data[1])\n",
    "        print (\"Epoch \" + str(i) + \" of \" + str(epoch) + \" : train loss - \" + str(loss_tr[0]) + \" : train accuracy - \" + str(loss_tr[1]) + \" test loss - \" + str(loss_te[0])+ \" test accuracy - \" + str(loss_te[1]))\n",
    "        train_loss.append(loss_tr[0])\n",
    "        test_loss.append(loss_te[0])\n",
    "    \n",
    "    return (train_loss,test_loss)"
   ]
  },
  {
   "cell_type": "code",
   "execution_count": null,
   "metadata": {},
   "outputs": [],
   "source": [
    "elastic_2_10_001 = elastic_avg_sgd(784,10,2,10,0.01,0.1,50,128,(x_train,y_train),(x_test,y_test))"
   ]
  },
  {
   "cell_type": "code",
   "execution_count": null,
   "metadata": {},
   "outputs": [],
   "source": []
  },
  {
   "cell_type": "code",
   "execution_count": null,
   "metadata": {},
   "outputs": [],
   "source": [
    "1+1"
   ]
  },
  {
   "cell_type": "code",
   "execution_count": null,
   "metadata": {},
   "outputs": [],
   "source": [
    "1+1"
   ]
  },
  {
   "cell_type": "code",
   "execution_count": 30,
   "metadata": {},
   "outputs": [
    {
     "data": {
      "text/plain": [
       "1"
      ]
     },
     "execution_count": 30,
     "metadata": {},
     "output_type": "execute_result"
    }
   ],
   "source": [
    "1"
   ]
  },
  {
   "cell_type": "code",
   "execution_count": null,
   "metadata": {},
   "outputs": [],
   "source": [
    "1"
   ]
  },
  {
   "cell_type": "code",
   "execution_count": null,
   "metadata": {},
   "outputs": [],
   "source": []
  }
 ],
 "metadata": {
  "kernelspec": {
   "display_name": "Python 3",
   "language": "python",
   "name": "python3"
  },
  "language_info": {
   "codemirror_mode": {
    "name": "ipython",
    "version": 3
   },
   "file_extension": ".py",
   "mimetype": "text/x-python",
   "name": "python",
   "nbconvert_exporter": "python",
   "pygments_lexer": "ipython3",
   "version": "3.7.4"
  }
 },
 "nbformat": 4,
 "nbformat_minor": 4
}
