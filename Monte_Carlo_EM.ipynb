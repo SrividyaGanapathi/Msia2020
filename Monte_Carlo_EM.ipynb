{
 "cells": [
  {
   "cell_type": "code",
   "execution_count": 6,
   "metadata": {},
   "outputs": [],
   "source": [
    "import numpy as np\n",
    "import math\n",
    "import random\n",
    "from matplotlib import pyplot as plt"
   ]
  },
  {
   "cell_type": "code",
   "execution_count": 10,
   "metadata": {},
   "outputs": [],
   "source": [
    "def generate_observations(p1,p2,n):\n",
    "    \n",
    "    observations = []\n",
    "    probablity_head = 0.5 * p1 + 0.5 * p2\n",
    "    probablity_tail = 1 - probablity_head\n",
    "    random_p =  np.random.uniform(low = 0, high = 1, size = (n,))\n",
    "    \n",
    "    for i in random_p:\n",
    "        if i < probablity_head : \n",
    "            observations.append('H')\n",
    "            \n",
    "        else : \n",
    "            observations.append('T')\n",
    "            \n",
    "    return observations"
   ]
  },
  {
   "cell_type": "code",
   "execution_count": 76,
   "metadata": {},
   "outputs": [],
   "source": [
    "def EM_algorithm(obsv):\n",
    "    \"\"\" This function computes the probablities of getting heads by the 2 coins. It accepts one parameter obsv : a list \n",
    "    containing 'H' OR 'T' \"\"\"\n",
    "    # Generating random probablities for initialization\n",
    "    p1 = np.random.random_sample()\n",
    "    p2 = np.random.random_sample()\n",
    "    \n",
    "    # Weights of an observation belonging to coin1 or coin2\n",
    "    w1 = p1 / (p1 + p2)\n",
    "    w2 = 1 - w1\n",
    "    \n",
    "    ans = 0\n",
    "    n = len(obsv)\n",
    "    n1 = len([i for i in obsv if i == 'H'])\n",
    "    \n",
    "    while (True) :\n",
    "        \n",
    "        # storing p values of previous iteration\n",
    "        p1_prev = p1\n",
    "        p2_prev = p2\n",
    "        \n",
    "        # Computing p values for current iteratiom\n",
    "        p1 = (w1 * n1) / ((w1 * n1) + (1 - w1) * (n - n1))\n",
    "        p2 = (w2 * n1) / ((w2 * n1) + (1 - w2) * (n - n1))\n",
    "        \n",
    "        # Updating weights of the observation\n",
    "        w1 = p1 / (p1 + p2)\n",
    "        w2 = 1 - w1\n",
    "        \n",
    "        # Checking Convergence \n",
    "        if ( abs(p1_prev - p1) < 0.000001 ) & ( abs(p2_prev - p2) < 0.000001 ):\n",
    "            ans = (p1,p2)\n",
    "            break\n",
    "            \n",
    "    return ans\n",
    "        \n",
    "        \n",
    "        "
   ]
  },
  {
   "cell_type": "code",
   "execution_count": 88,
   "metadata": {},
   "outputs": [],
   "source": [
    "observation1 = generate_observations(0.4,0.7,500000)"
   ]
  },
  {
   "cell_type": "code",
   "execution_count": 89,
   "metadata": {},
   "outputs": [
    {
     "name": "stdout",
     "output_type": "stream",
     "text": [
      "(0.5498495635909164, 0.5498664363804103)\n"
     ]
    }
   ],
   "source": [
    "print (EM_algorithm(observation1))"
   ]
  },
  {
   "cell_type": "code",
   "execution_count": null,
   "metadata": {},
   "outputs": [],
   "source": []
  }
 ],
 "metadata": {
  "kernelspec": {
   "display_name": "Python 3",
   "language": "python",
   "name": "python3"
  },
  "language_info": {
   "codemirror_mode": {
    "name": "ipython",
    "version": 3
   },
   "file_extension": ".py",
   "mimetype": "text/x-python",
   "name": "python",
   "nbconvert_exporter": "python",
   "pygments_lexer": "ipython3",
   "version": "3.7.3"
  }
 },
 "nbformat": 4,
 "nbformat_minor": 2
}
