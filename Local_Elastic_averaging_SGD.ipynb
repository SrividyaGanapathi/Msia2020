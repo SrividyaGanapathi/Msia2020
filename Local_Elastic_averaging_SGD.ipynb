{
 "cells": [
  {
   "cell_type": "code",
   "execution_count": 2,
   "metadata": {},
   "outputs": [
    {
     "name": "stderr",
     "output_type": "stream",
     "text": [
      "Using TensorFlow backend.\n"
     ]
    }
   ],
   "source": [
    "\n",
    "from __future__ import print_function\n",
    "import keras\n",
    "from keras.datasets import mnist\n",
    "from keras.models import Sequential\n",
    "from keras.layers import Dense, Dropout, Flatten\n",
    "from keras.layers import Conv2D, MaxPooling2D\n",
    "from keras import backend as K\n",
    "import matplotlib.pyplot as plt\n",
    "import numpy as np\n",
    "from sklearn.utils import shuffle\n",
    "import sys\n"
   ]
  },
  {
   "cell_type": "code",
   "execution_count": 8,
   "metadata": {},
   "outputs": [],
   "source": [
    "# input image dimensions\n",
    "img_rows, img_cols = 28, 28"
   ]
  },
  {
   "cell_type": "code",
   "execution_count": 9,
   "metadata": {},
   "outputs": [],
   "source": [
    "batch_size = 128\n",
    "num_classes = 10\n",
    "epochs = 50\n"
   ]
  },
  {
   "cell_type": "code",
   "execution_count": 10,
   "metadata": {},
   "outputs": [],
   "source": [
    "# the data, split between train and test sets\n",
    "(x_train, y_train), (x_test, y_test) = mnist.load_data()"
   ]
  },
  {
   "cell_type": "code",
   "execution_count": 11,
   "metadata": {},
   "outputs": [
    {
     "data": {
      "text/plain": [
       "(60000, 28, 28)"
      ]
     },
     "execution_count": 11,
     "metadata": {},
     "output_type": "execute_result"
    }
   ],
   "source": [
    "x_train.shape"
   ]
  },
  {
   "cell_type": "code",
   "execution_count": 23,
   "metadata": {},
   "outputs": [],
   "source": [
    "iterations = np.ceil((x_train.shape[0]*epochs)/batch_size)\n",
    "\n",
    "iterations_per_epoch = np.ceil((x_train.shape[0])/batch_size)\n",
    "\n",
    "num_batch = int(x_train.shape[0]/batch_size)"
   ]
  },
  {
   "cell_type": "code",
   "execution_count": 13,
   "metadata": {},
   "outputs": [],
   "source": [
    "x_train=np.array([i.flatten() for i in x_train])\n",
    "x_test=np.array([i.flatten() for i in x_test])\n"
   ]
  },
  {
   "cell_type": "code",
   "execution_count": 14,
   "metadata": {},
   "outputs": [],
   "source": [
    "y_train = keras.utils.to_categorical(y_train, num_classes)\n",
    "y_test = keras.utils.to_categorical(y_test, num_classes)"
   ]
  },
  {
   "cell_type": "code",
   "execution_count": 15,
   "metadata": {},
   "outputs": [],
   "source": [
    "# Function to create individual model\n",
    "def k_model(output_dim,input_dim):\n",
    "    model = Sequential() \n",
    "    model.add(Dense(output_dim, input_dim=input_dim, activation='sigmoid')) \n",
    "    return model"
   ]
  },
  {
   "cell_type": "code",
   "execution_count": 39,
   "metadata": {},
   "outputs": [],
   "source": [
    "# Function to show the loss plot of training and validation set\n",
    "def loss(history):\n",
    "    plt.plot(history.history['loss'])\n",
    "    plt.plot(history.history['val_loss'])\n",
    "    plt.title('Model loss')\n",
    "    plt.ylabel('Loss')\n",
    "    plt.xlabel('Epoch')\n",
    "    plt.legend(['Train', 'Test'], loc='upper left')\n",
    "    plt.show()"
   ]
  },
  {
   "cell_type": "markdown",
   "metadata": {},
   "source": [
    "### Baseline model \n",
    "Got one layer that maps input to 10 classes"
   ]
  },
  {
   "cell_type": "code",
   "execution_count": 78,
   "metadata": {},
   "outputs": [
    {
     "name": "stdout",
     "output_type": "stream",
     "text": [
      "Train on 60000 samples, validate on 10000 samples\n",
      "Epoch 1/50\n",
      "60000/60000 [==============================] - 2s 38us/step - loss: 2.2696 - acc: 0.1775 - val_loss: 2.1202 - val_acc: 0.2119\n",
      "Epoch 2/50\n",
      "60000/60000 [==============================] - 1s 24us/step - loss: 2.0563 - acc: 0.2820 - val_loss: 1.9509 - val_acc: 0.3692\n",
      "Epoch 3/50\n",
      "60000/60000 [==============================] - 1s 24us/step - loss: 1.9399 - acc: 0.3558 - val_loss: 1.9147 - val_acc: 0.3335\n",
      "Epoch 4/50\n",
      "60000/60000 [==============================] - 1s 23us/step - loss: 1.9015 - acc: 0.3555 - val_loss: 1.8975 - val_acc: 0.3885\n",
      "Epoch 5/50\n",
      "60000/60000 [==============================] - 1s 23us/step - loss: 1.8756 - acc: 0.3696 - val_loss: 1.8219 - val_acc: 0.4284\n",
      "Epoch 6/50\n",
      "60000/60000 [==============================] - 1s 23us/step - loss: 1.7577 - acc: 0.3942 - val_loss: 1.7127 - val_acc: 0.4277\n",
      "Epoch 7/50\n",
      "60000/60000 [==============================] - 1s 23us/step - loss: 1.7263 - acc: 0.4221 - val_loss: 1.7026 - val_acc: 0.4393\n",
      "Epoch 8/50\n",
      "60000/60000 [==============================] - 1s 23us/step - loss: 1.7176 - acc: 0.4308 - val_loss: 1.7016 - val_acc: 0.4205\n",
      "Epoch 9/50\n",
      "60000/60000 [==============================] - 1s 24us/step - loss: 1.6937 - acc: 0.4329 - val_loss: 1.6756 - val_acc: 0.4421\n",
      "Epoch 10/50\n",
      "60000/60000 [==============================] - 1s 24us/step - loss: 1.6791 - acc: 0.4360 - val_loss: 1.6855 - val_acc: 0.4039\n",
      "Epoch 11/50\n",
      "60000/60000 [==============================] - 1s 23us/step - loss: 1.6769 - acc: 0.4284 - val_loss: 1.6948 - val_acc: 0.4425\n",
      "Epoch 12/50\n",
      "60000/60000 [==============================] - 1s 24us/step - loss: 1.6687 - acc: 0.4242 - val_loss: 1.7346 - val_acc: 0.4197\n",
      "Epoch 13/50\n",
      "60000/60000 [==============================] - 1s 23us/step - loss: 1.6431 - acc: 0.4544 - val_loss: 1.6137 - val_acc: 0.4565\n",
      "Epoch 14/50\n",
      "60000/60000 [==============================] - 1s 24us/step - loss: 1.6138 - acc: 0.4402 - val_loss: 1.5936 - val_acc: 0.4297\n",
      "Epoch 15/50\n",
      "60000/60000 [==============================] - 1s 23us/step - loss: 1.5725 - acc: 0.4554 - val_loss: 1.5788 - val_acc: 0.4788\n",
      "Epoch 16/50\n",
      "60000/60000 [==============================] - 1s 24us/step - loss: 1.5743 - acc: 0.4538 - val_loss: 1.5708 - val_acc: 0.4704\n",
      "Epoch 17/50\n",
      "60000/60000 [==============================] - 1s 23us/step - loss: 1.5721 - acc: 0.4517 - val_loss: 1.5778 - val_acc: 0.4805\n",
      "Epoch 18/50\n",
      "60000/60000 [==============================] - 1s 23us/step - loss: 1.5651 - acc: 0.4636 - val_loss: 1.5826 - val_acc: 0.4863\n",
      "Epoch 19/50\n",
      "60000/60000 [==============================] - 1s 23us/step - loss: 1.5664 - acc: 0.4539 - val_loss: 1.6066 - val_acc: 0.4211\n",
      "Epoch 20/50\n",
      "60000/60000 [==============================] - 1s 24us/step - loss: 1.5508 - acc: 0.4427 - val_loss: 1.5659 - val_acc: 0.4549\n",
      "Epoch 21/50\n",
      "60000/60000 [==============================] - 1s 24us/step - loss: 1.5494 - acc: 0.4503 - val_loss: 1.5355 - val_acc: 0.4655\n",
      "Epoch 22/50\n",
      "60000/60000 [==============================] - 1s 24us/step - loss: 1.5402 - acc: 0.4490 - val_loss: 1.5307 - val_acc: 0.4455\n",
      "Epoch 23/50\n",
      "60000/60000 [==============================] - 1s 23us/step - loss: 1.5236 - acc: 0.4532 - val_loss: 1.5371 - val_acc: 0.4835\n",
      "Epoch 24/50\n",
      "60000/60000 [==============================] - 1s 24us/step - loss: 1.5246 - acc: 0.4502 - val_loss: 1.5558 - val_acc: 0.4544\n",
      "Epoch 25/50\n",
      "60000/60000 [==============================] - 1s 24us/step - loss: 1.5253 - acc: 0.4529 - val_loss: 1.5310 - val_acc: 0.4594\n",
      "Epoch 26/50\n",
      "60000/60000 [==============================] - 1s 24us/step - loss: 1.5105 - acc: 0.4602 - val_loss: 1.5448 - val_acc: 0.4287\n",
      "Epoch 27/50\n",
      "60000/60000 [==============================] - 1s 23us/step - loss: 1.5118 - acc: 0.4508 - val_loss: 1.5390 - val_acc: 0.4667\n",
      "Epoch 28/50\n",
      "60000/60000 [==============================] - 1s 23us/step - loss: 1.5252 - acc: 0.4562 - val_loss: 1.5756 - val_acc: 0.4676\n",
      "Epoch 29/50\n",
      "60000/60000 [==============================] - 1s 24us/step - loss: 1.5193 - acc: 0.4612 - val_loss: 1.5519 - val_acc: 0.4261\n",
      "Epoch 30/50\n",
      "60000/60000 [==============================] - 1s 23us/step - loss: 1.5039 - acc: 0.4656 - val_loss: 1.5179 - val_acc: 0.4578\n",
      "Epoch 31/50\n",
      "60000/60000 [==============================] - 1s 23us/step - loss: 1.5126 - acc: 0.4658 - val_loss: 1.5251 - val_acc: 0.4860\n",
      "Epoch 32/50\n",
      "60000/60000 [==============================] - 1s 23us/step - loss: 1.5098 - acc: 0.4636 - val_loss: 1.5324 - val_acc: 0.4526\n",
      "Epoch 33/50\n",
      "60000/60000 [==============================] - 1s 24us/step - loss: 1.5209 - acc: 0.4468 - val_loss: 1.5324 - val_acc: 0.4463\n",
      "Epoch 34/50\n",
      "60000/60000 [==============================] - 1s 24us/step - loss: 1.5108 - acc: 0.4577 - val_loss: 1.5252 - val_acc: 0.4708\n",
      "Epoch 35/50\n",
      "60000/60000 [==============================] - 1s 23us/step - loss: 1.5021 - acc: 0.4730 - val_loss: 1.5491 - val_acc: 0.4602\n",
      "Epoch 36/50\n",
      "60000/60000 [==============================] - 1s 24us/step - loss: 1.5069 - acc: 0.4551 - val_loss: 1.5264 - val_acc: 0.4501\n",
      "Epoch 37/50\n",
      "60000/60000 [==============================] - 1s 24us/step - loss: 1.5068 - acc: 0.4568 - val_loss: 1.5246 - val_acc: 0.4739\n",
      "Epoch 38/50\n",
      "60000/60000 [==============================] - 1s 23us/step - loss: 1.4998 - acc: 0.4498 - val_loss: 1.5188 - val_acc: 0.4491\n",
      "Epoch 39/50\n",
      "60000/60000 [==============================] - 1s 23us/step - loss: 1.5094 - acc: 0.4571 - val_loss: 1.5546 - val_acc: 0.4797\n",
      "Epoch 40/50\n",
      "60000/60000 [==============================] - 1s 23us/step - loss: 1.4920 - acc: 0.4777 - val_loss: 1.5163 - val_acc: 0.4774\n",
      "Epoch 41/50\n",
      "60000/60000 [==============================] - 1s 24us/step - loss: 1.4903 - acc: 0.4556 - val_loss: 1.5015 - val_acc: 0.4682\n",
      "Epoch 42/50\n",
      "60000/60000 [==============================] - 1s 24us/step - loss: 1.4826 - acc: 0.4846 - val_loss: 1.5201 - val_acc: 0.4827\n",
      "Epoch 43/50\n",
      "60000/60000 [==============================] - 1s 23us/step - loss: 1.4812 - acc: 0.4782 - val_loss: 1.5056 - val_acc: 0.4854\n",
      "Epoch 44/50\n",
      "60000/60000 [==============================] - 1s 23us/step - loss: 1.4826 - acc: 0.4814 - val_loss: 1.5199 - val_acc: 0.5002\n",
      "Epoch 45/50\n",
      "60000/60000 [==============================] - 1s 24us/step - loss: 1.4959 - acc: 0.4897 - val_loss: 1.5075 - val_acc: 0.4927\n",
      "Epoch 46/50\n",
      "60000/60000 [==============================] - 1s 24us/step - loss: 1.4837 - acc: 0.4819 - val_loss: 1.5150 - val_acc: 0.4941\n",
      "Epoch 47/50\n",
      "60000/60000 [==============================] - 1s 24us/step - loss: 1.4785 - acc: 0.4762 - val_loss: 1.5623 - val_acc: 0.4486\n",
      "Epoch 48/50\n",
      "60000/60000 [==============================] - 1s 24us/step - loss: 1.4795 - acc: 0.4717 - val_loss: 1.4854 - val_acc: 0.4836\n",
      "Epoch 49/50\n",
      "60000/60000 [==============================] - 1s 24us/step - loss: 1.4720 - acc: 0.4915 - val_loss: 1.5362 - val_acc: 0.5087\n",
      "Epoch 50/50\n",
      "60000/60000 [==============================] - 1s 23us/step - loss: 1.5117 - acc: 0.4807 - val_loss: 1.4869 - val_acc: 0.4980\n"
     ]
    },
    {
     "data": {
      "text/plain": [
       "<keras.callbacks.History at 0x7f29c8d3e9d0>"
      ]
     },
     "execution_count": 78,
     "metadata": {},
     "output_type": "execute_result"
    }
   ],
   "source": [
    "base_model=k_model(10,784)\n",
    "base_model.compile(loss=keras.losses.categorical_crossentropy,\n",
    "              optimizer=keras.optimizers.SGD(lr=0.01, momentum=0.0, nesterov=False),\n",
    "              metrics=['accuracy'])\n",
    "base_model.fit(x_train, y_train,\n",
    "          batch_size=batch_size,\n",
    "          epochs=epochs,\n",
    "          verbose=1,\n",
    "          validation_data=(x_test, y_test))"
   ]
  },
  {
   "cell_type": "code",
   "execution_count": 38,
   "metadata": {},
   "outputs": [
    {
     "data": {
      "image/png": "[encoded data removed]",
      "text/plain": [
       "<Figure size 432x288 with 1 Axes>"
      ]
     },
     "metadata": {
      "needs_background": "light"
     },
     "output_type": "display_data"
    }
   ],
   "source": [
    "loss(base_model)"
   ]
  },
  {
   "cell_type": "code",
   "execution_count": 346,
   "metadata": {},
   "outputs": [
    {
     "name": "stdout",
     "output_type": "stream",
     "text": [
      "60000/60000 [==============================] - 6s 107us/step\n"
     ]
    },
    {
     "data": {
      "text/plain": [
       "[1.4674661699930827, 0.4931833333333333]"
      ]
     },
     "execution_count": 346,
     "metadata": {},
     "output_type": "execute_result"
    }
   ],
   "source": [
    "base_model.evaluate(x_train, y_train)"
   ]
  },
  {
   "cell_type": "code",
   "execution_count": 332,
   "metadata": {},
   "outputs": [
    {
     "data": {
      "text/plain": [
       "[array([[ 0.00501547, -0.00674535, -0.06097253, ..., -0.05963147,\n",
       "         -0.07018973, -0.0724439 ],\n",
       "        [-0.07141563, -0.0340202 ,  0.01036116, ..., -0.02430729,\n",
       "         -0.03875604,  0.0808486 ],\n",
       "        [-0.07387179, -0.00476275, -0.0778629 , ...,  0.06672233,\n",
       "         -0.03074042,  0.06059032],\n",
       "        ...,\n",
       "        [ 0.00239176,  0.06713601,  0.06921119, ..., -0.07678283,\n",
       "          0.07359213, -0.05700356],\n",
       "        [ 0.08325469, -0.00927467,  0.04573277, ...,  0.06145666,\n",
       "         -0.06782161,  0.00983036],\n",
       "        [ 0.01637364, -0.01756142, -0.05072362, ..., -0.07511865,\n",
       "         -0.04097176, -0.02354608]], dtype=float32),\n",
       " array([-0.00317706, -0.0003361 ,  0.00075525, -0.00105265, -0.00019839,\n",
       "         0.00018287, -0.00152985,  0.00208376, -0.0046165 ,  0.00030399],\n",
       "       dtype=float32)]"
      ]
     },
     "execution_count": 332,
     "metadata": {},
     "output_type": "execute_result"
    }
   ],
   "source": [
    "base_model.get_weights()"
   ]
  },
  {
   "cell_type": "markdown",
   "metadata": {},
   "source": [
    "### Local SGD\n",
    "\n",
    "Below is the list of variables:\n",
    "1. Number of nodes\n",
    "2. Learning rate\n",
    "3. Time step\n",
    "4. Data - Distributed/Not distributed"
   ]
  },
  {
   "cell_type": "code",
   "execution_count": 3,
   "metadata": {},
   "outputs": [],
   "source": [
    "def list_model(n):\n",
    "    l = []\n",
    "    for i in range(n):\n",
    "         l.append(k_model(10,784))\n",
    "    \n",
    "    return l"
   ]
  },
  {
   "cell_type": "code",
   "execution_count": 19,
   "metadata": {},
   "outputs": [],
   "source": [
    "def define_model(n,alpha):\n",
    "    models = list_model(n)\n",
    "    \n",
    "\n",
    "    num_batch = len(y_train) // batch_size\n",
    "\n",
    "    \n",
    "    #        c.append(0)\n",
    "    #        loss.append([])\n",
    "\n",
    "    for i in models:\n",
    "        i.compile(loss = keras.losses.categorical_crossentropy,\n",
    "                    optimizer = keras.optimizers.SGD(lr = alpha, momentum = 0.0, nesterov = False, clipvalue=0.5),\n",
    "                    metrics=['accuracy'])\n",
    "    \n",
    "    return models"
   ]
  },
  {
   "cell_type": "code",
   "execution_count": 20,
   "metadata": {},
   "outputs": [],
   "source": [
    "def local_sgd(n,t,alpha):\n",
    "    c = 0\n",
    "    batch_x = 0\n",
    "    batch_y = 0\n",
    "    train_loss = []\n",
    "    test_loss = []\n",
    "    itr = int(iterations / t)\n",
    "    models = define_model(n,alpha)\n",
    "    model_data = []\n",
    "    \n",
    "    for i in range(n):\n",
    "        model_data.append(shuffle(x_train,y_train))\n",
    "    \n",
    "    for i in range(itr):\n",
    "        weights = []\n",
    "        for j in range(t):\n",
    "            for k in range(len(models)):\n",
    "                \n",
    "                batch_x = model_data[k][0][c * batch_size: (c + 1) * batch_size]\n",
    "\n",
    "                batch_y = model_data[k][1][c * batch_size: (c + 1) * batch_size]\n",
    "\n",
    "                models[k].train_on_batch(batch_x, batch_y)\n",
    "                c += 1\n",
    "                c= c % num_batch\n",
    "\n",
    "\n",
    "        for l in range(len(models)):\n",
    "            weights.append(models[l].layers[0].get_weights())\n",
    "\n",
    "\n",
    "\n",
    "        new_weight = weights[0]\n",
    "        \n",
    "        for l in range(1,n):\n",
    "            if l !=n-1:\n",
    "                new_layer=[j+k for j,k in zip(new_weight,weights[l])]\n",
    "            else:\n",
    "                new_layer=[(j+k)/n for j,k in zip(new_weight,weights[l])]\n",
    "\n",
    "\n",
    "        sys.stdout.write('\\rNumber of iterationss: ' + str(i) + ' of ' + str(itr))\n",
    "        sys.stdout.flush()\n",
    "\n",
    "        if i % 100 == 0:\n",
    "            train_loss.append(models[0].evaluate(x_train,y_train)[0])\n",
    "            test_loss.append(models[0].evaluate(x_test,y_test)[0])\n",
    "\n",
    "\n",
    "        for l in range(len(models)):\n",
    "            models[l].set_weights(new_weight)\n",
    "        \n",
    "        \n",
    "    return (train_loss,test_loss)"
   ]
  },
  {
   "cell_type": "code",
   "execution_count": 21,
   "metadata": {},
   "outputs": [],
   "source": [
    "Node_list = [2, 4, 6, 8, 16]\n",
    "alpha = [0.001, 0.005, 0.01, 0.05, 0.1]\n",
    "time = [1, 2, 4, 8, 16]\n"
   ]
  },
  {
   "cell_type": "code",
   "execution_count": 25,
   "metadata": {},
   "outputs": [
    {
     "name": "stdout",
     "output_type": "stream",
     "text": [
      "60000/60000 [==============================] - 2s 32us/step\n",
      "10000/10000 [==============================] - 0s 32us/step\n",
      "60000/60000 [==============================] - 2s 32us/step\n",
      "10000/10000 [==============================] - 0s 33us/step\n",
      "60000/60000 [==============================] - 2s 32us/step\n",
      "10000/10000 [==============================] - 0s 32us/step\n",
      "60000/60000 [==============================] - 2s 32us/step\n",
      "10000/10000 [==============================] - 0s 31us/step\n",
      "60000/60000 [==============================] - 2s 32us/step\n",
      "10000/10000 [==============================] - 0s 31us/step\n",
      "60000/60000 [==============================] - 2s 32us/step\n",
      "10000/10000 [==============================] - 0s 32us/step\n",
      "60000/60000 [==============================] - 2s 32us/step\n",
      "10000/10000 [==============================] - 0s 32us/step\n",
      "60000/60000 [==============================] - 2s 32us/step\n",
      "10000/10000 [==============================] - 0s 31us/step\n",
      "60000/60000 [==============================] - 2s 32us/step\n",
      "10000/10000 [==============================] - 0s 33us/step\n",
      "60000/60000 [==============================] - 2s 32us/step\n",
      "10000/10000 [==============================] - 0s 32us/step\n",
      "60000/60000 [==============================] - 2s 32us/step\n",
      "10000/10000 [==============================] - 0s 33us/step\n",
      "60000/60000 [==============================] - 2s 32us/step\n",
      "10000/10000 [==============================] - 0s 32us/step\n",
      "60000/60000 [==============================] - 2s 32us/step\n",
      "10000/10000 [==============================] - 0s 31us/step\n",
      "60000/60000 [==============================] - 2s 32us/step\n",
      "10000/10000 [==============================] - 0s 32us/step\n",
      "60000/60000 [==============================] - 2s 32us/step\n",
      "10000/10000 [==============================] - 0s 32us/step\n",
      "60000/60000 [==============================] - 2s 32us/step\n",
      "10000/10000 [==============================] - 0s 33us/step\n",
      "60000/60000 [==============================] - 2s 32us/step\n",
      "10000/10000 [==============================] - 0s 32us/step\n",
      "60000/60000 [==============================] - 2s 32us/step\n",
      "10000/10000 [==============================] - 0s 32us/step\n",
      "60000/60000 [==============================] - 2s 32us/step\n",
      "10000/10000 [==============================] - 0s 33us/step\n",
      "60000/60000 [==============================] - 2s 32us/step\n",
      "10000/10000 [==============================] - 0s 32us/step\n",
      "60000/60000 [==============================] - 2s 32us/step\n",
      "10000/10000 [==============================] - 0s 32us/step\n",
      "60000/60000 [==============================] - 2s 32us/step\n",
      "10000/10000 [==============================] - 0s 32us/step\n",
      "60000/60000 [==============================] - 2s 32us/step\n",
      "10000/10000 [==============================] - 0s 32us/step\n",
      "60000/60000 [==============================] - 2s 32us/step\n",
      "10000/10000 [==============================] - 0s 33us/step\n",
      "60000/60000 [==============================] - 2s 32us/step\n",
      "10000/10000 [==============================] - 0s 33us/step\n",
      "60000/60000 [==============================] - 2s 32us/step\n",
      "10000/10000 [==============================] - 0s 33us/step\n",
      "60000/60000 [==============================] - 2s 32us/step\n",
      "10000/10000 [==============================] - 0s 32us/step\n",
      "60000/60000 [==============================] - 2s 32us/step\n",
      "10000/10000 [==============================] - 0s 33us/step\n",
      "60000/60000 [==============================] - 2s 32us/step\n",
      "10000/10000 [==============================] - 0s 33us/step\n",
      "60000/60000 [==============================] - 2s 32us/step\n",
      "10000/10000 [==============================] - 0s 33us/step\n",
      "Number of iterationss: 2928 of 2929"
     ]
    }
   ],
   "source": [
    "loss_2_8_001=local_sgd(2,8,0.001)"
   ]
  },
  {
   "cell_type": "code",
   "execution_count": 26,
   "metadata": {},
   "outputs": [
    {
     "name": "stdout",
     "output_type": "stream",
     "text": [
      "60000/60000 [==============================] - 2s 33us/step\n",
      "10000/10000 [==============================] - 0s 33us/step\n",
      "60000/60000 [==============================] - 2s 33us/step\n",
      "10000/10000 [==============================] - 0s 31us/step\n",
      "60000/60000 [==============================] - 2s 33us/step\n",
      "10000/10000 [==============================] - 0s 32us/step\n",
      "60000/60000 [==============================] - 2s 32us/step\n",
      "10000/10000 [==============================] - 0s 34us/step\n",
      "60000/60000 [==============================] - 2s 33us/step\n",
      "10000/10000 [==============================] - 0s 33us/step\n",
      "60000/60000 [==============================] - 2s 33us/step\n",
      "10000/10000 [==============================] - 0s 33us/step\n",
      "60000/60000 [==============================] - 2s 33us/step\n",
      "10000/10000 [==============================] - 0s 32us/step\n",
      "60000/60000 [==============================] - 2s 33us/step\n",
      "10000/10000 [==============================] - 0s 34us/step\n",
      "60000/60000 [==============================] - 2s 32us/step\n",
      "10000/10000 [==============================] - 0s 33us/step\n",
      "60000/60000 [==============================] - 2s 33us/step\n",
      "10000/10000 [==============================] - 0s 34us/step\n",
      "60000/60000 [==============================] - 2s 33us/step\n",
      "10000/10000 [==============================] - 0s 31us/step\n",
      "60000/60000 [==============================] - 2s 33us/step\n",
      "10000/10000 [==============================] - 0s 33us/step\n",
      "60000/60000 [==============================] - 2s 32us/step\n",
      "10000/10000 [==============================] - 0s 33us/step\n",
      "60000/60000 [==============================] - 2s 32us/step\n",
      "10000/10000 [==============================] - 0s 35us/step\n",
      "60000/60000 [==============================] - 2s 33us/step\n",
      "10000/10000 [==============================] - 0s 33us/step\n",
      "60000/60000 [==============================] - 2s 33us/step\n",
      "10000/10000 [==============================] - 0s 33us/step\n",
      "60000/60000 [==============================] - 2s 32us/step\n",
      "10000/10000 [==============================] - 0s 33us/step\n",
      "60000/60000 [==============================] - 2s 33us/step\n",
      "10000/10000 [==============================] - 0s 32us/step\n",
      "60000/60000 [==============================] - 2s 33us/step\n",
      "10000/10000 [==============================] - 0s 32us/step\n",
      "60000/60000 [==============================] - 2s 32us/step\n",
      "10000/10000 [==============================] - 0s 32us/step\n",
      "60000/60000 [==============================] - 2s 33us/step\n",
      "10000/10000 [==============================] - 0s 33us/step\n",
      "60000/60000 [==============================] - 2s 33us/step\n",
      "10000/10000 [==============================] - 0s 32us/step\n",
      "60000/60000 [==============================] - 2s 32us/step\n",
      "10000/10000 [==============================] - 0s 34us/step\n",
      "60000/60000 [==============================] - 2s 33us/step\n",
      "10000/10000 [==============================] - 0s 33us/step\n",
      "60000/60000 [==============================] - 2s 33us/step\n",
      "10000/10000 [==============================] - 0s 33us/step\n",
      "60000/60000 [==============================] - 2s 33us/step\n",
      "10000/10000 [==============================] - 0s 32us/step\n",
      "60000/60000 [==============================] - 2s 33us/step\n",
      "10000/10000 [==============================] - 0s 32us/step\n",
      "60000/60000 [==============================] - 2s 33us/step\n",
      "10000/10000 [==============================] - 0s 33us/step\n",
      "60000/60000 [==============================] - 2s 33us/step\n",
      "10000/10000 [==============================] - 0s 32us/step\n",
      "60000/60000 [==============================] - 2s 33us/step\n",
      "10000/10000 [==============================] - 0s 32us/step\n",
      "Number of iterationss: 2928 of 2929"
     ]
    }
   ],
   "source": [
    "loss_4_8_001=local_sgd(4,8,0.001)"
   ]
  },
  {
   "cell_type": "code",
   "execution_count": 27,
   "metadata": {},
   "outputs": [
    {
     "name": "stdout",
     "output_type": "stream",
     "text": [
      "60000/60000 [==============================] - 2s 36us/step\n",
      "10000/10000 [==============================] - 0s 34us/step\n",
      "60000/60000 [==============================] - 2s 34us/step\n",
      "10000/10000 [==============================] - 0s 33us/step\n",
      "60000/60000 [==============================] - 2s 35us/step\n",
      "10000/10000 [==============================] - 0s 34us/step\n",
      "60000/60000 [==============================] - 2s 34us/step\n",
      "10000/10000 [==============================] - 0s 34us/step\n",
      "60000/60000 [==============================] - 2s 34us/step\n",
      "10000/10000 [==============================] - 0s 33us/step\n",
      "60000/60000 [==============================] - 2s 34us/step\n",
      "10000/10000 [==============================] - 0s 35us/step\n",
      "60000/60000 [==============================] - 2s 34us/step\n",
      "10000/10000 [==============================] - 0s 36us/step\n",
      "60000/60000 [==============================] - 2s 35us/step\n",
      "10000/10000 [==============================] - 0s 34us/step\n",
      "60000/60000 [==============================] - 2s 34us/step\n",
      "10000/10000 [==============================] - 0s 35us/step\n",
      "60000/60000 [==============================] - 2s 34us/step\n",
      "10000/10000 [==============================] - 0s 35us/step\n",
      "60000/60000 [==============================] - 2s 34us/step\n",
      "10000/10000 [==============================] - 0s 34us/step\n",
      "60000/60000 [==============================] - 2s 34us/step\n",
      "10000/10000 [==============================] - 0s 34us/step\n",
      "60000/60000 [==============================] - 2s 34us/step\n",
      "10000/10000 [==============================] - 0s 34us/step\n",
      "60000/60000 [==============================] - 2s 35us/step\n",
      "10000/10000 [==============================] - 0s 34us/step\n",
      "60000/60000 [==============================] - 2s 34us/step\n",
      "10000/10000 [==============================] - 0s 34us/step\n",
      "60000/60000 [==============================] - 2s 34us/step\n",
      "10000/10000 [==============================] - 0s 34us/step\n",
      "60000/60000 [==============================] - 2s 34us/step\n",
      "10000/10000 [==============================] - 0s 34us/step\n",
      "60000/60000 [==============================] - 2s 35us/step\n",
      "10000/10000 [==============================] - 0s 34us/step\n",
      "60000/60000 [==============================] - 2s 34us/step\n",
      "10000/10000 [==============================] - 0s 34us/step\n",
      "60000/60000 [==============================] - 2s 34us/step\n",
      "10000/10000 [==============================] - 0s 35us/step\n",
      "60000/60000 [==============================] - 2s 34us/step\n",
      "10000/10000 [==============================] - 0s 35us/step\n",
      "60000/60000 [==============================] - 2s 34us/step\n",
      "10000/10000 [==============================] - 0s 35us/step\n",
      "60000/60000 [==============================] - 2s 34us/step\n",
      "10000/10000 [==============================] - 0s 35us/step\n",
      "60000/60000 [==============================] - 2s 34us/step\n",
      "10000/10000 [==============================] - 0s 35us/step\n",
      "60000/60000 [==============================] - 2s 34us/step\n",
      "10000/10000 [==============================] - 0s 35us/step\n",
      "60000/60000 [==============================] - 2s 34us/step\n",
      "10000/10000 [==============================] - 0s 35us/step\n",
      "60000/60000 [==============================] - 2s 34us/step\n",
      "10000/10000 [==============================] - 0s 34us/step\n",
      "60000/60000 [==============================] - 2s 35us/step\n",
      "10000/10000 [==============================] - 0s 33us/step\n",
      "60000/60000 [==============================] - 2s 34us/step\n",
      "10000/10000 [==============================] - 0s 34us/step\n",
      "60000/60000 [==============================] - 2s 35us/step\n",
      "10000/10000 [==============================] - 0s 33us/step\n",
      "Number of iterationss: 2928 of 2929"
     ]
    }
   ],
   "source": [
    "loss_8_8_001=local_sgd(8,8,0.001)"
   ]
  },
  {
   "cell_type": "code",
   "execution_count": 28,
   "metadata": {},
   "outputs": [
    {
     "name": "stdout",
     "output_type": "stream",
     "text": [
      "60000/60000 [==============================] - 2s 41us/step\n",
      "10000/10000 [==============================] - 0s 36us/step\n",
      "60000/60000 [==============================] - 2s 38us/step\n",
      "10000/10000 [==============================] - 0s 38us/step\n",
      "60000/60000 [==============================] - 2s 38us/step\n",
      "10000/10000 [==============================] - 0s 37us/step\n",
      "60000/60000 [==============================] - 2s 38us/step\n",
      "10000/10000 [==============================] - 0s 36us/step\n",
      "60000/60000 [==============================] - 2s 37us/step\n",
      "10000/10000 [==============================] - 0s 39us/step\n",
      "60000/60000 [==============================] - 2s 37us/step\n",
      "10000/10000 [==============================] - 0s 38us/step\n",
      "60000/60000 [==============================] - 2s 38us/step\n",
      "10000/10000 [==============================] - 0s 38us/step\n",
      "60000/60000 [==============================] - 2s 37us/step\n",
      "10000/10000 [==============================] - 0s 37us/step\n",
      "60000/60000 [==============================] - 2s 38us/step\n",
      "10000/10000 [==============================] - 0s 38us/step\n",
      "60000/60000 [==============================] - 2s 37us/step\n",
      "10000/10000 [==============================] - 0s 38us/step\n",
      "60000/60000 [==============================] - 2s 38us/step\n",
      "10000/10000 [==============================] - 0s 38us/step\n",
      "60000/60000 [==============================] - 2s 38us/step\n",
      "10000/10000 [==============================] - 0s 37us/step\n",
      "60000/60000 [==============================] - 2s 38us/step\n",
      "10000/10000 [==============================] - 0s 39us/step\n",
      "60000/60000 [==============================] - 2s 37us/step\n",
      "10000/10000 [==============================] - 0s 38us/step\n",
      "60000/60000 [==============================] - 2s 38us/step\n",
      "10000/10000 [==============================] - 0s 39us/step\n",
      "60000/60000 [==============================] - 2s 38us/step\n",
      "10000/10000 [==============================] - 0s 37us/step\n",
      "60000/60000 [==============================] - 2s 37us/step\n",
      "10000/10000 [==============================] - 0s 38us/step\n",
      "60000/60000 [==============================] - 2s 38us/step\n",
      "10000/10000 [==============================] - 0s 37us/step\n",
      "60000/60000 [==============================] - 2s 38us/step\n",
      "10000/10000 [==============================] - 0s 37us/step\n",
      "60000/60000 [==============================] - 2s 38us/step\n",
      "10000/10000 [==============================] - 0s 38us/step\n",
      "60000/60000 [==============================] - 2s 38us/step\n",
      "10000/10000 [==============================] - 0s 37us/step\n",
      "60000/60000 [==============================] - 2s 38us/step\n",
      "10000/10000 [==============================] - 0s 37us/step\n",
      "60000/60000 [==============================] - 2s 38us/step\n",
      "10000/10000 [==============================] - 0s 38us/step\n",
      "60000/60000 [==============================] - 2s 38us/step\n",
      "10000/10000 [==============================] - 0s 38us/step\n",
      "60000/60000 [==============================] - 2s 38us/step\n",
      "10000/10000 [==============================] - 0s 38us/step\n",
      "60000/60000 [==============================] - 2s 38us/step\n",
      "10000/10000 [==============================] - 0s 37us/step\n",
      "60000/60000 [==============================] - 2s 38us/step\n",
      "10000/10000 [==============================] - 0s 39us/step\n",
      "60000/60000 [==============================] - 2s 38us/step\n",
      "10000/10000 [==============================] - 0s 38us/step\n",
      "60000/60000 [==============================] - 2s 37us/step\n",
      "10000/10000 [==============================] - 0s 37us/step\n",
      "60000/60000 [==============================] - 2s 38us/step\n",
      "10000/10000 [==============================] - 0s 38us/step\n",
      "Number of iterationss: 2928 of 2929"
     ]
    }
   ],
   "source": [
    "loss_16_8_001=local_sgd(16,8,0.001)"
   ]
  },
  {
   "cell_type": "code",
   "execution_count": 30,
   "metadata": {},
   "outputs": [
    {
     "data": {
      "image/png": "[encoded data removed]",
      "text/plain": [
       "<Figure size 432x288 with 1 Axes>"
      ]
     },
     "metadata": {
      "needs_background": "light"
     },
     "output_type": "display_data"
    }
   ],
   "source": [
    "desc = ['nodes = 2', 'nodes = 4', 'nodes = 8', 'nodes = 16' ]\n",
    "plt.plot(loss_2_8_001[0],label=desc[0])\n",
    "plt.plot(loss_4_8_001[0],label=desc[1])\n",
    "plt.plot(loss_8_8_001[0],label=desc[2])\n",
    "plt.plot(loss_16_8_001[0],label=desc[3])\n",
    "plt.legend()\n",
    "plt.show()"
   ]
  },
  {
   "cell_type": "code",
   "execution_count": 34,
   "metadata": {},
   "outputs": [
    {
     "data": {
      "image/png": "[encoded data removed]",
      "text/plain": [
       "<Figure size 432x288 with 1 Axes>"
      ]
     },
     "metadata": {
      "needs_background": "light"
     },
     "output_type": "display_data"
    }
   ],
   "source": [
    "desc = ['nodes = 2', 'nodes = 4', 'nodes = 8', 'nodes = 16' ]\n",
    "plt.plot(loss_2_8_001[1],label=desc[0])\n",
    "plt.plot(loss_4_8_001[1],label=desc[1])\n",
    "plt.plot(loss_8_8_001[1],label=desc[2])\n",
    "plt.plot(loss_16_8_001[1],label=desc[3])\n",
    "plt.legend()\n",
    "plt.show()"
   ]
  }
 ],
 "metadata": {
  "kernelspec": {
   "display_name": "Python 3",
   "language": "python",
   "name": "python3"
  },
  "language_info": {
   "codemirror_mode": {
    "name": "ipython",
    "version": 3
   },
   "file_extension": ".py",
   "mimetype": "text/x-python",
   "name": "python",
   "nbconvert_exporter": "python",
   "pygments_lexer": "ipython3",
   "version": "3.7.4"
  }
 },
 "nbformat": 4,
 "nbformat_minor": 4
}
