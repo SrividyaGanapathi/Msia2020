{
 "cells": [
  {
   "cell_type": "code",
   "execution_count": 1,
   "metadata": {},
   "outputs": [
    {
     "name": "stderr",
     "output_type": "stream",
     "text": [
      "Using TensorFlow backend.\n"
     ]
    }
   ],
   "source": [
    "\n",
    "from __future__ import print_function\n",
    "import keras\n",
    "from keras.datasets import mnist\n",
    "from keras.models import Sequential\n",
    "import tensorflow as tf\n",
    "from keras.layers import Dense, Dropout, Flatten, Activation\n",
    "from keras.layers import Conv2D, MaxPooling2D\n",
    "from keras import backend as K\n",
    "import matplotlib.pyplot as plt\n",
    "import numpy as np\n",
    "from sklearn.utils import shuffle\n",
    "import sys\n"
   ]
  },
  {
   "cell_type": "code",
   "execution_count": 2,
   "metadata": {},
   "outputs": [],
   "source": [
    "# input image dimensions\n",
    "img_rows, img_cols = 28, 28"
   ]
  },
  {
   "cell_type": "code",
   "execution_count": 3,
   "metadata": {},
   "outputs": [],
   "source": [
    "batch_size = 20\n",
    "num_classes = 10\n",
    "epochs = 50\n"
   ]
  },
  {
   "cell_type": "code",
   "execution_count": 4,
   "metadata": {},
   "outputs": [],
   "source": [
    "# the data, split between train and test sets\n",
    "(x_train, y_train), (x_test, y_test) = mnist.load_data()"
   ]
  },
  {
   "cell_type": "code",
   "execution_count": 5,
   "metadata": {},
   "outputs": [
    {
     "data": {
      "text/plain": [
       "(60000, 28, 28)"
      ]
     },
     "execution_count": 5,
     "metadata": {},
     "output_type": "execute_result"
    }
   ],
   "source": [
    "x_train.shape"
   ]
  },
  {
   "cell_type": "code",
   "execution_count": 6,
   "metadata": {},
   "outputs": [],
   "source": [
    "iterations = np.ceil((x_train.shape[0]*epochs)/batch_size)\n",
    "\n",
    "iterations_per_epoch = np.ceil((x_train.shape[0])/batch_size)\n",
    "\n",
    "num_batch = int(x_train.shape[0]/batch_size)"
   ]
  },
  {
   "cell_type": "code",
   "execution_count": 7,
   "metadata": {},
   "outputs": [],
   "source": [
    "x_train = np.reshape(np.array(x_train), (60000, 784))\n",
    "x_test = np.reshape(np.array(x_test), (10000, 784))\n",
    "x_train = x_train / 255\n",
    "x_test = x_test / 255"
   ]
  },
  {
   "cell_type": "code",
   "execution_count": 8,
   "metadata": {},
   "outputs": [],
   "source": [
    "y_train = keras.utils.to_categorical(y_train, num_classes)\n",
    "y_test = keras.utils.to_categorical(y_test, num_classes)"
   ]
  },
  {
   "cell_type": "code",
   "execution_count": 9,
   "metadata": {},
   "outputs": [
    {
     "data": {
      "text/plain": [
       "array([[0., 0., 0., ..., 0., 0., 0.],\n",
       "       [1., 0., 0., ..., 0., 0., 0.],\n",
       "       [0., 0., 0., ..., 0., 0., 0.],\n",
       "       ...,\n",
       "       [0., 0., 0., ..., 0., 0., 0.],\n",
       "       [0., 0., 0., ..., 0., 0., 0.],\n",
       "       [0., 0., 0., ..., 0., 1., 0.]], dtype=float32)"
      ]
     },
     "execution_count": 9,
     "metadata": {},
     "output_type": "execute_result"
    }
   ],
   "source": [
    "y_train"
   ]
  },
  {
   "cell_type": "code",
   "execution_count": 10,
   "metadata": {},
   "outputs": [],
   "source": [
    "# Function to create individual model\n",
    "def k_model(output_dim,input_dim):\n",
    "    model = Sequential() \n",
    "    model.add(Dense(output_dim, input_dim=input_dim)) \n",
    "    model.add(Activation('softmax'))\n",
    "    return model\n",
    "\n",
    "# def k_model(output_dim,input_dim):\n",
    "#     model = Sequential() \n",
    "#     model.add(Dense(1000, input_dim=input_dim))\n",
    "#     model.add(Activation('relu'))\n",
    "#     model.add(Dense(output_dim))\n",
    "#     model.add(Activation('softmax'))\n",
    "#     return model"
   ]
  },
  {
   "cell_type": "code",
   "execution_count": 11,
   "metadata": {},
   "outputs": [],
   "source": [
    "# Function to show the loss plot of training and validation set\n",
    "def loss(history):\n",
    "    plt.plot(history.history['loss'])\n",
    "    plt.plot(history.history['val_loss'])\n",
    "    plt.title('Model loss')\n",
    "    plt.ylabel('Loss')\n",
    "    plt.xlabel('Epoch')\n",
    "    plt.legend(['Train', 'Test'], loc='upper left')\n",
    "    plt.show()"
   ]
  },
  {
   "cell_type": "code",
   "execution_count": 12,
   "metadata": {},
   "outputs": [],
   "source": [
    "gpu_options = tf.GPUOptions(per_process_gpu_memory_fraction=0.7)\n",
    "sess = tf.Session(config=tf.ConfigProto(gpu_options=gpu_options))"
   ]
  },
  {
   "cell_type": "markdown",
   "metadata": {},
   "source": [
    "### Baseline model \n",
    "Got one layer that maps input to 10 classes"
   ]
  },
  {
   "cell_type": "code",
   "execution_count": 15,
   "metadata": {},
   "outputs": [
    {
     "name": "stdout",
     "output_type": "stream",
     "text": [
      "Train on 60000 samples, validate on 10000 samples\n",
      "Epoch 1/15\n",
      "60000/60000 [==============================] - 42s 698us/step - loss: 0.6669 - acc: 0.8352 - val_loss: 0.4208 - val_acc: 0.8901\n",
      "Epoch 2/15\n",
      "60000/60000 [==============================] - 40s 660us/step - loss: 0.4105 - acc: 0.8895 - val_loss: 0.3626 - val_acc: 0.9039\n",
      "Epoch 3/15\n",
      "60000/60000 [==============================] - 41s 685us/step - loss: 0.3698 - acc: 0.8987 - val_loss: 0.3366 - val_acc: 0.9101\n",
      "Epoch 4/15\n",
      "60000/60000 [==============================] - 35s 583us/step - loss: 0.3490 - acc: 0.9033 - val_loss: 0.3235 - val_acc: 0.9113\n",
      "Epoch 5/15\n",
      "60000/60000 [==============================] - 43s 717us/step - loss: 0.3356 - acc: 0.9068 - val_loss: 0.3134 - val_acc: 0.9143\n",
      "Epoch 6/15\n",
      "60000/60000 [==============================] - 55s 913us/step - loss: 0.3258 - acc: 0.9094 - val_loss: 0.3066 - val_acc: 0.9155\n",
      "Epoch 7/15\n",
      "60000/60000 [==============================] - 43s 723us/step - loss: 0.3188 - acc: 0.9114 - val_loss: 0.3019 - val_acc: 0.9173\n",
      "Epoch 8/15\n",
      "60000/60000 [==============================] - 38s 629us/step - loss: 0.3129 - acc: 0.9127 - val_loss: 0.2983 - val_acc: 0.9178\n",
      "Epoch 9/15\n",
      "60000/60000 [==============================] - 39s 647us/step - loss: 0.3082 - acc: 0.9148 - val_loss: 0.2949 - val_acc: 0.9167\n",
      "Epoch 10/15\n",
      "60000/60000 [==============================] - 41s 685us/step - loss: 0.3042 - acc: 0.9152 - val_loss: 0.2925 - val_acc: 0.9182\n",
      "Epoch 11/15\n",
      "60000/60000 [==============================] - 35s 584us/step - loss: 0.3007 - acc: 0.9162 - val_loss: 0.2902 - val_acc: 0.9190\n",
      "Epoch 12/15\n",
      "60000/60000 [==============================] - 41s 678us/step - loss: 0.2977 - acc: 0.9172 - val_loss: 0.2886 - val_acc: 0.9193\n",
      "Epoch 13/15\n",
      "60000/60000 [==============================] - 40s 664us/step - loss: 0.2952 - acc: 0.9174 - val_loss: 0.2863 - val_acc: 0.9198\n",
      "Epoch 14/15\n",
      "60000/60000 [==============================] - 35s 578us/step - loss: 0.2928 - acc: 0.9180 - val_loss: 0.2837 - val_acc: 0.9197\n",
      "Epoch 15/15\n",
      "60000/60000 [==============================] - 32s 539us/step - loss: 0.2906 - acc: 0.9193 - val_loss: 0.2842 - val_acc: 0.9205\n"
     ]
    },
    {
     "data": {
      "image/png": "[encoded data removed]",
      "text/plain": [
       "<Figure size 432x288 with 1 Axes>"
      ]
     },
     "metadata": {
      "needs_background": "light"
     },
     "output_type": "display_data"
    }
   ],
   "source": [
    "base_model=k_model(10,784)\n",
    "\n",
    "#base_model=k_model(10,784)\n",
    "base_model.compile(loss=keras.losses.categorical_crossentropy,optimizer=keras.optimizers.SGD(lr=0.01, momentum=0.0, nesterov=False),metrics=['accuracy'])\n",
    "base_model = base_model.fit(x_train, y_train,\n",
    "              batch_size=20,\n",
    "              epochs=15,\n",
    "              verbose=1,\n",
    "              validation_data=(x_test, y_test))\n",
    "        \n",
    "loss(base_model)"
   ]
  },
  {
   "cell_type": "markdown",
   "metadata": {},
   "source": [
    "## The baseline model gives an accuracy of 91.36% at the end of 50 epochs"
   ]
  },
  {
   "cell_type": "markdown",
   "metadata": {},
   "source": [
    "### Local SGD\n",
    "\n",
    "Below is the list of variables:\n",
    "1. Number of nodes\n",
    "2. Learning rate\n",
    "3. Time step\n",
    "4. Data - Distributed/Not distributed"
   ]
  },
  {
   "cell_type": "code",
   "execution_count": 16,
   "metadata": {},
   "outputs": [],
   "source": [
    "def list_model(n):\n",
    "    l = []\n",
    "    for i in range(n):\n",
    "         l.append(k_model(10,784))\n",
    "    \n",
    "    return l"
   ]
  },
  {
   "cell_type": "code",
   "execution_count": 17,
   "metadata": {},
   "outputs": [],
   "source": [
    "def define_model(n,alpha):\n",
    "    models = list_model(n)\n",
    "    \n",
    "\n",
    "    num_batch = len(y_train) // batch_size\n",
    "\n",
    "    #        c.append(0)\n",
    "    #        loss.append([])\n",
    "\n",
    "    for i in models:\n",
    "        i.compile(loss = keras.losses.categorical_crossentropy,\n",
    "                    optimizer = keras.optimizers.SGD(lr = alpha, momentum = 0.0, nesterov = False, clipvalue=0.5),\n",
    "                    metrics=['accuracy'])\n",
    "    \n",
    "    return models"
   ]
  },
  {
   "cell_type": "code",
   "execution_count": 21,
   "metadata": {},
   "outputs": [],
   "source": [
    "def local_sgd(n,t,alpha,epoch,batch_size,train_data,test_data): \n",
    "    '''\n",
    "    This function performs local sgd. \n",
    "    \n",
    "    Input :\n",
    "       model : (keras model) The model that is to be placed on each node\n",
    "       n : number of nodes\n",
    "       epoch : the number of epochs\n",
    "       batch_size : size of the batch for each iteration\n",
    "       train_data : a tuple containing the training X and y\n",
    "       test_data : a tuple containing the test X and y\n",
    "       \n",
    "    Output:\n",
    "       Returns a tuple containing Training and Test loss\n",
    "    '''\n",
    "    \n",
    "    # Initialising the variables \n",
    "    c = 0\n",
    "    train_loss = []\n",
    "    test_loss = []\n",
    "    model_data = []\n",
    "    models = []\n",
    "    \n",
    "    # Preparing n sets of data by shuffling and creating a list models having n instances of model\n",
    "    for i in range(n):\n",
    "        model_data.append(shuffle(train_data[0],train_data[1]))\n",
    "        models.append(k_model(10,784))\n",
    "    \n",
    "    # Compiling all the models\n",
    "    for i in models:\n",
    "        i.compile(loss = keras.losses.categorical_crossentropy,\n",
    "                    optimizer = keras.optimizers.SGD(lr = alpha, momentum = 0.0, nesterov = False),\n",
    "                    metrics=['accuracy'])\n",
    "      \n",
    "    \n",
    "    # Training and averaging the weights\n",
    "    num_epoch = 0 # keeps track of number of epochs\n",
    "    itr = 0 # keeps track of number of iterations\n",
    "    c = 0 #keeps track of batch number of the data to process\n",
    "    \n",
    "    while (num_epoch != epoch):\n",
    "        while (True):\n",
    "            for k in range(n):\n",
    "                batch_x = model_data[k][0][c * batch_size: (c + 1) * batch_size]\n",
    "                batch_y = model_data[k][1][c * batch_size: (c + 1) * batch_size]\n",
    "                models[k].train_on_batch(batch_x, batch_y)\n",
    "\n",
    "            c += 1\n",
    "            itr += 1\n",
    "            c = c % num_batch\n",
    "\n",
    "            if (itr % t == 0):\n",
    "                weights = []\n",
    "                for l in range(n):\n",
    "                    weights.append(models[l].get_weights())\n",
    "                    \n",
    "\n",
    "                new_weight = weights[0]\n",
    "                \n",
    "                # Averaging the weights and assigning it to each model on the nodes\n",
    "                for l in range(1,n):\n",
    "                        new_weight = np.array(new_weight) + np.array(weights[l])\n",
    "\n",
    "         \n",
    "                for l in range(n):\n",
    "                    models[l].set_weights(list(np.array(new_weight)/n))\n",
    "                    \n",
    "                \n",
    "                \n",
    "            if (c == 0):\n",
    "    \n",
    "                num_epoch += 1\n",
    "                loss_tr = models[0].evaluate(train_data[0],train_data[1])\n",
    "                loss_te = models[0].evaluate(test_data[0],test_data[1])\n",
    "                print (\"Epoch \" + str(num_epoch) + \" of \" + str(epoch) + \" : train loss - \" + str(loss_tr[0]) + \" : train accuracy - \" + str(loss_tr[1]) + \" test loss - \" + str(loss_te[0])+ \" test accuracy - \" + str(loss_te[1]))\n",
    "                train_loss.append(loss_tr[0])\n",
    "                test_loss.append(loss_te[0])\n",
    "                \n",
    "                break\n",
    "    \n",
    "    \n",
    "    return (train_loss,test_loss)"
   ]
  },
  {
   "cell_type": "markdown",
   "metadata": {},
   "source": [
    "### The below 4 cells runs the local SGD model for 2,4,8,16 number of nodes and tunes the learning rate by taking 4 different values for each"
   ]
  },
  {
   "cell_type": "code",
   "execution_count": 37,
   "metadata": {},
   "outputs": [
    {
     "name": "stdout",
     "output_type": "stream",
     "text": [
      "60000/60000 [==============================] - 10s 167us/step\n",
      "10000/10000 [==============================] - 1s 135us/step\n",
      "Epoch 1 of 25 : train loss - 1.0044422698338826 : train accuracy - 0.8036333333333333 test loss - 0.980016960811615 test accuracy - 0.8146\n",
      "60000/60000 [==============================] - 8s 133us/step\n",
      "10000/10000 [==============================] - 1s 123us/step\n",
      "Epoch 2 of 25 : train loss - 0.7475557467937469 : train accuracy - 0.8395 test loss - 0.7206396039962768 test accuracy - 0.849\n",
      "60000/60000 [==============================] - 10s 166us/step\n",
      "10000/10000 [==============================] - 2s 206us/step\n",
      "Epoch 3 of 25 : train loss - 0.6389712663332622 : train accuracy - 0.85415 test loss - 0.612104046869278 test accuracy - 0.8642\n",
      "60000/60000 [==============================] - 8s 130us/step\n",
      "10000/10000 [==============================] - 1s 145us/step\n",
      "Epoch 4 of 25 : train loss - 0.5774856105248133 : train accuracy - 0.8625833333333334 test loss - 0.551106837797165 test accuracy - 0.8738\n",
      "60000/60000 [==============================] - 8s 126us/step\n",
      "10000/10000 [==============================] - 1s 113us/step\n",
      "Epoch 5 of 25 : train loss - 0.5371817604621252 : train accuracy - 0.86775 test loss - 0.5113658848047257 test accuracy - 0.8783\n",
      "60000/60000 [==============================] - 8s 128us/step\n",
      "10000/10000 [==============================] - 1s 117us/step\n",
      "Epoch 6 of 25 : train loss - 0.5083378237962722 : train accuracy - 0.8725333333333334 test loss - 0.48307529072761535 test accuracy - 0.8825\n",
      "60000/60000 [==============================] - 10s 171us/step\n",
      "10000/10000 [==============================] - 2s 159us/step\n",
      "Epoch 7 of 25 : train loss - 0.48645334998369216 : train accuracy - 0.8760166666666667 test loss - 0.46171464118957517 test accuracy - 0.8862\n",
      "60000/60000 [==============================] - 8s 135us/step\n",
      "10000/10000 [==============================] - 1s 125us/step\n",
      "Epoch 8 of 25 : train loss - 0.4691445496280988 : train accuracy - 0.8793166666666666 test loss - 0.44489734358787536 test accuracy - 0.8884\n",
      "60000/60000 [==============================] - 8s 141us/step\n",
      "10000/10000 [==============================] - 2s 174us/step\n",
      "Epoch 9 of 25 : train loss - 0.45502362444400785 : train accuracy - 0.8815833333333334 test loss - 0.4312375361204147 test accuracy - 0.8911\n",
      "60000/60000 [==============================] - 11s 190us/step\n",
      "10000/10000 [==============================] - 2s 184us/step\n",
      "Epoch 10 of 25 : train loss - 0.44322399047215777 : train accuracy - 0.8838833333333334 test loss - 0.4198717143893242 test accuracy - 0.8931\n",
      "60000/60000 [==============================] - 10s 166us/step\n",
      "10000/10000 [==============================] - 1s 148us/step\n",
      "Epoch 11 of 25 : train loss - 0.4331742342710495 : train accuracy - 0.8856 test loss - 0.4102315464258194 test accuracy - 0.8947\n",
      "60000/60000 [==============================] - 8s 134us/step\n",
      "10000/10000 [==============================] - 2s 155us/step\n",
      "Epoch 12 of 25 : train loss - 0.42448109643856685 : train accuracy - 0.8871833333333333 test loss - 0.4019265123128891 test accuracy - 0.8953\n",
      "60000/60000 [==============================] - 8s 134us/step\n",
      "10000/10000 [==============================] - 1s 102us/step\n",
      "Epoch 13 of 25 : train loss - 0.41686416600147885 : train accuracy - 0.8887666666666667 test loss - 0.3946785661935806 test accuracy - 0.8962\n",
      "60000/60000 [==============================] - 10s 171us/step\n",
      "10000/10000 [==============================] - 1s 136us/step\n",
      "Epoch 14 of 25 : train loss - 0.4101176384369532 : train accuracy - 0.8901833333333333 test loss - 0.38828392313718796 test accuracy - 0.8972\n",
      "60000/60000 [==============================] - 10s 170us/step\n",
      "10000/10000 [==============================] - 1s 146us/step\n",
      "Epoch 15 of 25 : train loss - 0.4040866895278295 : train accuracy - 0.8914666666666666 test loss - 0.3825895301580429 test accuracy - 0.898\n",
      "60000/60000 [==============================] - 9s 142us/step\n",
      "10000/10000 [==============================] - 2s 167us/step\n",
      "Epoch 16 of 25 : train loss - 0.3986523555835088 : train accuracy - 0.8923833333333333 test loss - 0.37747783499956133 test accuracy - 0.8994\n",
      "60000/60000 [==============================] - 8s 129us/step\n",
      "10000/10000 [==============================] - 1s 125us/step\n",
      "Epoch 17 of 25 : train loss - 0.39372154640754065 : train accuracy - 0.8935666666666666 test loss - 0.3728570794701576 test accuracy - 0.9003\n",
      "60000/60000 [==============================] - 10s 172us/step\n",
      "10000/10000 [==============================] - 1s 146us/step\n",
      "Epoch 18 of 25 : train loss - 0.389220340569814 : train accuracy - 0.8946 test loss - 0.3686544191122055 test accuracy - 0.9014\n",
      "60000/60000 [==============================] - 11s 175us/step\n",
      "10000/10000 [==============================] - 1s 106us/step\n",
      "Epoch 19 of 25 : train loss - 0.3850891141017278 : train accuracy - 0.89545 test loss - 0.36481117215156555 test accuracy - 0.9024\n",
      "60000/60000 [==============================] - 8s 134us/step\n",
      "10000/10000 [==============================] - 2s 167us/step\n",
      "Epoch 20 of 25 : train loss - 0.3812792314549287 : train accuracy - 0.8962666666666667 test loss - 0.3612795544743538 test accuracy - 0.9033\n",
      "60000/60000 [==============================] - 8s 131us/step\n",
      "10000/10000 [==============================] - 1s 140us/step\n",
      "Epoch 21 of 25 : train loss - 0.37775054346720377 : train accuracy - 0.8970166666666667 test loss - 0.3580201507210731 test accuracy - 0.9042\n",
      "60000/60000 [==============================] - 10s 159us/step\n",
      "10000/10000 [==============================] - 2s 158us/step\n",
      "Epoch 22 of 25 : train loss - 0.37446959466934204 : train accuracy - 0.89775 test loss - 0.3550001746416092 test accuracy - 0.9056\n",
      "60000/60000 [==============================] - 12s 194us/step\n",
      "10000/10000 [==============================] - 1s 131us/step\n",
      "Epoch 23 of 25 : train loss - 0.37140829998453456 : train accuracy - 0.8983666666666666 test loss - 0.3521920887351036 test accuracy - 0.9061\n",
      "60000/60000 [==============================] - 9s 150us/step\n",
      "10000/10000 [==============================] - 2s 247us/step\n",
      "Epoch 24 of 25 : train loss - 0.36854281310637793 : train accuracy - 0.89925 test loss - 0.3495725883603096 test accuracy - 0.9062\n",
      "60000/60000 [==============================] - 7s 124us/step\n",
      "10000/10000 [==============================] - 1s 122us/step\n",
      "Epoch 25 of 25 : train loss - 0.3658527940491835 : train accuracy - 0.89975 test loss - 0.3471217925667763 test accuracy - 0.9063\n",
      "60000/60000 [==============================] - 12s 202us/step\n",
      "10000/10000 [==============================] - 1s 126us/step\n",
      "Epoch 1 of 25 : train loss - 0.4431660864710808 : train accuracy - 0.8839833333333333 test loss - 0.4204869352579117 test accuracy - 0.8926\n",
      "60000/60000 [==============================] - 9s 147us/step\n",
      "10000/10000 [==============================] - 1s 110us/step\n",
      "Epoch 2 of 25 : train loss - 0.3814643886884054 : train accuracy - 0.8962666666666667 test loss - 0.36191295874118806 test accuracy - 0.9019\n",
      "60000/60000 [==============================] - 7s 114us/step\n",
      "10000/10000 [==============================] - 1s 117us/step\n",
      "Epoch 3 of 25 : train loss - 0.354730274784565 : train accuracy - 0.9021166666666667 test loss - 0.3375220039665699 test accuracy - 0.9075\n",
      "60000/60000 [==============================] - 7s 112us/step\n",
      "10000/10000 [==============================] - 1s 109us/step\n",
      "Epoch 4 of 25 : train loss - 0.3387901998639107 : train accuracy - 0.9062166666666667 test loss - 0.3234686077415943 test accuracy - 0.9119\n",
      "60000/60000 [==============================] - 9s 151us/step\n",
      "10000/10000 [==============================] - 1s 150us/step\n",
      "Epoch 5 of 25 : train loss - 0.32785796987215676 : train accuracy - 0.9091 test loss - 0.3141245854318142 test accuracy - 0.9135\n",
      "60000/60000 [==============================] - 7s 121us/step\n",
      "10000/10000 [==============================] - 1s 103us/step\n",
      "Epoch 6 of 25 : train loss - 0.3197401673992475 : train accuracy - 0.9109 test loss - 0.30738391247987745 test accuracy - 0.9156\n",
      "60000/60000 [==============================] - 7s 119us/step\n",
      "10000/10000 [==============================] - 1s 113us/step\n",
      "Epoch 7 of 25 : train loss - 0.31338894047141075 : train accuracy - 0.9131333333333334 test loss - 0.30224715844392774 test accuracy - 0.9159\n",
      "60000/60000 [==============================] - 8s 139us/step\n",
      "10000/10000 [==============================] - 2s 178us/step\n",
      "Epoch 8 of 25 : train loss - 0.3082362456381321 : train accuracy - 0.9148666666666667 test loss - 0.2981853043437004 test accuracy - 0.9167\n",
      "60000/60000 [==============================] - 7s 120us/step\n",
      "10000/10000 [==============================] - 1s 112us/step\n",
      "Epoch 9 of 25 : train loss - 0.3039457047621409 : train accuracy - 0.91615 test loss - 0.2948893453717232 test accuracy - 0.9177\n",
      "60000/60000 [==============================] - 9s 145us/step\n",
      "10000/10000 [==============================] - 1s 139us/step\n",
      "Epoch 10 of 25 : train loss - 0.3002971178094546 : train accuracy - 0.91705 test loss - 0.292155218309164 test accuracy - 0.9183\n",
      "60000/60000 [==============================] - 8s 131us/step\n",
      "10000/10000 [==============================] - 2s 181us/step\n",
      "Epoch 11 of 25 : train loss - 0.29714181179801624 : train accuracy - 0.9177 test loss - 0.28984672075510026 test accuracy - 0.919\n",
      "60000/60000 [==============================] - 9s 153us/step\n",
      "10000/10000 [==============================] - 1s 123us/step\n",
      "Epoch 12 of 25 : train loss - 0.2943727814475695 : train accuracy - 0.9184166666666667 test loss - 0.2878747919797897 test accuracy - 0.9196\n",
      "60000/60000 [==============================] - 7s 118us/step\n",
      "10000/10000 [==============================] - 1s 115us/step\n",
      "Epoch 13 of 25 : train loss - 0.2919140502989292 : train accuracy - 0.9187666666666666 test loss - 0.286168817704916 test accuracy - 0.92\n",
      "60000/60000 [==============================] - 8s 134us/step\n",
      "10000/10000 [==============================] - 2s 158us/step\n",
      "Epoch 14 of 25 : train loss - 0.28971245975693066 : train accuracy - 0.9192666666666667 test loss - 0.2846736896574497 test accuracy - 0.9203\n",
      "60000/60000 [==============================] - 7s 117us/step\n",
      "10000/10000 [==============================] - 1s 109us/step\n",
      "Epoch 15 of 25 : train loss - 0.2877246489961942 : train accuracy - 0.9197833333333333 test loss - 0.28335155694186687 test accuracy - 0.9207\n",
      "60000/60000 [==============================] - 7s 113us/step\n",
      "10000/10000 [==============================] - 2s 155us/step\n",
      "Epoch 16 of 25 : train loss - 0.28591690904001393 : train accuracy - 0.9205666666666666 test loss - 0.2821732991218567 test accuracy - 0.9213\n",
      "60000/60000 [==============================] - 7s 113us/step\n",
      "10000/10000 [==============================] - 1s 116us/step\n",
      "Epoch 17 of 25 : train loss - 0.2842625905861457 : train accuracy - 0.9211 test loss - 0.28111601839065553 test accuracy - 0.9218\n",
      "60000/60000 [==============================] - 7s 123us/step\n",
      "10000/10000 [==============================] - 2s 165us/step\n",
      "Epoch 18 of 25 : train loss - 0.282740292168657 : train accuracy - 0.9215333333333333 test loss - 0.280161608722806 test accuracy - 0.9218\n",
      "60000/60000 [==============================] - 7s 116us/step\n",
      "10000/10000 [==============================] - 1s 122us/step\n",
      "Epoch 19 of 25 : train loss - 0.28133262481987475 : train accuracy - 0.9219 test loss - 0.27929539175629614 test accuracy - 0.922\n",
      "60000/60000 [==============================] - 10s 160us/step\n",
      "10000/10000 [==============================] - 2s 190us/step\n",
      "Epoch 20 of 25 : train loss - 0.28002527306775254 : train accuracy - 0.9224666666666667 test loss - 0.27850539804399016 test accuracy - 0.9216\n",
      "60000/60000 [==============================] - 7s 119us/step\n",
      "10000/10000 [==============================] - 1s 99us/step\n",
      "Epoch 21 of 25 : train loss - 0.27880633064309757 : train accuracy - 0.9227833333333333 test loss - 0.2777818101674318 test accuracy - 0.9216\n",
      "60000/60000 [==============================] - 7s 123us/step\n",
      "10000/10000 [==============================] - 1s 121us/step\n",
      "Epoch 22 of 25 : train loss - 0.27766581094165643 : train accuracy - 0.9230166666666667 test loss - 0.27711641807854176 test accuracy - 0.922\n",
      "60000/60000 [==============================] - 7s 112us/step\n",
      "10000/10000 [==============================] - 1s 123us/step\n",
      "Epoch 23 of 25 : train loss - 0.27659525106052557 : train accuracy - 0.92335 test loss - 0.27650234695672987 test accuracy - 0.9221\n",
      "60000/60000 [==============================] - 9s 152us/step\n",
      "10000/10000 [==============================] - 2s 159us/step\n",
      "Epoch 24 of 25 : train loss - 0.275587424916029 : train accuracy - 0.9236333333333333 test loss - 0.27593377843797207 test accuracy - 0.9224\n",
      "60000/60000 [==============================] - 8s 133us/step\n",
      "10000/10000 [==============================] - 1s 125us/step\n",
      "Epoch 25 of 25 : train loss - 0.2746361482063929 : train accuracy - 0.924 test loss - 0.2754057760745287 test accuracy - 0.9225\n",
      "60000/60000 [==============================] - 9s 150us/step\n",
      "10000/10000 [==============================] - 1s 129us/step\n",
      "Epoch 1 of 25 : train loss - 0.32825212267835935 : train accuracy - 0.9095666666666666 test loss - 0.31452041947245596 test accuracy - 0.9127\n",
      "60000/60000 [==============================] - 11s 188us/step\n",
      "10000/10000 [==============================] - 1s 148us/step\n",
      "Epoch 2 of 25 : train loss - 0.3008540038138628 : train accuracy - 0.9170333333333334 test loss - 0.292480908292532 test accuracy - 0.9178\n",
      "60000/60000 [==============================] - 7s 119us/step\n",
      "10000/10000 [==============================] - 1s 134us/step\n",
      "Epoch 3 of 25 : train loss - 0.2883259531954924 : train accuracy - 0.92045 test loss - 0.2836271876960993 test accuracy - 0.9208\n",
      "60000/60000 [==============================] - 7s 109us/step\n",
      "10000/10000 [==============================] - 1s 124us/step\n",
      "Epoch 4 of 25 : train loss - 0.280656791973114 : train accuracy - 0.9227 test loss - 0.278783293941617 test accuracy - 0.9217\n",
      "60000/60000 [==============================] - 8s 138us/step\n",
      "10000/10000 [==============================] - 2s 153us/step\n",
      "Epoch 5 of 25 : train loss - 0.2752933000485102 : train accuracy - 0.9240833333333334 test loss - 0.2757009264498949 test accuracy - 0.9224\n",
      "60000/60000 [==============================] - 10s 159us/step\n",
      "10000/10000 [==============================] - 2s 167us/step\n",
      "Epoch 6 of 25 : train loss - 0.2712417282829682 : train accuracy - 0.9249166666666667 test loss - 0.2735614282608032 test accuracy - 0.9228\n",
      "60000/60000 [==============================] - 9s 156us/step\n",
      "10000/10000 [==============================] - 2s 162us/step\n",
      "Epoch 7 of 25 : train loss - 0.2679631083558003 : train accuracy - 0.9259 test loss - 0.2720518784016371 test accuracy - 0.9233\n",
      "60000/60000 [==============================] - 8s 141us/step\n",
      "10000/10000 [==============================] - 1s 89us/step\n",
      "Epoch 8 of 25 : train loss - 0.2653021285523971 : train accuracy - 0.9267333333333333 test loss - 0.2708495667397976 test accuracy - 0.9236\n",
      "60000/60000 [==============================] - 7s 124us/step\n",
      "10000/10000 [==============================] - 2s 151us/step\n",
      "Epoch 9 of 25 : train loss - 0.2630514227082332 : train accuracy - 0.9274333333333333 test loss - 0.2699032502561808 test accuracy - 0.923\n",
      "60000/60000 [==============================] - 9s 149us/step\n",
      "10000/10000 [==============================] - 1s 140us/step\n",
      "Epoch 10 of 25 : train loss - 0.2611091791103284 : train accuracy - 0.92785 test loss - 0.26912395814955237 test accuracy - 0.9235\n",
      "60000/60000 [==============================] - 8s 133us/step\n",
      "10000/10000 [==============================] - 1s 131us/step\n",
      "Epoch 11 of 25 : train loss - 0.25940749321977297 : train accuracy - 0.92835 test loss - 0.2684806292355061 test accuracy - 0.9237\n",
      "60000/60000 [==============================] - 7s 123us/step\n",
      "10000/10000 [==============================] - 1s 107us/step\n",
      "Epoch 12 of 25 : train loss - 0.25788952164947987 : train accuracy - 0.9288833333333333 test loss - 0.2679648979485035 test accuracy - 0.9241\n",
      "60000/60000 [==============================] - 9s 145us/step\n",
      "10000/10000 [==============================] - 1s 125us/step\n",
      "Epoch 13 of 25 : train loss - 0.2565268715828657 : train accuracy - 0.9294333333333333 test loss - 0.26754385988116264 test accuracy - 0.9241\n",
      "60000/60000 [==============================] - 8s 134us/step\n",
      "10000/10000 [==============================] - 1s 134us/step\n",
      "Epoch 14 of 25 : train loss - 0.2552930261025826 : train accuracy - 0.9298333333333333 test loss - 0.267181683537364 test accuracy - 0.9246\n",
      "60000/60000 [==============================] - 9s 145us/step\n",
      "10000/10000 [==============================] - 1s 134us/step\n",
      "Epoch 15 of 25 : train loss - 0.2541640507062276 : train accuracy - 0.93005 test loss - 0.2668980939567089 test accuracy - 0.9249\n",
      "60000/60000 [==============================] - 7s 122us/step\n",
      "10000/10000 [==============================] - 1s 107us/step\n",
      "Epoch 16 of 25 : train loss - 0.25312998613913856 : train accuracy - 0.9304166666666667 test loss - 0.2666375614315271 test accuracy - 0.925\n",
      "60000/60000 [==============================] - 7s 120us/step\n",
      "10000/10000 [==============================] - 1s 113us/step\n",
      "Epoch 17 of 25 : train loss - 0.2521753650993109 : train accuracy - 0.9308333333333333 test loss - 0.26641364500522613 test accuracy - 0.9254\n",
      "60000/60000 [==============================] - 7s 112us/step\n",
      "10000/10000 [==============================] - 1s 125us/step\n",
      "Epoch 18 of 25 : train loss - 0.25128950008054574 : train accuracy - 0.93115 test loss - 0.26621960278153417 test accuracy - 0.9255\n",
      "60000/60000 [==============================] - 8s 131us/step\n",
      "10000/10000 [==============================] - 1s 100us/step\n",
      "Epoch 19 of 25 : train loss - 0.25046371297240255 : train accuracy - 0.9313333333333333 test loss - 0.2660512638896704 test accuracy - 0.9255\n",
      "60000/60000 [==============================] - 6s 105us/step\n",
      "10000/10000 [==============================] - 1s 97us/step\n",
      "Epoch 20 of 25 : train loss - 0.2496908621440331 : train accuracy - 0.93165 test loss - 0.2659071779310703 test accuracy - 0.9254\n",
      "60000/60000 [==============================] - 6s 107us/step\n",
      "10000/10000 [==============================] - 1s 101us/step\n",
      "Epoch 21 of 25 : train loss - 0.24896498980224133 : train accuracy - 0.9319833333333334 test loss - 0.26578419241309165 test accuracy - 0.9253\n",
      "60000/60000 [==============================] - 7s 118us/step\n",
      "10000/10000 [==============================] - 1s 129us/step\n",
      "Epoch 22 of 25 : train loss - 0.24828106740613778 : train accuracy - 0.9321 test loss - 0.2656796543747187 test accuracy - 0.9254\n",
      "60000/60000 [==============================] - 8s 140us/step\n",
      "10000/10000 [==============================] - 2s 177us/step\n",
      "Epoch 23 of 25 : train loss - 0.2476348325431347 : train accuracy - 0.9322333333333334 test loss - 0.26559135715663434 test accuracy - 0.9255\n",
      "60000/60000 [==============================] - 8s 127us/step\n",
      "10000/10000 [==============================] - 1s 114us/step\n",
      "Epoch 24 of 25 : train loss - 0.24702262115776538 : train accuracy - 0.9324 test loss - 0.2655174593359232 test accuracy - 0.9256\n",
      "60000/60000 [==============================] - 10s 159us/step\n",
      "10000/10000 [==============================] - 1s 144us/step\n",
      "Epoch 25 of 25 : train loss - 0.24644128661453724 : train accuracy - 0.93255 test loss - 0.26545639443695546 test accuracy - 0.9256\n",
      "60000/60000 [==============================] - 13s 213us/step\n",
      "10000/10000 [==============================] - 2s 191us/step\n",
      "Epoch 1 of 25 : train loss - 0.3068439985136191 : train accuracy - 0.9146833333333333 test loss - 0.2965838527858257 test accuracy - 0.9177\n",
      "60000/60000 [==============================] - 12s 199us/step\n",
      "10000/10000 [==============================] - 2s 197us/step\n",
      "Epoch 2 of 25 : train loss - 0.28598675590852896 : train accuracy - 0.92115 test loss - 0.2822345458716154 test accuracy - 0.9217\n",
      "60000/60000 [==============================] - 13s 218us/step\n",
      "10000/10000 [==============================] - 2s 196us/step\n",
      "Epoch 3 of 25 : train loss - 0.2763300241241852 : train accuracy - 0.9238333333333333 test loss - 0.2767088587909937 test accuracy - 0.923\n",
      "60000/60000 [==============================] - 20s 330us/step\n",
      "10000/10000 [==============================] - 2s 209us/step\n",
      "Epoch 4 of 25 : train loss - 0.2703183327436447 : train accuracy - 0.9255666666666666 test loss - 0.2737859853714705 test accuracy - 0.9244\n",
      "60000/60000 [==============================] - 9s 145us/step\n",
      "10000/10000 [==============================] - 2s 162us/step\n",
      "Epoch 5 of 25 : train loss - 0.2660618182102839 : train accuracy - 0.9266 test loss - 0.2720154919058084 test accuracy - 0.925\n",
      "60000/60000 [==============================] - 8s 140us/step\n",
      "10000/10000 [==============================] - 1s 112us/step\n",
      "Epoch 6 of 25 : train loss - 0.26280683759053547 : train accuracy - 0.9273333333333333 test loss - 0.27081852200329304 test accuracy - 0.9258\n",
      "60000/60000 [==============================] - 8s 126us/step\n",
      "10000/10000 [==============================] - 1s 128us/step\n",
      "Epoch 7 of 25 : train loss - 0.26019278096656007 : train accuracy - 0.9284166666666667 test loss - 0.269960962125659 test accuracy - 0.9259\n",
      "60000/60000 [==============================] - 12s 204us/step\n",
      "10000/10000 [==============================] - 2s 201us/step\n",
      "Epoch 8 of 25 : train loss - 0.258019239038229 : train accuracy - 0.9291 test loss - 0.26933295186758044 test accuracy - 0.9254\n",
      "60000/60000 [==============================] - 14s 235us/step\n",
      "10000/10000 [==============================] - 2s 189us/step\n",
      "Epoch 9 of 25 : train loss - 0.25617151367465657 : train accuracy - 0.9295833333333333 test loss - 0.2688744809508324 test accuracy - 0.9256\n",
      "60000/60000 [==============================] - 11s 183us/step\n",
      "10000/10000 [==============================] - 2s 195us/step\n",
      "Epoch 10 of 25 : train loss - 0.2545684722145398 : train accuracy - 0.9299833333333334 test loss - 0.2685350600779057 test accuracy - 0.9257\n",
      "60000/60000 [==============================] - 12s 203us/step\n",
      "10000/10000 [==============================] - 2s 228us/step\n",
      "Epoch 11 of 25 : train loss - 0.25315685868362586 : train accuracy - 0.9305 test loss - 0.2682823798239231 test accuracy - 0.9253\n",
      "60000/60000 [==============================] - 11s 185us/step\n",
      "10000/10000 [==============================] - 2s 158us/step\n",
      "Epoch 12 of 25 : train loss - 0.2518993251442909 : train accuracy - 0.9307333333333333 test loss - 0.2680974274635315 test accuracy - 0.9254\n",
      "60000/60000 [==============================] - 9s 144us/step\n",
      "10000/10000 [==============================] - 2s 153us/step\n",
      "Epoch 13 of 25 : train loss - 0.2507671178956827 : train accuracy - 0.9311333333333334 test loss - 0.26796517914533613 test accuracy - 0.9255\n",
      "60000/60000 [==============================] - 8s 135us/step\n",
      "10000/10000 [==============================] - 1s 146us/step\n",
      "Epoch 14 of 25 : train loss - 0.24973890221019585 : train accuracy - 0.9315 test loss - 0.26787518610954286 test accuracy - 0.9261\n",
      "60000/60000 [==============================] - 9s 157us/step\n",
      "10000/10000 [==============================] - 2s 180us/step\n",
      "Epoch 15 of 25 : train loss - 0.24879827256103357 : train accuracy - 0.93165 test loss - 0.26781958911716935 test accuracy - 0.9262\n",
      "60000/60000 [==============================] - 9s 157us/step\n",
      "10000/10000 [==============================] - 2s 156us/step\n",
      "Epoch 16 of 25 : train loss - 0.2479323944936196 : train accuracy - 0.9316833333333333 test loss - 0.2677923347324133 test accuracy - 0.9264\n",
      "60000/60000 [==============================] - 14s 226us/step\n",
      "10000/10000 [==============================] - 2s 176us/step\n",
      "Epoch 17 of 25 : train loss - 0.24712969074249266 : train accuracy - 0.93215 test loss - 0.2677886579811573 test accuracy - 0.9267\n",
      "60000/60000 [==============================] - 10s 173us/step\n",
      "10000/10000 [==============================] - 2s 177us/step\n",
      "Epoch 18 of 25 : train loss - 0.24638113784293333 : train accuracy - 0.9322833333333334 test loss - 0.2678048010572791 test accuracy - 0.9268\n",
      "60000/60000 [==============================] - 9s 154us/step\n",
      "10000/10000 [==============================] - 2s 156us/step\n",
      "Epoch 19 of 25 : train loss - 0.24568070666690667 : train accuracy - 0.9325166666666667 test loss - 0.2678537219181657 test accuracy - 0.9268\n",
      "60000/60000 [==============================] - 13s 224us/step\n",
      "10000/10000 [==============================] - 2s 202us/step\n",
      "Epoch 20 of 25 : train loss - 0.24502178091605503 : train accuracy - 0.9325833333333333 test loss - 0.2679082516089082 test accuracy - 0.9271\n",
      "60000/60000 [==============================] - 9s 155us/step\n",
      "10000/10000 [==============================] - 3s 261us/step\n",
      "Epoch 21 of 25 : train loss - 0.2444017351637284 : train accuracy - 0.9328333333333333 test loss - 0.2679726906388998 test accuracy - 0.9274\n",
      "60000/60000 [==============================] - 9s 155us/step\n",
      "10000/10000 [==============================] - 2s 223us/step\n",
      "Epoch 22 of 25 : train loss - 0.2438140974809726 : train accuracy - 0.93295 test loss - 0.26804789283573627 test accuracy - 0.9277\n",
      "60000/60000 [==============================] - 8s 137us/step\n",
      "10000/10000 [==============================] - 1s 136us/step\n",
      "Epoch 23 of 25 : train loss - 0.24325822558303675 : train accuracy - 0.9330666666666667 test loss - 0.2681308332413435 test accuracy - 0.9277\n",
      "60000/60000 [==============================] - 9s 147us/step\n",
      "10000/10000 [==============================] - 1s 142us/step\n",
      "Epoch 24 of 25 : train loss - 0.24273162349263827 : train accuracy - 0.9331833333333334 test loss - 0.2682218694716692 test accuracy - 0.928\n",
      "60000/60000 [==============================] - 12s 198us/step\n",
      "10000/10000 [==============================] - 2s 200us/step\n",
      "Epoch 25 of 25 : train loss - 0.24223151245415211 : train accuracy - 0.9332666666666667 test loss - 0.26831947462707756 test accuracy - 0.9281\n"
     ]
    }
   ],
   "source": [
    "\n",
    "\n",
    "local_2_10_001 = local_sgd(2,10,0.001,25,20,(x_train,y_train),(x_test,y_test))\n",
    "\n",
    "local_2_10_01 = local_sgd(2,10,0.01,25,20,(x_train,y_train),(x_test,y_test))\n",
    "\n",
    "local_2_10_05 = local_sgd(2,10,0.05,25,20,(x_train,y_train),(x_test,y_test))\n",
    "\n",
    "local_2_10_1 = local_sgd(2,10,0.1,25,20,(x_train,y_train),(x_test,y_test))\n",
    "\n"
   ]
  },
  {
   "cell_type": "code",
   "execution_count": 38,
   "metadata": {
    "scrolled": true
   },
   "outputs": [
    {
     "name": "stdout",
     "output_type": "stream",
     "text": [
      "60000/60000 [==============================] - 18s 298us/step\n",
      "10000/10000 [==============================] - 2s 190us/step\n",
      "Epoch 1 of 25 : train loss - 1.004885600821177 : train accuracy - 0.8189 test loss - 0.9829863108634949 test accuracy - 0.827\n",
      "60000/60000 [==============================] - 15s 250us/step\n",
      "10000/10000 [==============================] - 3s 266us/step\n",
      "Epoch 2 of 25 : train loss - 0.7444751012166341 : train accuracy - 0.8457333333333333 test loss - 0.7201678287506104 test accuracy - 0.8552\n",
      "60000/60000 [==============================] - 18s 305us/step\n",
      "10000/10000 [==============================] - 4s 378us/step\n",
      "Epoch 3 of 25 : train loss - 0.6357650417804718 : train accuracy - 0.85775 test loss - 0.6114227568149566 test accuracy - 0.8685\n",
      "60000/60000 [==============================] - 14s 240us/step\n",
      "10000/10000 [==============================] - 3s 297us/step\n",
      "Epoch 4 of 25 : train loss - 0.5745565908908844 : train accuracy - 0.8649833333333333 test loss - 0.550556345653534 test accuracy - 0.8744\n",
      "60000/60000 [==============================] - 14s 236us/step\n",
      "10000/10000 [==============================] - 2s 197us/step\n",
      "Epoch 5 of 25 : train loss - 0.5345477357387542 : train accuracy - 0.8702833333333333 test loss - 0.510957855963707 test accuracy - 0.8794\n",
      "60000/60000 [==============================] - 18s 294us/step\n",
      "10000/10000 [==============================] - 3s 299us/step\n",
      "Epoch 6 of 25 : train loss - 0.5059602788289388 : train accuracy - 0.8741166666666667 test loss - 0.48278223745822907 test accuracy - 0.8824\n",
      "60000/60000 [==============================] - 16s 262us/step\n",
      "10000/10000 [==============================] - 3s 277us/step\n",
      "Epoch 7 of 25 : train loss - 0.48429102540810903 : train accuracy - 0.8778166666666667 test loss - 0.4615097539424896 test accuracy - 0.8869\n",
      "60000/60000 [==============================] - 15s 246us/step\n",
      "10000/10000 [==============================] - 3s 270us/step\n",
      "Epoch 8 of 25 : train loss - 0.4671624197204908 : train accuracy - 0.8804333333333333 test loss - 0.44475939519405366 test accuracy - 0.8892\n",
      "60000/60000 [==============================] - 11s 188us/step\n",
      "10000/10000 [==============================] - 2s 211us/step\n",
      "Epoch 9 of 25 : train loss - 0.45319328619639077 : train accuracy - 0.88325 test loss - 0.4311502359390259 test accuracy - 0.8916\n",
      "60000/60000 [==============================] - 20s 336us/step\n",
      "10000/10000 [==============================] - 3s 328us/step\n",
      "Epoch 10 of 25 : train loss - 0.4415225281238556 : train accuracy - 0.88495 test loss - 0.4198225053548813 test accuracy - 0.8936\n",
      "60000/60000 [==============================] - 16s 273us/step\n",
      "10000/10000 [==============================] - 2s 246us/step\n",
      "Epoch 11 of 25 : train loss - 0.4315832495848338 : train accuracy - 0.8866333333333334 test loss - 0.4102108294725418 test accuracy - 0.8951\n",
      "60000/60000 [==============================] - 15s 242us/step\n",
      "10000/10000 [==============================] - 2s 214us/step\n",
      "Epoch 12 of 25 : train loss - 0.42298555317719777 : train accuracy - 0.88845 test loss - 0.40192674595117567 test accuracy - 0.8965\n",
      "19552/60000 [========>.....................] - ETA: 11s"
     ]
    },
    {
     "name": "stderr",
     "output_type": "stream",
     "text": [
      "IOPub message rate exceeded.\n",
      "The notebook server will temporarily stop sending output\n",
      "to the client in order to avoid crashing it.\n",
      "To change this limit, set the config variable\n",
      "`--NotebookApp.iopub_msg_rate_limit`.\n",
      "\n",
      "Current values:\n",
      "NotebookApp.iopub_msg_rate_limit=1000.0 (msgs/sec)\n",
      "NotebookApp.rate_limit_window=3.0 (secs)\n",
      "\n"
     ]
    },
    {
     "name": "stdout",
     "output_type": "stream",
     "text": [
      "60000/60000 [==============================] - 16s 267us/step\n",
      "10000/10000 [==============================] - 2s 239us/step\n",
      "Epoch 21 of 25 : train loss - 0.3767464690287908 : train accuracy - 0.8975666666666666 test loss - 0.3580516000032425 test accuracy - 0.9043\n",
      "60000/60000 [==============================] - 13s 214us/step\n",
      "10000/10000 [==============================] - 2s 228us/step\n",
      "Epoch 22 of 25 : train loss - 0.37349770151774087 : train accuracy - 0.89845 test loss - 0.35502756991386414 test accuracy - 0.9049\n",
      "60000/60000 [==============================] - 15s 247us/step\n",
      "10000/10000 [==============================] - 2s 219us/step\n",
      "Epoch 23 of 25 : train loss - 0.37046610010663666 : train accuracy - 0.8990333333333334 test loss - 0.3522149354457855 test accuracy - 0.9053\n",
      "60000/60000 [==============================] - 13s 215us/step\n",
      "10000/10000 [==============================] - 2s 191us/step\n",
      "Epoch 24 of 25 : train loss - 0.3676281387190024 : train accuracy - 0.8999 test loss - 0.34959051213264464 test accuracy - 0.9058\n",
      "60000/60000 [==============================] - 17s 284us/step\n",
      "10000/10000 [==============================] - 3s 258us/step\n",
      "Epoch 25 of 25 : train loss - 0.36496371445854503 : train accuracy - 0.9005833333333333 test loss - 0.34713452348709106 test accuracy - 0.9063\n",
      "60000/60000 [==============================] - 17s 276us/step\n",
      "10000/10000 [==============================] - 2s 235us/step\n",
      "Epoch 1 of 25 : train loss - 0.44146496792236967 : train accuracy - 0.88405 test loss - 0.41936810936927793 test accuracy - 0.8932\n",
      "60000/60000 [==============================] - 18s 292us/step\n",
      "10000/10000 [==============================] - 3s 294us/step\n",
      "Epoch 2 of 25 : train loss - 0.38009448984066646 : train accuracy - 0.8965 test loss - 0.36095014783143997 test accuracy - 0.9044\n",
      "60000/60000 [==============================] - 20s 333us/step\n",
      "10000/10000 [==============================] - 3s 298us/step\n",
      "Epoch 3 of 25 : train loss - 0.3535903950572014 : train accuracy - 0.90265 test loss - 0.33663751455545426 test accuracy - 0.9095\n",
      "60000/60000 [==============================] - 18s 305us/step\n",
      "10000/10000 [==============================] - 3s 294us/step\n",
      "Epoch 4 of 25 : train loss - 0.3378130369246006 : train accuracy - 0.9065833333333333 test loss - 0.3226388247013092 test accuracy - 0.9126\n",
      "60000/60000 [==============================] - 19s 311us/step\n",
      "10000/10000 [==============================] - 3s 267us/step\n",
      "Epoch 5 of 25 : train loss - 0.32699922792514163 : train accuracy - 0.9091 test loss - 0.31333803026676177 test accuracy - 0.915\n",
      "60000/60000 [==============================] - 19s 311us/step\n",
      "10000/10000 [==============================] - 3s 270us/step\n",
      "Epoch 6 of 25 : train loss - 0.3189703130940596 : train accuracy - 0.9111166666666667 test loss - 0.306633887976408 test accuracy - 0.9165\n",
      "60000/60000 [==============================] - 14s 234us/step\n",
      "10000/10000 [==============================] - 2s 215us/step\n",
      "Epoch 7 of 25 : train loss - 0.31268528766234716 : train accuracy - 0.9131 test loss - 0.3015379149079323 test accuracy - 0.9172\n",
      "60000/60000 [==============================] - 15s 242us/step\n",
      "10000/10000 [==============================] - 2s 220us/step\n",
      "Epoch 8 of 25 : train loss - 0.3075870311359564 : train accuracy - 0.9146666666666666 test loss - 0.2975048425972462 test accuracy - 0.9185\n",
      "60000/60000 [==============================] - 13s 220us/step\n",
      "10000/10000 [==============================] - 2s 222us/step\n",
      "Epoch 9 of 25 : train loss - 0.3033408986290296 : train accuracy - 0.9157833333333333 test loss - 0.29423539933562276 test accuracy - 0.919\n",
      "60000/60000 [==============================] - 14s 240us/step\n",
      "10000/10000 [==============================] - 2s 199us/step\n",
      "Epoch 10 of 25 : train loss - 0.29972493041753767 : train accuracy - 0.917 test loss - 0.29153400328159335 test accuracy - 0.9196\n",
      "60000/60000 [==============================] - 18s 297us/step\n",
      "10000/10000 [==============================] - 3s 272us/step\n",
      "Epoch 11 of 25 : train loss - 0.2965951078335444 : train accuracy - 0.9176 test loss - 0.289255654668808 test accuracy - 0.9194\n",
      "60000/60000 [==============================] - 14s 237us/step\n",
      "10000/10000 [==============================] - 2s 246us/step\n",
      "Epoch 12 of 25 : train loss - 0.29385071270068486 : train accuracy - 0.9183666666666667 test loss - 0.2873055022597313 test accuracy - 0.9203\n",
      "60000/60000 [==============================] - 15s 243us/step\n",
      "10000/10000 [==============================] - 4s 408us/step\n",
      "Epoch 13 of 25 : train loss - 0.29141654487252233 : train accuracy - 0.9189666666666667 test loss - 0.2856156475752592 test accuracy - 0.9204\n",
      "60000/60000 [==============================] - 11s 184us/step\n",
      "10000/10000 [==============================] - 2s 192us/step\n",
      "Epoch 14 of 25 : train loss - 0.28923652387460075 : train accuracy - 0.9194166666666667 test loss - 0.28413595790565016 test accuracy - 0.9209\n",
      "60000/60000 [==============================] - 13s 212us/step\n",
      "10000/10000 [==============================] - 2s 174us/step\n",
      "Epoch 15 of 25 : train loss - 0.28726788606445 : train accuracy - 0.92 test loss - 0.2828286097049713 test accuracy - 0.9211\n",
      "60000/60000 [==============================] - 11s 175us/step\n",
      "10000/10000 [==============================] - 2s 186us/step\n",
      "Epoch 16 of 25 : train loss - 0.2854773592372735 : train accuracy - 0.9204666666666667 test loss - 0.2816644187361002 test accuracy - 0.9211\n",
      "60000/60000 [==============================] - 11s 180us/step\n",
      "10000/10000 [==============================] - 1s 147us/step\n",
      "Epoch 17 of 25 : train loss - 0.2838386061092218 : train accuracy - 0.921 test loss - 0.2806205311894417 test accuracy - 0.922\n",
      "60000/60000 [==============================] - 8s 135us/step\n",
      "10000/10000 [==============================] - 2s 153us/step\n",
      "Epoch 18 of 25 : train loss - 0.2823305191775163 : train accuracy - 0.9213833333333333 test loss - 0.27967880705595016 test accuracy - 0.9219\n",
      "60000/60000 [==============================] - 9s 144us/step\n",
      "10000/10000 [==============================] - 1s 124us/step\n",
      "Epoch 19 of 25 : train loss - 0.28093589230775834 : train accuracy - 0.9218666666666666 test loss - 0.27882457945346834 test accuracy - 0.922\n",
      "60000/60000 [==============================] - 9s 155us/step\n",
      "10000/10000 [==============================] - 1s 136us/step\n",
      "Epoch 20 of 25 : train loss - 0.2796405611117681 : train accuracy - 0.9223333333333333 test loss - 0.278045901030302 test accuracy - 0.9218\n",
      "60000/60000 [==============================] - 13s 219us/step\n",
      "10000/10000 [==============================] - 2s 157us/step\n",
      "Epoch 21 of 25 : train loss - 0.27843276983300846 : train accuracy - 0.9227333333333333 test loss - 0.2773329908698797 test accuracy - 0.9227\n",
      "60000/60000 [==============================] - 12s 193us/step\n",
      "10000/10000 [==============================] - 2s 211us/step\n",
      "Epoch 22 of 25 : train loss - 0.2773026261150837 : train accuracy - 0.9230833333333334 test loss - 0.2766776507407427 test accuracy - 0.923\n",
      "60000/60000 [==============================] - 11s 189us/step\n",
      "10000/10000 [==============================] - 2s 178us/step\n",
      "Epoch 23 of 25 : train loss - 0.2762417636692524 : train accuracy - 0.9233833333333333 test loss - 0.27607306108772756 test accuracy - 0.9228\n",
      "60000/60000 [==============================] - 14s 229us/step\n",
      "10000/10000 [==============================] - 2s 223us/step\n",
      "Epoch 24 of 25 : train loss - 0.27524303344488144 : train accuracy - 0.9236166666666666 test loss - 0.27551342515349386 test accuracy - 0.9229\n",
      "60000/60000 [==============================] - 10s 175us/step\n",
      "10000/10000 [==============================] - 2s 180us/step\n",
      "Epoch 25 of 25 : train loss - 0.2743002924253543 : train accuracy - 0.9239833333333334 test loss - 0.27499384813606736 test accuracy - 0.9229\n",
      "60000/60000 [==============================] - 14s 232us/step\n",
      "10000/10000 [==============================] - 2s 186us/step\n",
      "Epoch 1 of 25 : train loss - 0.32736676970124245 : train accuracy - 0.90875 test loss - 0.31354136410951616 test accuracy - 0.9139\n",
      "60000/60000 [==============================] - 10s 167us/step\n",
      "10000/10000 [==============================] - 2s 208us/step\n",
      "Epoch 2 of 25 : train loss - 0.3003038071076075 : train accuracy - 0.9163333333333333 test loss - 0.2918093029141426 test accuracy - 0.919\n",
      "60000/60000 [==============================] - 11s 179us/step\n",
      "10000/10000 [==============================] - 2s 197us/step\n",
      "Epoch 3 of 25 : train loss - 0.28796551066040993 : train accuracy - 0.9196166666666666 test loss - 0.2831620473355055 test accuracy - 0.922\n",
      "60000/60000 [==============================] - 13s 222us/step\n",
      "10000/10000 [==============================] - 2s 157us/step\n",
      "Epoch 4 of 25 : train loss - 0.28040708089768884 : train accuracy - 0.9220833333333334 test loss - 0.2784181007862091 test accuracy - 0.9227\n",
      "60000/60000 [==============================] - 12s 201us/step\n",
      "10000/10000 [==============================] - 2s 187us/step\n",
      "Epoch 5 of 25 : train loss - 0.2751082522392273 : train accuracy - 0.9236166666666666 test loss - 0.27539119063615797 test accuracy - 0.9233\n",
      "60000/60000 [==============================] - 11s 186us/step\n",
      "10000/10000 [==============================] - 2s 180us/step\n",
      "Epoch 6 of 25 : train loss - 0.2710956955075264 : train accuracy - 0.9251 test loss - 0.27328117319643497 test accuracy - 0.9234\n",
      "60000/60000 [==============================] - 13s 217us/step\n",
      "10000/10000 [==============================] - 2s 214us/step\n",
      "Epoch 7 of 25 : train loss - 0.26789904251595337 : train accuracy - 0.9260833333333334 test loss - 0.2717169296950102 test accuracy - 0.9237\n",
      "60000/60000 [==============================] - 11s 188us/step\n",
      "10000/10000 [==============================] - 2s 213us/step\n",
      "Epoch 8 of 25 : train loss - 0.2652579581518968 : train accuracy - 0.9267833333333333 test loss - 0.27053135221898555 test accuracy - 0.9239\n",
      "60000/60000 [==============================] - 12s 195us/step\n",
      "10000/10000 [==============================] - 2s 183us/step\n",
      "Epoch 9 of 25 : train loss - 0.26301468243102233 : train accuracy - 0.9273333333333333 test loss - 0.26959729924499987 test accuracy - 0.9241\n",
      "60000/60000 [==============================] - 13s 220us/step\n",
      "10000/10000 [==============================] - 3s 280us/step\n",
      "Epoch 10 of 25 : train loss - 0.26107012837926546 : train accuracy - 0.9279666666666667 test loss - 0.2688398739248514 test accuracy - 0.9245\n",
      "60000/60000 [==============================] - 12s 202us/step\n",
      "10000/10000 [==============================] - 2s 217us/step\n",
      "Epoch 11 of 25 : train loss - 0.25936378984848657 : train accuracy - 0.92835 test loss - 0.2681859273374081 test accuracy - 0.9247\n",
      "60000/60000 [==============================] - 11s 188us/step\n",
      "10000/10000 [==============================] - 2s 234us/step\n",
      "Epoch 12 of 25 : train loss - 0.25784657693505286 : train accuracy - 0.9288666666666666 test loss - 0.2676491333961487 test accuracy - 0.9248\n",
      "60000/60000 [==============================] - 12s 196us/step\n",
      "10000/10000 [==============================] - 3s 272us/step\n",
      "Epoch 13 of 25 : train loss - 0.25648520027399063 : train accuracy - 0.9290666666666667 test loss - 0.26721613624691964 test accuracy - 0.9248\n",
      "60000/60000 [==============================] - 10s 173us/step\n",
      "10000/10000 [==============================] - 2s 204us/step\n",
      "Epoch 14 of 25 : train loss - 0.2552520540793737 : train accuracy - 0.9295166666666667 test loss - 0.26684595915675163 test accuracy - 0.9256\n",
      "60000/60000 [==============================] - 13s 220us/step\n",
      "10000/10000 [==============================] - 2s 198us/step\n",
      "Epoch 15 of 25 : train loss - 0.2541283213247856 : train accuracy - 0.92985 test loss - 0.26653804768323897 test accuracy - 0.9258\n",
      "60000/60000 [==============================] - 14s 236us/step\n",
      "10000/10000 [==============================] - 2s 224us/step\n",
      "Epoch 16 of 25 : train loss - 0.2530943536887566 : train accuracy - 0.9302833333333334 test loss - 0.26627279231846335 test accuracy - 0.9258\n",
      "60000/60000 [==============================] - 10s 170us/step\n",
      "10000/10000 [==============================] - 1s 127us/step\n",
      "Epoch 17 of 25 : train loss - 0.2521394391834736 : train accuracy - 0.9306333333333333 test loss - 0.26604484403431417 test accuracy - 0.9256\n",
      "60000/60000 [==============================] - 12s 205us/step\n",
      "10000/10000 [==============================] - 2s 235us/step\n",
      "Epoch 18 of 25 : train loss - 0.25125304486354194 : train accuracy - 0.9308166666666666 test loss - 0.265848909920454 test accuracy - 0.9257\n",
      "60000/60000 [==============================] - 11s 182us/step\n",
      "10000/10000 [==============================] - 2s 159us/step\n",
      "Epoch 19 of 25 : train loss - 0.25042660367985564 : train accuracy - 0.9309333333333333 test loss - 0.2656805125296116 test accuracy - 0.9263\n",
      "60000/60000 [==============================] - 14s 241us/step\n",
      "10000/10000 [==============================] - 2s 180us/step\n",
      "Epoch 20 of 25 : train loss - 0.24965168590644995 : train accuracy - 0.9314666666666667 test loss - 0.26553590704798696 test accuracy - 0.9267\n",
      "60000/60000 [==============================] - 10s 170us/step\n",
      "10000/10000 [==============================] - 2s 182us/step\n",
      "Epoch 21 of 25 : train loss - 0.2489222808023294 : train accuracy - 0.9316666666666666 test loss - 0.26541036739051344 test accuracy - 0.9265\n",
      "60000/60000 [==============================] - 11s 191us/step\n",
      "10000/10000 [==============================] - 2s 176us/step\n",
      "Epoch 22 of 25 : train loss - 0.24823534886638324 : train accuracy - 0.9318666666666666 test loss - 0.26530425838530064 test accuracy - 0.9264\n",
      "60000/60000 [==============================] - 10s 169us/step\n",
      "10000/10000 [==============================] - 2s 152us/step\n",
      "Epoch 23 of 25 : train loss - 0.24758642803231876 : train accuracy - 0.9320666666666667 test loss - 0.2652145490139723 test accuracy - 0.9261\n",
      "60000/60000 [==============================] - 11s 181us/step\n",
      "10000/10000 [==============================] - 2s 179us/step\n",
      "Epoch 25 of 25 : train loss - 0.2463839142024517 : train accuracy - 0.9325 test loss - 0.2650716194063425 test accuracy - 0.9262\n",
      "60000/60000 [==============================] - 20s 339us/step\n",
      "10000/10000 [==============================] - 3s 257us/step\n",
      "Epoch 1 of 25 : train loss - 0.30100443493525186 : train accuracy - 0.9160166666666667 test loss - 0.29241042561531067 test accuracy - 0.9183\n",
      "60000/60000 [==============================] - 16s 263us/step\n",
      "10000/10000 [==============================] - 3s 266us/step\n",
      "Epoch 2 of 25 : train loss - 0.28096688966155053 : train accuracy - 0.9212833333333333 test loss - 0.279029917678237 test accuracy - 0.9213\n",
      "60000/60000 [==============================] - 16s 266us/step\n",
      "10000/10000 [==============================] - 3s 259us/step\n",
      "Epoch 3 of 25 : train loss - 0.27161133826375006 : train accuracy - 0.92475 test loss - 0.273990550455451 test accuracy - 0.9215\n",
      "60000/60000 [==============================] - 18s 304us/step\n",
      "10000/10000 [==============================] - 3s 318us/step\n",
      "Epoch 4 of 25 : train loss - 0.26574492688079676 : train accuracy - 0.9264333333333333 test loss - 0.2713328336745501 test accuracy - 0.9225\n",
      "60000/60000 [==============================] - 16s 271us/step\n",
      "10000/10000 [==============================] - 3s 271us/step\n",
      "Epoch 5 of 25 : train loss - 0.261563278050224 : train accuracy - 0.9279333333333334 test loss - 0.2696818509280682 test accuracy - 0.9227\n",
      "60000/60000 [==============================] - 18s 308us/step\n",
      "10000/10000 [==============================] - 3s 319us/step\n",
      "Epoch 6 of 25 : train loss - 0.25835152570307257 : train accuracy - 0.9289166666666666 test loss - 0.2685975183159113 test accuracy - 0.9235\n",
      "60000/60000 [==============================] - 19s 314us/step\n",
      "10000/10000 [==============================] - 3s 281us/step\n",
      "Epoch 7 of 25 : train loss - 0.25576690327227114 : train accuracy - 0.9297666666666666 test loss - 0.2678459081143141 test accuracy - 0.9244\n",
      "50880/60000 [========================>.....] - ETA: 2s"
     ]
    },
    {
     "name": "stderr",
     "output_type": "stream",
     "text": [
      "IOPub message rate exceeded.\n",
      "The notebook server will temporarily stop sending output\n",
      "to the client in order to avoid crashing it.\n",
      "To change this limit, set the config variable\n",
      "`--NotebookApp.iopub_msg_rate_limit`.\n",
      "\n",
      "Current values:\n",
      "NotebookApp.iopub_msg_rate_limit=1000.0 (msgs/sec)\n",
      "NotebookApp.rate_limit_window=3.0 (secs)\n",
      "\n"
     ]
    },
    {
     "name": "stdout",
     "output_type": "stream",
     "text": [
      "10000/10000 [==============================] - 2s 204us/step\n",
      "Epoch 16 of 25 : train loss - 0.2435614100853602 : train accuracy - 0.9330833333333334 test loss - 0.26616695196032525 test accuracy - 0.9238\n",
      "60000/60000 [==============================] - 13s 216us/step\n",
      "10000/10000 [==============================] - 3s 281us/step\n",
      "Epoch 17 of 25 : train loss - 0.2427560776581367 : train accuracy - 0.9333833333333333 test loss - 0.26619901134967805 test accuracy - 0.9236\n",
      "60000/60000 [==============================] - 12s 201us/step\n",
      "10000/10000 [==============================] - 2s 174us/step\n",
      "Epoch 18 of 25 : train loss - 0.2420071948846181 : train accuracy - 0.9336 test loss - 0.2662493150174618 test accuracy - 0.9239\n",
      "60000/60000 [==============================] - 13s 218us/step\n",
      "10000/10000 [==============================] - 2s 152us/step\n",
      "Epoch 19 of 25 : train loss - 0.24130724981427193 : train accuracy - 0.9337666666666666 test loss - 0.26631778509318826 test accuracy - 0.924\n",
      "60000/60000 [==============================] - 14s 227us/step\n",
      "10000/10000 [==============================] - 2s 185us/step\n",
      "Epoch 20 of 25 : train loss - 0.24065007651050885 : train accuracy - 0.9337666666666666 test loss - 0.2663994136363268 test accuracy - 0.9241\n",
      "60000/60000 [==============================] - 10s 172us/step\n",
      "10000/10000 [==============================] - 2s 178us/step\n",
      "Epoch 21 of 25 : train loss - 0.24002728898525238 : train accuracy - 0.93395 test loss - 0.2664935543090105 test accuracy - 0.9244\n",
      "60000/60000 [==============================] - 12s 202us/step\n",
      "10000/10000 [==============================] - 2s 194us/step\n",
      "Epoch 22 of 25 : train loss - 0.239439243671298 : train accuracy - 0.9341666666666667 test loss - 0.26660181702673436 test accuracy - 0.9244\n",
      "60000/60000 [==============================] - 12s 198us/step\n",
      "10000/10000 [==============================] - 2s 202us/step\n",
      "Epoch 23 of 25 : train loss - 0.23888317270477613 : train accuracy - 0.9342333333333334 test loss - 0.26671398632228377 test accuracy - 0.9243\n",
      "60000/60000 [==============================] - 13s 221us/step\n",
      "10000/10000 [==============================] - 2s 151us/step\n",
      "Epoch 24 of 25 : train loss - 0.23835309493939083 : train accuracy - 0.9341833333333334 test loss - 0.26683128229379655 test accuracy - 0.9246\n",
      "60000/60000 [==============================] - 10s 171us/step\n",
      "10000/10000 [==============================] - 2s 155us/step\n",
      "Epoch 25 of 25 : train loss - 0.23785152937372525 : train accuracy - 0.9344166666666667 test loss - 0.2669520996898413 test accuracy - 0.9246\n"
     ]
    }
   ],
   "source": [
    "\n",
    "local_4_10_001 = local_sgd(4,10,0.001,25,20,(x_train,y_train),(x_test,y_test))\n",
    "\n",
    "local_4_10_01 = local_sgd(4,10,0.01,25,20,(x_train,y_train),(x_test,y_test))\n",
    "\n",
    "local_4_10_05 = local_sgd(4,10,0.05,25,20,(x_train,y_train),(x_test,y_test))\n",
    "\n",
    "local_4_10_1 = local_sgd(4,10,0.1,25,20,(x_train,y_train),(x_test,y_test))"
   ]
  },
  {
   "cell_type": "code",
   "execution_count": null,
   "metadata": {},
   "outputs": [
    {
     "name": "stdout",
     "output_type": "stream",
     "text": [
      "60000/60000 [==============================] - 15s 244us/step\n",
      "10000/10000 [==============================] - 1s 131us/step\n",
      "Epoch 1 of 25 : train loss - 1.0029100640296935 : train accuracy - 0.8169166666666666 test loss - 0.9805809230804443 test accuracy - 0.8289\n",
      "60000/60000 [==============================] - 12s 206us/step\n",
      "10000/10000 [==============================] - 2s 205us/step\n",
      "Epoch 2 of 25 : train loss - 0.7433530166467031 : train accuracy - 0.8436333333333333 test loss - 0.7186228517532348 test accuracy - 0.8547\n",
      "60000/60000 [==============================] - 10s 170us/step\n",
      "10000/10000 [==============================] - 2s 194us/step\n",
      "Epoch 3 of 25 : train loss - 0.6352474646647771 : train accuracy - 0.85645 test loss - 0.6104450978279113 test accuracy - 0.8678\n"
     ]
    }
   ],
   "source": [
    "\n",
    "local_8_10_001 = local_sgd(8,10,0.001,25,20,(x_train,y_train),(x_test,y_test))\n",
    "\n",
    "local_8_10_01 = local_sgd(8,10,0.01,25,20,(x_train,y_train),(x_test,y_test))\n",
    "\n",
    "local_8_10_05 = local_sgd(8,10,0.05,25,20,(x_train,y_train),(x_test,y_test))\n",
    "\n",
    "local_8_10_1 = local_sgd(8,10,0.1,25,20,(x_train,y_train),(x_test,y_test))"
   ]
  },
  {
   "cell_type": "code",
   "execution_count": null,
   "metadata": {},
   "outputs": [],
   "source": [
    "\n",
    "local_16_10_001 = local_sgd(16,10,0.001,25,20,(x_train,y_train),(x_test,y_test))\n",
    "\n",
    "local_16_10_01 = local_sgd(16,10,0.01,25,20,(x_train,y_train),(x_test,y_test))\n",
    "\n",
    "local_16_10_05 = local_sgd(16,10,0.05,25,20,(x_train,y_train),(x_test,y_test))\n",
    "\n",
    "local_16_10_1 = local_sgd(16,10,0.1,25,20,(x_train,y_train),(x_test,y_test))"
   ]
  },
  {
   "cell_type": "code",
   "execution_count": 44,
   "metadata": {},
   "outputs": [],
   "source": [
    "# Function to show the loss plot of training and validation set\n",
    "def combined_loss(losses,description):\n",
    "    for i in losses :\n",
    "        plt.plot(i[0])\n",
    "        plt.title('Train loss')\n",
    "        \n",
    "    plt.ylabel('Loss')\n",
    "    plt.xlabel('Epoch')\n",
    "    plt.legend(description, loc='upper left')\n",
    "    plt.show()\n",
    "    \n",
    "    for i in losses :\n",
    "        plt.plot(i[1])\n",
    "        plt.title('Test loss')\n",
    "        \n",
    "    plt.ylabel('Loss')\n",
    "    plt.xlabel('Epoch')\n",
    "    plt.legend(description, loc='upper left')\n",
    "    plt.show()"
   ]
  },
  {
   "cell_type": "markdown",
   "metadata": {},
   "source": [
    "### Train test loss for node = 2"
   ]
  },
  {
   "cell_type": "code",
   "execution_count": 45,
   "metadata": {},
   "outputs": [
    {
     "data": {
      "image/png": "[encoded data removed]",
      "text/plain": [
       "<Figure size 432x288 with 1 Axes>"
      ]
     },
     "metadata": {
      "needs_background": "light"
     },
     "output_type": "display_data"
    },
    {
     "data": {
      "image/png": "[encoded data removed]",
      "text/plain": [
       "<Figure size 432x288 with 1 Axes>"
      ]
     },
     "metadata": {
      "needs_background": "light"
     },
     "output_type": "display_data"
    }
   ],
   "source": [
    "losses_2 = [local_2_10_001,local_2_10_01,local_2_10_05,local_2_10_1]\n",
    "desc = ['lr = 0.001','lr = 0.01','lr = 0.05','lr = 0.1']\n",
    "combined_loss(losses_2,desc)"
   ]
  },
  {
   "cell_type": "markdown",
   "metadata": {},
   "source": [
    "### Train test loss for node = 4"
   ]
  },
  {
   "cell_type": "code",
   "execution_count": 46,
   "metadata": {},
   "outputs": [
    {
     "data": {
      "image/png": "[encoded data removed]",
      "text/plain": [
       "<Figure size 432x288 with 1 Axes>"
      ]
     },
     "metadata": {
      "needs_background": "light"
     },
     "output_type": "display_data"
    },
    {
     "data": {
      "image/png": "[encoded data removed]",
      "text/plain": [
       "<Figure size 432x288 with 1 Axes>"
      ]
     },
     "metadata": {
      "needs_background": "light"
     },
     "output_type": "display_data"
    }
   ],
   "source": [
    "losses_2 = [local_4_10_001,local_4_10_01,local_4_10_05,local_4_10_1]\n",
    "desc = ['lr = 0.001','lr = 0.01','lr = 0.05','lr = 0.1']\n",
    "combined_loss(losses_2,desc)"
   ]
  },
  {
   "cell_type": "markdown",
   "metadata": {},
   "source": [
    "### Train Test loss for nodes = 8"
   ]
  },
  {
   "cell_type": "code",
   "execution_count": 47,
   "metadata": {},
   "outputs": [
    {
     "data": {
      "image/png": "[encoded data removed]",
      "text/plain": [
       "<Figure size 432x288 with 1 Axes>"
      ]
     },
     "metadata": {
      "needs_background": "light"
     },
     "output_type": "display_data"
    },
    {
     "data": {
      "image/png": "[encoded data removed]",
      "text/plain": [
       "<Figure size 432x288 with 1 Axes>"
      ]
     },
     "metadata": {
      "needs_background": "light"
     },
     "output_type": "display_data"
    }
   ],
   "source": [
    "losses_2 = [local_8_10_001,local_8_10_01,local_8_10_05,local_8_10_1]\n",
    "desc = ['lr = 0.001','lr = 0.01','lr = 0.05','lr = 0.1']\n",
    "combined_loss(losses_2,desc)"
   ]
  },
  {
   "cell_type": "markdown",
   "metadata": {},
   "source": [
    "### Train test loss for nodes = 16"
   ]
  },
  {
   "cell_type": "code",
   "execution_count": 48,
   "metadata": {},
   "outputs": [
    {
     "data": {
      "image/png": "[encoded data removed]",
      "text/plain": [
       "<Figure size 432x288 with 1 Axes>"
      ]
     },
     "metadata": {
      "needs_background": "light"
     },
     "output_type": "display_data"
    },
    {
     "data": {
      "image/png": "[encoded data removed]",
      "text/plain": [
       "<Figure size 432x288 with 1 Axes>"
      ]
     },
     "metadata": {
      "needs_background": "light"
     },
     "output_type": "display_data"
    }
   ],
   "source": [
    "losses_2 = [local_16_10_001,local_16_10_01,local_16_10_05,local_16_10_1]\n",
    "desc = ['lr = 0.001','lr = 0.01','lr = 0.05','lr = 0.1']\n",
    "combined_loss(losses_2,desc)"
   ]
  },
  {
   "cell_type": "markdown",
   "metadata": {},
   "source": [
    "### Train test loss for lr = 0.1 and nodes = 2,4,8,16"
   ]
  },
  {
   "cell_type": "code",
   "execution_count": 49,
   "metadata": {},
   "outputs": [
    {
     "data": {
      "image/png": "[encoded data removed]",
      "text/plain": [
       "<Figure size 432x288 with 1 Axes>"
      ]
     },
     "metadata": {
      "needs_background": "light"
     },
     "output_type": "display_data"
    },
    {
     "data": {
      "image/png": "[encoded data removed]",
      "text/plain": [
       "<Figure size 432x288 with 1 Axes>"
      ]
     },
     "metadata": {
      "needs_background": "light"
     },
     "output_type": "display_data"
    }
   ],
   "source": [
    "losses_2 = [local_2_10_1,local_4_10_1,local_8_10_1,local_16_10_1]\n",
    "desc = ['nodes = 2','nodes = 4','nodes = 8','nodes = 16']\n",
    "combined_loss(losses_2,desc)"
   ]
  },
  {
   "cell_type": "markdown",
   "metadata": {},
   "source": [
    "### The convergence does not depend on number of nodes"
   ]
  },
  {
   "cell_type": "code",
   "execution_count": 36,
   "metadata": {},
   "outputs": [
    {
     "name": "stdout",
     "output_type": "stream",
     "text": [
      "60000/60000 [==============================] - 14s 226us/step\n",
      "10000/10000 [==============================] - 2s 166us/step\n",
      "Epoch 1 of 50 : train loss - 0.39844022920926414 : train accuracy - 0.8931666666666667 test loss - 0.3784469843506813 test accuracy - 0.9004\n",
      "60000/60000 [==============================] - 14s 237us/step\n",
      "10000/10000 [==============================] - 2s 211us/step\n",
      "Epoch 2 of 50 : train loss - 0.35069441570838294 : train accuracy - 0.9030666666666667 test loss - 0.3343164290547371 test accuracy - 0.9088\n",
      "60000/60000 [==============================] - 10s 169us/step\n",
      "10000/10000 [==============================] - 2s 211us/step\n",
      "Epoch 3 of 50 : train loss - 0.32961572636564573 : train accuracy - 0.9083333333333333 test loss - 0.3158205985546112 test accuracy - 0.9136\n",
      "60000/60000 [==============================] - 12s 201us/step\n",
      "10000/10000 [==============================] - 2s 206us/step\n",
      "Epoch 4 of 50 : train loss - 0.31693364827434223 : train accuracy - 0.9117 test loss - 0.30518022366166114 test accuracy - 0.9164\n",
      "60000/60000 [==============================] - 10s 164us/step\n",
      "10000/10000 [==============================] - 2s 221us/step\n",
      "Epoch 5 of 50 : train loss - 0.30819882263143855 : train accuracy - 0.9141833333333333 test loss - 0.2981679040312767 test accuracy - 0.917\n",
      "60000/60000 [==============================] - 12s 201us/step\n",
      "10000/10000 [==============================] - 2s 195us/step\n",
      "Epoch 6 of 50 : train loss - 0.30168214266300203 : train accuracy - 0.9163 test loss - 0.2931282478630543 test accuracy - 0.9175\n",
      "60000/60000 [==============================] - 11s 189us/step\n",
      "10000/10000 [==============================] - 2s 228us/step\n",
      "Epoch 7 of 50 : train loss - 0.29658424063722294 : train accuracy - 0.9176166666666666 test loss - 0.2893654385268688 test accuracy - 0.9188\n"
     ]
    },
    {
     "ename": "KeyboardInterrupt",
     "evalue": "",
     "output_type": "error",
     "traceback": [
      "\u001b[0;31m---------------------------------------------------------------------------\u001b[0m",
      "\u001b[0;31mKeyboardInterrupt\u001b[0m                         Traceback (most recent call last)",
      "\u001b[0;32m<ipython-input-36-00412018a92e>\u001b[0m in \u001b[0;36m<module>\u001b[0;34m\u001b[0m\n\u001b[0;32m----> 1\u001b[0;31m \u001b[0mlocal_8_16_01\u001b[0m \u001b[0;34m=\u001b[0m \u001b[0mlocal_sgd\u001b[0m\u001b[0;34m(\u001b[0m\u001b[0;36m8\u001b[0m\u001b[0;34m,\u001b[0m\u001b[0;36m16\u001b[0m\u001b[0;34m,\u001b[0m\u001b[0;36m0.1\u001b[0m\u001b[0;34m,\u001b[0m\u001b[0;36m50\u001b[0m\u001b[0;34m,\u001b[0m\u001b[0;36m128\u001b[0m\u001b[0;34m,\u001b[0m\u001b[0;34m(\u001b[0m\u001b[0mx_train\u001b[0m\u001b[0;34m,\u001b[0m\u001b[0my_train\u001b[0m\u001b[0;34m)\u001b[0m\u001b[0;34m,\u001b[0m\u001b[0;34m(\u001b[0m\u001b[0mx_test\u001b[0m\u001b[0;34m,\u001b[0m\u001b[0my_test\u001b[0m\u001b[0;34m)\u001b[0m\u001b[0;34m)\u001b[0m\u001b[0;34m\u001b[0m\u001b[0;34m\u001b[0m\u001b[0m\n\u001b[0m\u001b[1;32m      2\u001b[0m \u001b[0;34m\u001b[0m\u001b[0m\n\u001b[1;32m      3\u001b[0m \u001b[0mlocal_8_8_01\u001b[0m \u001b[0;34m=\u001b[0m \u001b[0mlocal_sgd\u001b[0m\u001b[0;34m(\u001b[0m\u001b[0;36m8\u001b[0m\u001b[0;34m,\u001b[0m\u001b[0;36m8\u001b[0m\u001b[0;34m,\u001b[0m\u001b[0;36m0.1\u001b[0m\u001b[0;34m,\u001b[0m\u001b[0;36m50\u001b[0m\u001b[0;34m,\u001b[0m\u001b[0;36m128\u001b[0m\u001b[0;34m,\u001b[0m\u001b[0;34m(\u001b[0m\u001b[0mx_train\u001b[0m\u001b[0;34m,\u001b[0m\u001b[0my_train\u001b[0m\u001b[0;34m)\u001b[0m\u001b[0;34m,\u001b[0m\u001b[0;34m(\u001b[0m\u001b[0mx_test\u001b[0m\u001b[0;34m,\u001b[0m\u001b[0my_test\u001b[0m\u001b[0;34m)\u001b[0m\u001b[0;34m)\u001b[0m\u001b[0;34m\u001b[0m\u001b[0;34m\u001b[0m\u001b[0m\n\u001b[1;32m      4\u001b[0m \u001b[0;34m\u001b[0m\u001b[0m\n\u001b[1;32m      5\u001b[0m \u001b[0mlocal_8_4_01\u001b[0m \u001b[0;34m=\u001b[0m \u001b[0mlocal_sgd\u001b[0m\u001b[0;34m(\u001b[0m\u001b[0;36m8\u001b[0m\u001b[0;34m,\u001b[0m\u001b[0;36m4\u001b[0m\u001b[0;34m,\u001b[0m\u001b[0;36m0.1\u001b[0m\u001b[0;34m,\u001b[0m\u001b[0;36m50\u001b[0m\u001b[0;34m,\u001b[0m\u001b[0;36m128\u001b[0m\u001b[0;34m,\u001b[0m\u001b[0;34m(\u001b[0m\u001b[0mx_train\u001b[0m\u001b[0;34m,\u001b[0m\u001b[0my_train\u001b[0m\u001b[0;34m)\u001b[0m\u001b[0;34m,\u001b[0m\u001b[0;34m(\u001b[0m\u001b[0mx_test\u001b[0m\u001b[0;34m,\u001b[0m\u001b[0my_test\u001b[0m\u001b[0;34m)\u001b[0m\u001b[0;34m)\u001b[0m\u001b[0;34m\u001b[0m\u001b[0;34m\u001b[0m\u001b[0m\n",
      "\u001b[0;32m<ipython-input-21-a64dbe9ea1cf>\u001b[0m in \u001b[0;36mlocal_sgd\u001b[0;34m(n, t, alpha, epoch, batch_size, train_data, test_data)\u001b[0m\n\u001b[1;32m     44\u001b[0m                 \u001b[0mbatch_x\u001b[0m \u001b[0;34m=\u001b[0m \u001b[0mmodel_data\u001b[0m\u001b[0;34m[\u001b[0m\u001b[0mk\u001b[0m\u001b[0;34m]\u001b[0m\u001b[0;34m[\u001b[0m\u001b[0;36m0\u001b[0m\u001b[0;34m]\u001b[0m\u001b[0;34m[\u001b[0m\u001b[0mc\u001b[0m \u001b[0;34m*\u001b[0m \u001b[0mbatch_size\u001b[0m\u001b[0;34m:\u001b[0m \u001b[0;34m(\u001b[0m\u001b[0mc\u001b[0m \u001b[0;34m+\u001b[0m \u001b[0;36m1\u001b[0m\u001b[0;34m)\u001b[0m \u001b[0;34m*\u001b[0m \u001b[0mbatch_size\u001b[0m\u001b[0;34m]\u001b[0m\u001b[0;34m\u001b[0m\u001b[0;34m\u001b[0m\u001b[0m\n\u001b[1;32m     45\u001b[0m                 \u001b[0mbatch_y\u001b[0m \u001b[0;34m=\u001b[0m \u001b[0mmodel_data\u001b[0m\u001b[0;34m[\u001b[0m\u001b[0mk\u001b[0m\u001b[0;34m]\u001b[0m\u001b[0;34m[\u001b[0m\u001b[0;36m1\u001b[0m\u001b[0;34m]\u001b[0m\u001b[0;34m[\u001b[0m\u001b[0mc\u001b[0m \u001b[0;34m*\u001b[0m \u001b[0mbatch_size\u001b[0m\u001b[0;34m:\u001b[0m \u001b[0;34m(\u001b[0m\u001b[0mc\u001b[0m \u001b[0;34m+\u001b[0m \u001b[0;36m1\u001b[0m\u001b[0;34m)\u001b[0m \u001b[0;34m*\u001b[0m \u001b[0mbatch_size\u001b[0m\u001b[0;34m]\u001b[0m\u001b[0;34m\u001b[0m\u001b[0;34m\u001b[0m\u001b[0m\n\u001b[0;32m---> 46\u001b[0;31m                 \u001b[0mmodels\u001b[0m\u001b[0;34m[\u001b[0m\u001b[0mk\u001b[0m\u001b[0;34m]\u001b[0m\u001b[0;34m.\u001b[0m\u001b[0mtrain_on_batch\u001b[0m\u001b[0;34m(\u001b[0m\u001b[0mbatch_x\u001b[0m\u001b[0;34m,\u001b[0m \u001b[0mbatch_y\u001b[0m\u001b[0;34m)\u001b[0m\u001b[0;34m\u001b[0m\u001b[0;34m\u001b[0m\u001b[0m\n\u001b[0m\u001b[1;32m     47\u001b[0m \u001b[0;34m\u001b[0m\u001b[0m\n\u001b[1;32m     48\u001b[0m             \u001b[0mc\u001b[0m \u001b[0;34m+=\u001b[0m \u001b[0;36m1\u001b[0m\u001b[0;34m\u001b[0m\u001b[0;34m\u001b[0m\u001b[0m\n",
      "\u001b[0;32m/opt/anaconda3/lib/python3.7/site-packages/keras/engine/training.py\u001b[0m in \u001b[0;36mtrain_on_batch\u001b[0;34m(self, x, y, sample_weight, class_weight)\u001b[0m\n\u001b[1;32m   1215\u001b[0m             \u001b[0mins\u001b[0m \u001b[0;34m=\u001b[0m \u001b[0mx\u001b[0m \u001b[0;34m+\u001b[0m \u001b[0my\u001b[0m \u001b[0;34m+\u001b[0m \u001b[0msample_weights\u001b[0m\u001b[0;34m\u001b[0m\u001b[0;34m\u001b[0m\u001b[0m\n\u001b[1;32m   1216\u001b[0m         \u001b[0mself\u001b[0m\u001b[0;34m.\u001b[0m\u001b[0m_make_train_function\u001b[0m\u001b[0;34m(\u001b[0m\u001b[0;34m)\u001b[0m\u001b[0;34m\u001b[0m\u001b[0;34m\u001b[0m\u001b[0m\n\u001b[0;32m-> 1217\u001b[0;31m         \u001b[0moutputs\u001b[0m \u001b[0;34m=\u001b[0m \u001b[0mself\u001b[0m\u001b[0;34m.\u001b[0m\u001b[0mtrain_function\u001b[0m\u001b[0;34m(\u001b[0m\u001b[0mins\u001b[0m\u001b[0;34m)\u001b[0m\u001b[0;34m\u001b[0m\u001b[0;34m\u001b[0m\u001b[0m\n\u001b[0m\u001b[1;32m   1218\u001b[0m         \u001b[0;32mreturn\u001b[0m \u001b[0munpack_singleton\u001b[0m\u001b[0;34m(\u001b[0m\u001b[0moutputs\u001b[0m\u001b[0;34m)\u001b[0m\u001b[0;34m\u001b[0m\u001b[0;34m\u001b[0m\u001b[0m\n\u001b[1;32m   1219\u001b[0m \u001b[0;34m\u001b[0m\u001b[0m\n",
      "\u001b[0;32m/opt/anaconda3/lib/python3.7/site-packages/keras/backend/tensorflow_backend.py\u001b[0m in \u001b[0;36m__call__\u001b[0;34m(self, inputs)\u001b[0m\n\u001b[1;32m   2713\u001b[0m                 \u001b[0;32mreturn\u001b[0m \u001b[0mself\u001b[0m\u001b[0;34m.\u001b[0m\u001b[0m_legacy_call\u001b[0m\u001b[0;34m(\u001b[0m\u001b[0minputs\u001b[0m\u001b[0;34m)\u001b[0m\u001b[0;34m\u001b[0m\u001b[0;34m\u001b[0m\u001b[0m\n\u001b[1;32m   2714\u001b[0m \u001b[0;34m\u001b[0m\u001b[0m\n\u001b[0;32m-> 2715\u001b[0;31m             \u001b[0;32mreturn\u001b[0m \u001b[0mself\u001b[0m\u001b[0;34m.\u001b[0m\u001b[0m_call\u001b[0m\u001b[0;34m(\u001b[0m\u001b[0minputs\u001b[0m\u001b[0;34m)\u001b[0m\u001b[0;34m\u001b[0m\u001b[0;34m\u001b[0m\u001b[0m\n\u001b[0m\u001b[1;32m   2716\u001b[0m         \u001b[0;32melse\u001b[0m\u001b[0;34m:\u001b[0m\u001b[0;34m\u001b[0m\u001b[0;34m\u001b[0m\u001b[0m\n\u001b[1;32m   2717\u001b[0m             \u001b[0;32mif\u001b[0m \u001b[0mpy_any\u001b[0m\u001b[0;34m(\u001b[0m\u001b[0mis_tensor\u001b[0m\u001b[0;34m(\u001b[0m\u001b[0mx\u001b[0m\u001b[0;34m)\u001b[0m \u001b[0;32mfor\u001b[0m \u001b[0mx\u001b[0m \u001b[0;32min\u001b[0m \u001b[0minputs\u001b[0m\u001b[0;34m)\u001b[0m\u001b[0;34m:\u001b[0m\u001b[0;34m\u001b[0m\u001b[0;34m\u001b[0m\u001b[0m\n",
      "\u001b[0;32m/opt/anaconda3/lib/python3.7/site-packages/keras/backend/tensorflow_backend.py\u001b[0m in \u001b[0;36m_call\u001b[0;34m(self, inputs)\u001b[0m\n\u001b[1;32m   2673\u001b[0m             \u001b[0mfetched\u001b[0m \u001b[0;34m=\u001b[0m \u001b[0mself\u001b[0m\u001b[0;34m.\u001b[0m\u001b[0m_callable_fn\u001b[0m\u001b[0;34m(\u001b[0m\u001b[0;34m*\u001b[0m\u001b[0marray_vals\u001b[0m\u001b[0;34m,\u001b[0m \u001b[0mrun_metadata\u001b[0m\u001b[0;34m=\u001b[0m\u001b[0mself\u001b[0m\u001b[0;34m.\u001b[0m\u001b[0mrun_metadata\u001b[0m\u001b[0;34m)\u001b[0m\u001b[0;34m\u001b[0m\u001b[0;34m\u001b[0m\u001b[0m\n\u001b[1;32m   2674\u001b[0m         \u001b[0;32melse\u001b[0m\u001b[0;34m:\u001b[0m\u001b[0;34m\u001b[0m\u001b[0;34m\u001b[0m\u001b[0m\n\u001b[0;32m-> 2675\u001b[0;31m             \u001b[0mfetched\u001b[0m \u001b[0;34m=\u001b[0m \u001b[0mself\u001b[0m\u001b[0;34m.\u001b[0m\u001b[0m_callable_fn\u001b[0m\u001b[0;34m(\u001b[0m\u001b[0;34m*\u001b[0m\u001b[0marray_vals\u001b[0m\u001b[0;34m)\u001b[0m\u001b[0;34m\u001b[0m\u001b[0;34m\u001b[0m\u001b[0m\n\u001b[0m\u001b[1;32m   2676\u001b[0m         \u001b[0;32mreturn\u001b[0m \u001b[0mfetched\u001b[0m\u001b[0;34m[\u001b[0m\u001b[0;34m:\u001b[0m\u001b[0mlen\u001b[0m\u001b[0;34m(\u001b[0m\u001b[0mself\u001b[0m\u001b[0;34m.\u001b[0m\u001b[0moutputs\u001b[0m\u001b[0;34m)\u001b[0m\u001b[0;34m]\u001b[0m\u001b[0;34m\u001b[0m\u001b[0;34m\u001b[0m\u001b[0m\n\u001b[1;32m   2677\u001b[0m \u001b[0;34m\u001b[0m\u001b[0m\n",
      "\u001b[0;32m/opt/anaconda3/lib/python3.7/site-packages/tensorflow_core/python/client/session.py\u001b[0m in \u001b[0;36m__call__\u001b[0;34m(self, *args, **kwargs)\u001b[0m\n\u001b[1;32m   1470\u001b[0m         ret = tf_session.TF_SessionRunCallable(self._session._session,\n\u001b[1;32m   1471\u001b[0m                                                \u001b[0mself\u001b[0m\u001b[0;34m.\u001b[0m\u001b[0m_handle\u001b[0m\u001b[0;34m,\u001b[0m \u001b[0margs\u001b[0m\u001b[0;34m,\u001b[0m\u001b[0;34m\u001b[0m\u001b[0;34m\u001b[0m\u001b[0m\n\u001b[0;32m-> 1472\u001b[0;31m                                                run_metadata_ptr)\n\u001b[0m\u001b[1;32m   1473\u001b[0m         \u001b[0;32mif\u001b[0m \u001b[0mrun_metadata\u001b[0m\u001b[0;34m:\u001b[0m\u001b[0;34m\u001b[0m\u001b[0;34m\u001b[0m\u001b[0m\n\u001b[1;32m   1474\u001b[0m           \u001b[0mproto_data\u001b[0m \u001b[0;34m=\u001b[0m \u001b[0mtf_session\u001b[0m\u001b[0;34m.\u001b[0m\u001b[0mTF_GetBuffer\u001b[0m\u001b[0;34m(\u001b[0m\u001b[0mrun_metadata_ptr\u001b[0m\u001b[0;34m)\u001b[0m\u001b[0;34m\u001b[0m\u001b[0;34m\u001b[0m\u001b[0m\n",
      "\u001b[0;31mKeyboardInterrupt\u001b[0m: "
     ]
    }
   ],
   "source": [
    "\n",
    "local_8_16_01 = local_sgd(8,16,0.1,50,128,(x_train,y_train),(x_test,y_test))\n",
    "\n",
    "local_8_8_01 = local_sgd(8,8,0.1,50,128,(x_train,y_train),(x_test,y_test))\n",
    "\n",
    "local_8_4_01 = local_sgd(8,4,0.1,50,128,(x_train,y_train),(x_test,y_test))\n",
    "\n",
    "local_8_2_01 = local_sgd(8,2,0.1,50,128,(x_train,y_train),(x_test,y_test))"
   ]
  },
  {
   "cell_type": "code",
   "execution_count": 39,
   "metadata": {},
   "outputs": [
    {
     "data": {
      "image/png": "[encoded data removed]",
      "text/plain": [
       "<Figure size 432x288 with 1 Axes>"
      ]
     },
     "metadata": {
      "needs_background": "light"
     },
     "output_type": "display_data"
    },
    {
     "data": {
      "image/png": "[encoded data removed]",
      "text/plain": [
       "<Figure size 432x288 with 1 Axes>"
      ]
     },
     "metadata": {
      "needs_background": "light"
     },
     "output_type": "display_data"
    }
   ],
   "source": [
    "losses_time = [local_8_16_01,local_8_10_01,local_8_8_01,local_8_4_01,local_8_2_01]\n",
    "desc = ['t_step = 16','t_step = 10','t_step = 8','t_step = 4','t_step = 2']\n",
    "combined_loss(losses_time,desc)"
   ]
  },
  {
   "cell_type": "markdown",
   "metadata": {},
   "source": [
    "### Convergence does not depend on averaging time step"
   ]
  },
  {
   "cell_type": "code",
   "execution_count": null,
   "metadata": {},
   "outputs": [],
   "source": [
    "model_parallel = k_model(10,784)\n",
    "#local_8_100_01 = local_sgd(model_parallel,8,100,0.01,50,128,(x_train,y_train),(x_test,y_test))\n",
    "local_8_500_01 = local_sgd(model_parallel,8,500,0.01,50,128,(x_train,y_train),(x_test,y_test))"
   ]
  },
  {
   "cell_type": "code",
   "execution_count": null,
   "metadata": {},
   "outputs": [],
   "source": [
    "model_parallel = k_model(10,784)\n",
    "#local_8_100_01 = local_sgd(model_parallel,8,100,0.01,50,128,(x_train,y_train),(x_test,y_test))\n",
    "local_8_1000_01 = local_sgd(model_parallel,8,1000,0.01,50,128,(x_train,y_train),(x_test,y_test))"
   ]
  },
  {
   "cell_type": "code",
   "execution_count": null,
   "metadata": {},
   "outputs": [],
   "source": [
    "# One Shot Averaging : Minor tweaking in the previous function \n",
    "\n",
    "def local_sgd_oneshot_avg(model,n,t,alpha,epoch,batch_size,train_data,test_data): \n",
    "    '''\n",
    "    This function performs local sgd. \n",
    "    \n",
    "    Input :\n",
    "       model : (keras model) The model that is to be placed on each node\n",
    "       n : number of nodes\n",
    "       epoch : the number of epochs\n",
    "       batch_size : size of the batch for each iteration\n",
    "       train_data : a tuple containing the training X and y\n",
    "       test_data : a tuple containing the test X and y\n",
    "       \n",
    "    Output:\n",
    "       Returns a tuple containing Training and Test loss\n",
    "    '''\n",
    "    \n",
    "    # Initialising the variables \n",
    "    c = 0\n",
    "    train_loss = []\n",
    "    test_loss = []\n",
    "    model_data = []\n",
    "    models = []\n",
    "    \n",
    "    # Preparing n sets of data by shuffling and creating a list models having n instances of model\n",
    "    for i in range(n):\n",
    "        model_data.append(shuffle(train_data[0],train_data[1]))\n",
    "        models.append(model)\n",
    "    \n",
    "    # Compiling all the models\n",
    "    for i in models:\n",
    "        i.compile(loss = keras.losses.categorical_crossentropy,\n",
    "                    optimizer = keras.optimizers.SGD(lr = alpha, momentum = 0.0, nesterov = False),\n",
    "                    metrics=['accuracy'])\n",
    "        \n",
    "    # At present the loop is designed to handle only one layer in the network. Will be modified to accomodate any number of layers\n",
    "    for i in range(epoch):\n",
    "        weights = []\n",
    "\n",
    "        # This loop runs as long as the subsequent updates in c causes it to increase. c becomes 0 whenever the epoch completes\n",
    "        while (True):\n",
    "            c_prev = c\n",
    "            \n",
    "            # After every t iteration averaging the gradients\n",
    "            for j in range(t):\n",
    "                for k in range(len(models)):\n",
    "                    batch_x = model_data[k][0][c * batch_size: (c + 1) * batch_size]\n",
    "                    batch_y = model_data[k][1][c * batch_size: (c + 1) * batch_size]\n",
    "                    models[k].train_on_batch(batch_x, batch_y)\n",
    "                    \n",
    "                c += 1\n",
    "                c= c % num_batch\n",
    "                \n",
    "            if c_prev > c :\n",
    "                break\n",
    "\n",
    "            # Obtaining the weights from each model\n",
    "            '''for l in range(len(models)):\n",
    "                weights.append(models[l].layers[0].get_weights())\n",
    "\n",
    "            new_weight = weights[0]\n",
    "            \n",
    "            # Averaging the weights and assigning it to each model on the nodes\n",
    "            for l in range(1,n):\n",
    "                if l !=n-1:\n",
    "                    new_layer=[j+k for j,k in zip(new_weight,weights[l])]\n",
    "                else:\n",
    "                    new_layer=[(j+k)/n for j,k in zip(new_weight,weights[l])]\n",
    "                    \n",
    "            for l in range(len(models)):\n",
    "                models[l].set_weights(new_weight)'''\n",
    "\n",
    "\n",
    "        # Evalutaing the losses (train and test and appending it to the list)\n",
    "        if (i != epoch - 1) :\n",
    "            loss_tr = models[0].evaluate(train_data[0],train_data[1])\n",
    "            loss_te = models[0].evaluate(test_data[0],test_data[1])\n",
    "            print (\"Epoch \" + str(i) + \" of \" + str(epoch) + \" : train loss - \" + str(loss_tr[0]) + \" : train accuracy - \" + str(loss_tr[1]) + \" test loss - \" + str(loss_te[0])+ \" test accuracy - \" + str(loss_te[1]))\n",
    "            train_loss.append(loss_tr[0])\n",
    "            test_loss.append(loss_te[0])\n",
    "            \n",
    "    for l in range(len(models)):\n",
    "        weights.append(models[l].layers[0].get_weights())\n",
    "        new_weight = weights[0]\n",
    "            \n",
    "    # Averaging the weights and assigning it to each model on the nodes\n",
    "    for l in range(1,n):\n",
    "        if l !=n-1:\n",
    "            new_weight = [j+k for j,k in zip(new_weight,weights[l])]\n",
    "        else:\n",
    "            new_weight = [(j+k)/n for j,k in zip(new_weight,weights[l])]\n",
    "                    \n",
    "    for l in range(len(models)):\n",
    "            models[l].set_weights(new_weight)\n",
    "            \n",
    "\n",
    "    loss_tr = models[0].evaluate(train_data[0],train_data[1])\n",
    "    loss_te = models[0].evaluate(test_data[0],test_data[1])\n",
    "    print (\"Epoch \" + str(i) + \" of \" + str(epoch) + \" : train loss - \" + str(loss_tr[0]) + \" : train accuracy - \" + str(loss_tr[1]) + \" test loss - \" + str(loss_te[0])+ \" test accuracy - \" + str(loss_te[1]))\n",
    "    train_loss.append(loss_tr[0])\n",
    "    test_loss.append(loss_te[0])\n",
    "\n",
    "    \n",
    "    return (train_loss,test_loss)"
   ]
  },
  {
   "cell_type": "code",
   "execution_count": null,
   "metadata": {},
   "outputs": [],
   "source": [
    "model_parallel = k_model(10,784)\n",
    "local_oneshot_8_16_01 = local_sgd_oneshot_avg(model_parallel,8,16,0.01,50,128,(x_train,y_train),(x_test,y_test))"
   ]
  },
  {
   "cell_type": "code",
   "execution_count": null,
   "metadata": {},
   "outputs": [],
   "source": [
    "# Tuning the learning rate for time steps = 2,4,8,16,100\n",
    "\n",
    "# Time Step = 2\n",
    "model_parallel = k_model(10,784)\n",
    "local_8_2_001 = local_sgd(model_parallel,8,2,0.001,50,128,(x_train,y_train),(x_test,y_test))\n",
    "model_parallel = k_model(10,784)\n",
    "local_8_2_05 = local_sgd(model_parallel,8,2,0.05,50,128,(x_train,y_train),(x_test,y_test))\n",
    "model_parallel = k_model(10,784)\n",
    "local_8_2_1 = local_sgd(model_parallel,8,2,0.1,50,128,(x_train,y_train),(x_test,y_test))\n",
    "model_parallel = k_model(10,784)\n",
    "local_8_2_5 = local_sgd(model_parallel,8,2,0.5,50,128,(x_train,y_train),(x_test,y_test))\n",
    "\n",
    "# Time Step = 4\n",
    "model_parallel = k_model(10,784)\n",
    "local_8_4_001 = local_sgd(model_parallel,8,4,0.001,50,128,(x_train,y_train),(x_test,y_test))\n",
    "model_parallel = k_model(10,784)\n",
    "local_8_4_05 = local_sgd(model_parallel,8,4,0.05,50,128,(x_train,y_train),(x_test,y_test))\n",
    "model_parallel = k_model(10,784)\n",
    "local_8_4_1 = local_sgd(model_parallel,8,4,0.1,50,128,(x_train,y_train),(x_test,y_test))\n",
    "model_parallel = k_model(10,784)\n",
    "local_8_4_5 = local_sgd(model_parallel,8,4,0.5,50,128,(x_train,y_train),(x_test,y_test))\n",
    "\n",
    "# Time Step = 8\n",
    "model_parallel = k_model(10,784)\n",
    "local_8_8_001 = local_sgd(model_parallel,8,8,0.001,50,128,(x_train,y_train),(x_test,y_test))\n",
    "model_parallel = k_model(10,784)\n",
    "local_8_8_05 = local_sgd(model_parallel,8,8,0.05,50,128,(x_train,y_train),(x_test,y_test))\n",
    "model_parallel = k_model(10,784)\n",
    "local_8_8_1 = local_sgd(model_parallel,8,8,0.1,50,128,(x_train,y_train),(x_test,y_test))\n",
    "model_parallel = k_model(10,784)\n",
    "local_8_8_5 = local_sgd(model_parallel,8,8,0.5,50,128,(x_train,y_train),(x_test,y_test))\n",
    "\n",
    "# Time Step = 16\n",
    "model_parallel = k_model(10,784)\n",
    "local_8_16_001 = local_sgd(model_parallel,8,16,0.001,50,128,(x_train,y_train),(x_test,y_test))\n",
    "model_parallel = k_model(10,784)\n",
    "local_8_16_05 = local_sgd(model_parallel,8,16,0.05,50,128,(x_train,y_train),(x_test,y_test))\n",
    "model_parallel = k_model(10,784)\n",
    "local_8_16_1 = local_sgd(model_parallel,8,16,0.1,50,128,(x_train,y_train),(x_test,y_test))\n",
    "model_parallel = k_model(10,784)\n",
    "local_8_16_5 = local_sgd(model_parallel,8,16,0.5,50,128,(x_train,y_train),(x_test,y_test))\n",
    "\n",
    "\n"
   ]
  },
  {
   "cell_type": "code",
   "execution_count": 3,
   "metadata": {},
   "outputs": [
    {
     "ename": "NameError",
     "evalue": "name 'local_8_2_001' is not defined",
     "output_type": "error",
     "traceback": [
      "\u001b[0;31m---------------------------------------------------------------------------\u001b[0m",
      "\u001b[0;31mNameError\u001b[0m                                 Traceback (most recent call last)",
      "\u001b[0;32m<ipython-input-3-c45c5f10100f>\u001b[0m in \u001b[0;36m<module>\u001b[0;34m\u001b[0m\n\u001b[1;32m      1\u001b[0m \u001b[0;31m# Plotting losses for t = 2\u001b[0m\u001b[0;34m\u001b[0m\u001b[0;34m\u001b[0m\u001b[0;34m\u001b[0m\u001b[0m\n\u001b[0;32m----> 2\u001b[0;31m \u001b[0mlosses_8_t\u001b[0m \u001b[0;34m=\u001b[0m \u001b[0;34m[\u001b[0m\u001b[0mlocal_8_2_001\u001b[0m\u001b[0;34m,\u001b[0m\u001b[0mlocal_8_2_05\u001b[0m\u001b[0;34m,\u001b[0m\u001b[0mlocal_8_2_1\u001b[0m\u001b[0;34m,\u001b[0m\u001b[0mlocal_8_2_5\u001b[0m\u001b[0;34m,\u001b[0m\u001b[0mlocal_8_2_01\u001b[0m\u001b[0;34m]\u001b[0m\u001b[0;34m\u001b[0m\u001b[0;34m\u001b[0m\u001b[0m\n\u001b[0m\u001b[1;32m      3\u001b[0m \u001b[0mdesc\u001b[0m \u001b[0;34m=\u001b[0m \u001b[0;34m[\u001b[0m\u001b[0;34m'lr = 0.001'\u001b[0m\u001b[0;34m,\u001b[0m\u001b[0;34m'lr = 0.05'\u001b[0m\u001b[0;34m,\u001b[0m\u001b[0;34m'lr = 0.1'\u001b[0m\u001b[0;34m,\u001b[0m\u001b[0;34m'lr = 0.5'\u001b[0m\u001b[0;34m,\u001b[0m\u001b[0;34m'lr = 0.01'\u001b[0m\u001b[0;34m]\u001b[0m\u001b[0;34m\u001b[0m\u001b[0;34m\u001b[0m\u001b[0m\n\u001b[1;32m      4\u001b[0m \u001b[0mcombined_loss\u001b[0m\u001b[0;34m(\u001b[0m\u001b[0mlosses_8_t\u001b[0m\u001b[0;34m,\u001b[0m\u001b[0mdesc\u001b[0m\u001b[0;34m)\u001b[0m\u001b[0;34m\u001b[0m\u001b[0;34m\u001b[0m\u001b[0m\n",
      "\u001b[0;31mNameError\u001b[0m: name 'local_8_2_001' is not defined"
     ]
    }
   ],
   "source": [
    "# Plotting losses for t = 2\n",
    "losses_8_t = [local_8_2_001,local_8_2_05,local_8_2_1,local_8_2_5,local_8_2_01]\n",
    "desc = ['lr = 0.001','lr = 0.05','lr = 0.1','lr = 0.5','lr = 0.01']\n",
    "combined_loss(losses_8_t,desc)"
   ]
  },
  {
   "cell_type": "code",
   "execution_count": null,
   "metadata": {},
   "outputs": [],
   "source": [
    "# Plotting losses for t = 4\n",
    "losses_8_4 = [local_8_4_001,local_8_4_05,local_8_4_1,local_8_4_5,local_8_4_01]\n",
    "desc = ['lr = 0.001','lr = 0.05','lr = 0.1','lr = 0.5','lr = 0.01']\n",
    "combined_loss(losses_8_4,desc)"
   ]
  },
  {
   "cell_type": "code",
   "execution_count": null,
   "metadata": {},
   "outputs": [],
   "source": [
    "# Plotting losses for t = 8\n",
    "losses_8_8 = [local_8_8_001,local_8_8_05,local_8_8_1,local_8_8_5,local_8_8_01]\n",
    "desc = ['lr = 0.001','lr = 0.05','lr = 0.1','lr = 0.5','lr = 0.01']\n",
    "combined_loss(losses_8_8,desc)"
   ]
  },
  {
   "cell_type": "code",
   "execution_count": null,
   "metadata": {},
   "outputs": [],
   "source": [
    "# Plotting losses for t = 16\n",
    "losses_8_16 = [local_8_16_001,local_8_16_05,local_8_16_1,local_8_16_5,local_8_16_01]\n",
    "desc = ['lr = 0.001','lr = 0.05','lr = 0.1','lr = 0.5','lr = 0.01']\n",
    "combined_loss(losses_8_16,desc)"
   ]
  },
  {
   "cell_type": "code",
   "execution_count": null,
   "metadata": {},
   "outputs": [],
   "source": [
    "\n",
    "# Plotting the plots for different timesteps\n",
    "\n",
    "losses_opt = [local_8_2_1,local_8_4_1,local_8_8_1,local_8_16_01,local_oneshot_8_16_01]\n",
    "desc = ['time step = 2','time step = 4','time step = 8','time step = 16','one shot averaging']\n",
    "combined_loss(losses_opt,desc)"
   ]
  },
  {
   "cell_type": "code",
   "execution_count": null,
   "metadata": {},
   "outputs": [],
   "source": [
    "model_parallel = k_model(10,784)\n",
    "local_8_100_01 = local_sgd(model_parallel,8,100,0.01,50,128,(x_train,y_train),(x_test,y_test))"
   ]
  },
  {
   "cell_type": "code",
   "execution_count": null,
   "metadata": {},
   "outputs": [],
   "source": [
    "losses_time = [local_8_100_01,local_8_16_01,local_8_10_01,local_8_8_01,local_8_4_01,local_8_2_01]\n",
    "desc = ['t_step = 100','t_step = 16','t_step = 10','t_step = 8','t_step = 4','t_step = 2']\n",
    "combined_loss(losses_time,desc)"
   ]
  },
  {
   "cell_type": "code",
   "execution_count": null,
   "metadata": {},
   "outputs": [],
   "source": [
    "def elastic_avg_sgd(input_dim,output_dim,n,t,alpha,rho,epoch,batch_size,train_data,test_data): \n",
    "    '''\n",
    "    This function performs elastic averaging sgd. \n",
    "    \n",
    "    Input :\n",
    "       model : (keras model) The model that is to be placed on each node\n",
    "       n : number of nodes\n",
    "       epoch : the number of epochs\n",
    "       batch_size : size of the batch for each iteration\n",
    "       train_data : a tuple containing the training X and y\n",
    "       test_data : a tuple containing the test X and y\n",
    "       alpha : learning rate a float value\n",
    "       rho : averaging step for the center variable\n",
    "       \n",
    "    Output:\n",
    "       Returns a tuple containing Training and Test loss\n",
    "    '''\n",
    "    \n",
    "    # Initialising the variables \n",
    "    c = 0\n",
    "    train_loss = []\n",
    "    test_loss = []\n",
    "    model_data = []\n",
    "    models = []\n",
    "    \n",
    "    # Preparing n sets of data by shuffling and creating a list models having n instances of model\n",
    "    \n",
    "    for i in range(n):\n",
    "        model_data.append(shuffle(train_data[0],train_data[1]))\n",
    "        models.append(k_model(output_dim,input_dim))\n",
    "    \n",
    "    # The model at the central node \n",
    "    central_model = k_model(output_dim,input_dim)\n",
    "    central_model.compile(loss = keras.losses.categorical_crossentropy,\n",
    "                    optimizer = keras.optimizers.SGD(lr = alpha, momentum = 0.0, nesterov = False),\n",
    "                    metrics=['accuracy'])\n",
    "    \n",
    "    # Compiling all the models\n",
    "    for i in models:\n",
    "        i.compile(loss = keras.losses.categorical_crossentropy,\n",
    "                    optimizer = keras.optimizers.SGD(lr = alpha, momentum = 0.0, nesterov = False),\n",
    "                    metrics=['accuracy'])\n",
    "    \n",
    "    \n",
    "    # Calculating the center models\n",
    "    # Taking the first center model as the average of all the weights from the individual models on the nodes\n",
    "    weights = []\n",
    "    for l in range(len(models)):\n",
    "                weights.append(models[l].layers[0].get_weights())\n",
    "\n",
    "    new_weight = weights[0]\n",
    "            \n",
    "    # Averaging the weights and assigning it to each model on the nodes\n",
    "    for l in range(1,n):\n",
    "        if l !=n-1:\n",
    "            new_weight = [j+k for j,k in zip(new_weight,weights[l])]\n",
    "        else:\n",
    "            new_weight = [(j+k)/n for j,k in zip(new_weight,weights[l])]\n",
    "    \n",
    "    # Assigning the weights to the central model\n",
    "    central_model.set_weights(new_weight)\n",
    "            \n",
    "    # At present the loop is designed to handle only one layer in the network. Will be modified to accomodate any number of layers\n",
    "    for i in range(epoch):\n",
    "        # This loop runs as long as the subsequent updates in c causes it to increase. c becomes 0 whenever the epoch completes\n",
    "        while (True):\n",
    "            c_prev = c\n",
    "            \n",
    "            # After every t iteration averaging the gradients\n",
    "            for j in range(t):\n",
    "                for k in range(len(models)):\n",
    "                    batch_x = model_data[k][0][c * batch_size: (c + 1) * batch_size]\n",
    "                    batch_y = model_data[k][1][c * batch_size: (c + 1) * batch_size]\n",
    "                    models[k].train_on_batch(batch_x, batch_y)\n",
    "                    \n",
    "                c += 1\n",
    "                c= c % num_batch\n",
    "                \n",
    "            if c_prev > c :\n",
    "                break\n",
    "            \n",
    "            else :\n",
    "                # Obtaining the weights from each model\n",
    "                weights = []\n",
    "                for l in range(len(models)):\n",
    "                    weights.append(models[l].layers[0].get_weights())\n",
    "\n",
    "                # Updating the weights of the models on every node using previous central node value\n",
    "                central_weight = central_model.layers[0].get_weights()\n",
    "                for l in range(0,n):\n",
    "                    new_weight = list(np.array(weights[l]) - rho * (np.array(weights[l]) - np.array(central_weight)))\n",
    "                    models[l].set_weights(new_weight)\n",
    "\n",
    "                # Updating the weights on the central node\n",
    "                delta = list(np.array(weights[0]) - np.array(central_weight))\n",
    "\n",
    "                for l in range(1,n):\n",
    "                    temp = list(np.array(weights[l]) - np.array(central_weight))\n",
    "                    delta = list(np.array(delta) + np.array(temp))\n",
    "\n",
    "                central_weight = list(np.array(central_weight) + rho * np.array(delta))\n",
    "                central_model.layers[0].set_weights(central_weight)       \n",
    "            \n",
    "\n",
    "\n",
    "        # Evalutaing the losses (train and test and appending it to the list)\n",
    "        loss_tr = central_model.evaluate(train_data[0],train_data[1])\n",
    "        loss_te = central_model.evaluate(test_data[0],test_data[1])\n",
    "        print (\"Epoch \" + str(i) + \" of \" + str(epoch) + \" : train loss - \" + str(loss_tr[0]) + \" : train accuracy - \" + str(loss_tr[1]) + \" test loss - \" + str(loss_te[0])+ \" test accuracy - \" + str(loss_te[1]))\n",
    "        train_loss.append(loss_tr[0])\n",
    "        test_loss.append(loss_te[0])\n",
    "    \n",
    "    return (train_loss,test_loss)"
   ]
  },
  {
   "cell_type": "code",
   "execution_count": null,
   "metadata": {},
   "outputs": [],
   "source": [
    "elastic_2_10_001 = elastic_avg_sgd(784,10,2,10,0.01,0.1,50,128,(x_train,y_train),(x_test,y_test))"
   ]
  },
  {
   "cell_type": "code",
   "execution_count": null,
   "metadata": {},
   "outputs": [],
   "source": []
  },
  {
   "cell_type": "code",
   "execution_count": null,
   "metadata": {},
   "outputs": [],
   "source": [
    "1+1"
   ]
  },
  {
   "cell_type": "code",
   "execution_count": 41,
   "metadata": {},
   "outputs": [
    {
     "data": {
      "text/plain": [
       "2"
      ]
     },
     "execution_count": 41,
     "metadata": {},
     "output_type": "execute_result"
    }
   ],
   "source": [
    "1+1"
   ]
  },
  {
   "cell_type": "code",
   "execution_count": 43,
   "metadata": {},
   "outputs": [
    {
     "data": {
      "text/plain": [
       "1"
      ]
     },
     "execution_count": 43,
     "metadata": {},
     "output_type": "execute_result"
    }
   ],
   "source": [
    "1"
   ]
  },
  {
   "cell_type": "code",
   "execution_count": null,
   "metadata": {},
   "outputs": [],
   "source": []
  }
 ],
 "metadata": {
  "kernelspec": {
   "display_name": "Python 3",
   "language": "python",
   "name": "python3"
  },
  "language_info": {
   "codemirror_mode": {
    "name": "ipython",
    "version": 3
   },
   "file_extension": ".py",
   "mimetype": "text/x-python",
   "name": "python",
   "nbconvert_exporter": "python",
   "pygments_lexer": "ipython3",
   "version": "3.7.4"
  }
 },
 "nbformat": 4,
 "nbformat_minor": 4
}
